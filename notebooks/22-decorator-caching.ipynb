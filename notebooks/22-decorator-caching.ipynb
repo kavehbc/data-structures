{
 "cells": [
  {
   "cell_type": "markdown",
   "id": "8fd84107-c48a-4555-9705-ed032bcbb0b1",
   "metadata": {},
   "source": [
    "# Decorator / Caching"
   ]
  },
  {
   "cell_type": "code",
   "execution_count": 35,
   "id": "9edf45e2-5d40-49d3-b7ff-537a0f567b6e",
   "metadata": {
    "execution": {
     "iopub.execute_input": "2024-07-08T15:08:57.350540Z",
     "iopub.status.busy": "2024-07-08T15:08:57.350540Z",
     "iopub.status.idle": "2024-07-08T15:08:57.362333Z",
     "shell.execute_reply": "2024-07-08T15:08:57.359538Z",
     "shell.execute_reply.started": "2024-07-08T15:08:57.350540Z"
    }
   },
   "outputs": [],
   "source": [
    "import time\n",
    "import datetime\n",
    "import pickle\n",
    "import os\n",
    "import functools"
   ]
  },
  {
   "cell_type": "code",
   "execution_count": 36,
   "id": "009a9ed5-e9a0-4403-b5f7-bd0b1de76ecd",
   "metadata": {
    "execution": {
     "iopub.execute_input": "2024-07-08T15:09:29.639700Z",
     "iopub.status.busy": "2024-07-08T15:09:29.637174Z",
     "iopub.status.idle": "2024-07-08T15:09:29.658044Z",
     "shell.execute_reply": "2024-07-08T15:09:29.655946Z",
     "shell.execute_reply.started": "2024-07-08T15:09:29.639700Z"
    }
   },
   "outputs": [],
   "source": [
    "cached_data = {}\n",
    "\n",
    "def cache(ttl=15):\n",
    "    \"\"\"\n",
    "    @ttl: time to live (seconds)\n",
    "    \"\"\"\n",
    "    def decorator(func):\n",
    "        @functools.wraps(func)\n",
    "        def wrapper(*args, **kwargs):\n",
    "            global cached_data\n",
    "            if os.path.exists(\"cache.pkl\"):\n",
    "                cached_data = pickle.load(open(\"cache.pkl\", \"rb\"))\n",
    "            \n",
    "            now = datetime.datetime.now()\n",
    "            key_name = f\"{func.__name__}_{str(args)}_{str(kwargs)}\"\n",
    "            if key_name in cached_data.keys():\n",
    "                if cached_data[key_name][\"expiry\"] >= now:\n",
    "                    return cached_data[key_name][\"value\"]\n",
    "                # else:\n",
    "                #     del cached_data[key_name]\n",
    "\n",
    "            value = func(*args, **kwargs)\n",
    "            t_delta = datetime.timedelta(seconds=ttl)\n",
    "            expiry = now + t_delta\n",
    "            cached_data[key_name] = {}\n",
    "            cached_data[key_name][\"expiry\"] = expiry\n",
    "            cached_data[key_name][\"value\"] = value\n",
    "            pickle.dump(cached_data, open(\"cache.pkl\", \"wb\"))\n",
    "            \n",
    "            return value\n",
    "        return wrapper\n",
    "    return decorator"
   ]
  },
  {
   "cell_type": "code",
   "execution_count": 40,
   "id": "501e8047-4bf9-41f6-bfdd-5a15be7c33ad",
   "metadata": {
    "execution": {
     "iopub.execute_input": "2024-07-08T15:09:42.428275Z",
     "iopub.status.busy": "2024-07-08T15:09:42.427280Z",
     "iopub.status.idle": "2024-07-08T15:09:42.447699Z",
     "shell.execute_reply": "2024-07-08T15:09:42.444697Z",
     "shell.execute_reply.started": "2024-07-08T15:09:42.428275Z"
    }
   },
   "outputs": [],
   "source": [
    "@cache(ttl=180)\n",
    "def calculate(a, b):\n",
    "    time.sleep(5)\n",
    "    return a + b\n",
    "\n",
    "def validate():\n",
    "    time.sleep(2)\n",
    "    return 5"
   ]
  },
  {
   "cell_type": "code",
   "execution_count": 41,
   "id": "46c51a30-8b81-4d3d-8ef1-af3a0a217ab1",
   "metadata": {
    "execution": {
     "iopub.execute_input": "2024-07-08T15:09:44.292697Z",
     "iopub.status.busy": "2024-07-08T15:09:44.292697Z",
     "iopub.status.idle": "2024-07-08T15:09:44.310366Z",
     "shell.execute_reply": "2024-07-08T15:09:44.305768Z",
     "shell.execute_reply.started": "2024-07-08T15:09:44.292697Z"
    }
   },
   "outputs": [
    {
     "data": {
      "text/plain": [
       "'validate'"
      ]
     },
     "execution_count": 41,
     "metadata": {},
     "output_type": "execute_result"
    }
   ],
   "source": [
    "func = validate\n",
    "func.__name__"
   ]
  },
  {
   "cell_type": "code",
   "execution_count": 42,
   "id": "d4d738e3-69bb-47e9-a448-300fc6883ac8",
   "metadata": {
    "execution": {
     "iopub.execute_input": "2024-07-08T15:09:45.760202Z",
     "iopub.status.busy": "2024-07-08T15:09:45.759693Z",
     "iopub.status.idle": "2024-07-08T15:09:45.775217Z",
     "shell.execute_reply": "2024-07-08T15:09:45.773217Z",
     "shell.execute_reply.started": "2024-07-08T15:09:45.760202Z"
    }
   },
   "outputs": [
    {
     "data": {
      "text/plain": [
       "'calculate'"
      ]
     },
     "execution_count": 42,
     "metadata": {},
     "output_type": "execute_result"
    }
   ],
   "source": [
    "func = calculate\n",
    "func.__name__"
   ]
  },
  {
   "cell_type": "code",
   "execution_count": 5,
   "id": "5ee5a2c2-8fa5-4ca6-ad2c-d13e32a8d975",
   "metadata": {
    "execution": {
     "iopub.execute_input": "2024-07-08T14:29:32.347780Z",
     "iopub.status.busy": "2024-07-08T14:29:32.347780Z",
     "iopub.status.idle": "2024-07-08T14:29:32.389522Z",
     "shell.execute_reply": "2024-07-08T14:29:32.387010Z",
     "shell.execute_reply.started": "2024-07-08T14:29:32.347780Z"
    }
   },
   "outputs": [
    {
     "name": "stdout",
     "output_type": "stream",
     "text": [
      "CPU times: total: 0 ns\n",
      "Wall time: 15.5 ms\n"
     ]
    },
    {
     "data": {
      "text/plain": [
       "3"
      ]
     },
     "execution_count": 5,
     "metadata": {},
     "output_type": "execute_result"
    }
   ],
   "source": [
    "%%time\n",
    "calculate(1, 2)"
   ]
  },
  {
   "cell_type": "code",
   "execution_count": 81,
   "id": "c9c5206f-6292-4968-82c8-83a10c47e7f5",
   "metadata": {
    "execution": {
     "iopub.execute_input": "2024-07-08T14:18:35.140865Z",
     "iopub.status.busy": "2024-07-08T14:18:35.140865Z",
     "iopub.status.idle": "2024-07-08T14:18:40.169846Z",
     "shell.execute_reply": "2024-07-08T14:18:40.167247Z",
     "shell.execute_reply.started": "2024-07-08T14:18:35.140865Z"
    }
   },
   "outputs": [
    {
     "name": "stdout",
     "output_type": "stream",
     "text": [
      "CPU times: total: 0 ns\n",
      "Wall time: 5.01 s\n"
     ]
    },
    {
     "data": {
      "text/plain": [
       "9"
      ]
     },
     "execution_count": 81,
     "metadata": {},
     "output_type": "execute_result"
    }
   ],
   "source": [
    "%%time\n",
    "calculate(2, 7)"
   ]
  },
  {
   "cell_type": "code",
   "execution_count": 27,
   "id": "ee90c44b-5f00-44fe-bfd6-6fbc9d23497e",
   "metadata": {
    "execution": {
     "iopub.execute_input": "2024-07-08T12:44:59.132077Z",
     "iopub.status.busy": "2024-07-08T12:44:59.132077Z",
     "iopub.status.idle": "2024-07-08T12:44:59.144702Z",
     "shell.execute_reply": "2024-07-08T12:44:59.143652Z",
     "shell.execute_reply.started": "2024-07-08T12:44:59.132077Z"
    }
   },
   "outputs": [
    {
     "name": "stdout",
     "output_type": "stream",
     "text": [
      "CPU times: total: 0 ns\n",
      "Wall time: 0 ns\n"
     ]
    },
    {
     "data": {
      "text/plain": [
       "5"
      ]
     },
     "execution_count": 27,
     "metadata": {},
     "output_type": "execute_result"
    }
   ],
   "source": [
    "%%time\n",
    "validate()"
   ]
  },
  {
   "cell_type": "code",
   "execution_count": 6,
   "id": "7c81723d-2aaa-4188-abf4-a67cb7334193",
   "metadata": {
    "execution": {
     "iopub.execute_input": "2024-07-08T14:29:40.071660Z",
     "iopub.status.busy": "2024-07-08T14:29:40.070652Z",
     "iopub.status.idle": "2024-07-08T14:29:40.081716Z",
     "shell.execute_reply": "2024-07-08T14:29:40.079660Z",
     "shell.execute_reply.started": "2024-07-08T14:29:40.071660Z"
    }
   },
   "outputs": [
    {
     "data": {
      "text/plain": [
       "{'calculate_(1, 2)_{}': {'expiry': datetime.datetime(2024, 7, 8, 10, 31, 40, 719532),\n",
       "  'value': 3}}"
      ]
     },
     "execution_count": 6,
     "metadata": {},
     "output_type": "execute_result"
    }
   ],
   "source": [
    "cached_data"
   ]
  },
  {
   "cell_type": "code",
   "execution_count": 34,
   "id": "262d6b33-950e-4917-bc6b-8f90c47ee2fa",
   "metadata": {
    "execution": {
     "iopub.execute_input": "2024-07-08T13:18:29.130110Z",
     "iopub.status.busy": "2024-07-08T13:18:29.128504Z",
     "iopub.status.idle": "2024-07-08T13:18:29.156416Z",
     "shell.execute_reply": "2024-07-08T13:18:29.152418Z",
     "shell.execute_reply.started": "2024-07-08T13:18:29.130110Z"
    }
   },
   "outputs": [
    {
     "data": {
      "text/plain": [
       "('(1, 2)', \"{'a': 1, 'b': 2}\")"
      ]
     },
     "execution_count": 34,
     "metadata": {},
     "output_type": "execute_result"
    }
   ],
   "source": [
    "args = (1, 2)\n",
    "kwargs = {'a': 1, 'b': 2}\n",
    "str(args), str(kwargs)"
   ]
  },
  {
   "cell_type": "raw",
   "id": "cec12b8c-6ebd-436b-9074-408ae91dca36",
   "metadata": {},
   "source": [
    "{'calculate': \n",
    "     {'args': (1, 2),\n",
    "      'kwargs': {'a': 1, 'b': 2},\n",
    "      'value': 3},\n",
    " 'calculate': \n",
    "    {'args': (1, 5),\n",
    "      'kwargs': {},\n",
    "      'value': 5}\n",
    " }\n",
    "\n",
    "\n",
    "\n",
    "{'calculate_(1, 2)_{\"a\": 1, \"b\": 2}':\n",
    "    {expiry: '2024-07-08 9:30 AM',\n",
    "     value: 3},\n",
    " 'calculate_(1, 5)_{}': 5\n",
    " }"
   ]
  },
  {
   "cell_type": "code",
   "execution_count": 54,
   "id": "209f2e02-048c-4924-aaab-683395419d10",
   "metadata": {
    "execution": {
     "iopub.execute_input": "2024-07-08T14:05:44.852610Z",
     "iopub.status.busy": "2024-07-08T14:05:44.852610Z",
     "iopub.status.idle": "2024-07-08T14:05:44.873531Z",
     "shell.execute_reply": "2024-07-08T14:05:44.868105Z",
     "shell.execute_reply.started": "2024-07-08T14:05:44.852610Z"
    }
   },
   "outputs": [
    {
     "data": {
      "text/plain": [
       "(datetime.datetime(2024, 7, 8, 10, 5, 44, 854611),\n",
       " datetime.timedelta(seconds=20),\n",
       " datetime.datetime(2024, 7, 8, 10, 6, 4, 854611))"
      ]
     },
     "execution_count": 54,
     "metadata": {},
     "output_type": "execute_result"
    }
   ],
   "source": [
    "now = datetime.datetime.now()\n",
    "ttl = datetime.timedelta(seconds=20)\n",
    "expiry = now + ttl\n",
    "now, ttl, expiry"
   ]
  },
  {
   "cell_type": "code",
   "execution_count": null,
   "id": "68342e40-795a-431c-8b6e-e915bba3d5fb",
   "metadata": {},
   "outputs": [],
   "source": [
    "def retry(n=3):\n",
    "    def decorator(func):\n",
    "        def wrapper(*args, **kwargs):\n",
    "            pass\n",
    "            # logic comes here\n",
    "        return wrapper\n",
    "    return decorator"
   ]
  },
  {
   "cell_type": "code",
   "execution_count": 31,
   "id": "994ed7fe-276f-45b0-aa72-2e1bf310d9e5",
   "metadata": {
    "execution": {
     "iopub.execute_input": "2024-07-08T15:02:45.240288Z",
     "iopub.status.busy": "2024-07-08T15:02:45.240288Z",
     "iopub.status.idle": "2024-07-08T15:02:45.249242Z",
     "shell.execute_reply": "2024-07-08T15:02:45.247164Z",
     "shell.execute_reply.started": "2024-07-08T15:02:45.240288Z"
    }
   },
   "outputs": [],
   "source": [
    "def f2(a, b):\n",
    "    print(a)\n",
    "    print(b)\n",
    "    \n",
    "def f(*args, **kwargs):\n",
    "    print(\"Arguments:\", args)\n",
    "    print(\"KWArguments:\", kwargs)\n",
    "    # f2(*args, **kwargs)\n",
    "    return None\n",
    "\n",
    "# f(1, 5)\n",
    "# f(a=1, b=5)\n",
    "# f(1, b=5)"
   ]
  },
  {
   "cell_type": "code",
   "execution_count": 30,
   "id": "c8358edb-3957-408a-91ca-f38105949d6a",
   "metadata": {
    "execution": {
     "iopub.execute_input": "2024-07-08T15:01:05.062318Z",
     "iopub.status.busy": "2024-07-08T15:01:05.061309Z",
     "iopub.status.idle": "2024-07-08T15:01:05.087455Z",
     "shell.execute_reply": "2024-07-08T15:01:05.085466Z",
     "shell.execute_reply.started": "2024-07-08T15:01:05.062318Z"
    }
   },
   "outputs": [
    {
     "name": "stdout",
     "output_type": "stream",
     "text": [
      "Arguments: (1, 2, 3, 4, 5)\n",
      "KWArguments: {'b': 3, 'a': 6, 'd': 'z'}\n",
      "(1, 2, 3, 4, 5)\n",
      "{'b': 3, 'a': 6, 'd': 'z'}\n"
     ]
    }
   ],
   "source": [
    "f(1, 2, 3, 4, 5, b=3, a=6, d='z')"
   ]
  },
  {
   "cell_type": "code",
   "execution_count": null,
   "id": "5497241c-410b-4b32-aff9-d9ceaa13f88e",
   "metadata": {},
   "outputs": [],
   "source": [
    "f2((1, 2, 3, 4, 5),\n",
    "   {'b': 3, 'a': 6, 'd': 'z'})"
   ]
  }
 ],
 "metadata": {
  "kernelspec": {
   "display_name": "Python 3 (ipykernel)",
   "language": "python",
   "name": "python3"
  },
  "language_info": {
   "codemirror_mode": {
    "name": "ipython",
    "version": 3
   },
   "file_extension": ".py",
   "mimetype": "text/x-python",
   "name": "python",
   "nbconvert_exporter": "python",
   "pygments_lexer": "ipython3",
   "version": "3.10.13"
  }
 },
 "nbformat": 4,
 "nbformat_minor": 5
}
