{
 "cells": [
  {
   "cell_type": "markdown",
   "id": "488eb775-21f1-42e4-ae50-7a3ebdbd54be",
   "metadata": {},
   "source": [
    "# Exercise"
   ]
  },
  {
   "cell_type": "markdown",
   "id": "cc026913-2f3b-4859-83f4-f6c29cfb5b2f",
   "metadata": {},
   "source": [
    "Let's create a full deck of 52 playing card. Then pick 10 cards randomly from the deck."
   ]
  },
  {
   "cell_type": "code",
   "execution_count": 4,
   "id": "b1efa021-a645-47f5-9cc5-90260fab958a",
   "metadata": {},
   "outputs": [],
   "source": [
    "import random"
   ]
  },
  {
   "cell_type": "code",
   "execution_count": 5,
   "id": "95b0a5bf-d687-4054-a944-86799f5c7a10",
   "metadata": {},
   "outputs": [
    {
     "name": "stdout",
     "output_type": "stream",
     "text": [
      "['♣ A', '♣ 2', '♣ 3', '♣ 4', '♣ 5', '♣ 6', '♣ 7', '♣ 8', '♣ 9', '♣ 10', '♣ J', '♣ Q', '♣ K', '♦ A', '♦ 2', '♦ 3', '♦ 4', '♦ 5', '♦ 6', '♦ 7', '♦ 8', '♦ 9', '♦ 10', '♦ J', '♦ Q', '♦ K', '♥ A', '♥ 2', '♥ 3', '♥ 4', '♥ 5', '♥ 6', '♥ 7', '♥ 8', '♥ 9', '♥ 10', '♥ J', '♥ Q', '♥ K', '♠ A', '♠ 2', '♠ 3', '♠ 4', '♠ 5', '♠ 6', '♠ 7', '♠ 8', '♠ 9', '♠ 10', '♠ J', '♠ Q', '♠ K']\n"
     ]
    }
   ],
   "source": [
    "# initialize my full deck of cards\n",
    "\n",
    "full_deck = []\n",
    "card_names = [\"♣\", \"♦\", \"♥\", \"♠\"]\n",
    "for symbol in card_names:\n",
    "    full_deck.append(f\"{symbol} A\")\n",
    "\n",
    "    for card_number in range(2, 11):\n",
    "        full_deck.append(f\"{symbol} {card_number}\")\n",
    "\n",
    "    full_deck.append(f\"{symbol} J\")\n",
    "    full_deck.append(f\"{symbol} Q\")\n",
    "    full_deck.append(f\"{symbol} K\")\n",
    "    \n",
    "print(full_deck)"
   ]
  },
  {
   "cell_type": "code",
   "execution_count": 7,
   "id": "281e1b51-9163-424f-a4d7-f78ed2a127e2",
   "metadata": {},
   "outputs": [
    {
     "data": {
      "text/plain": [
       "['♥ 7', '♥ 4', '♣ 4', '♠ Q', '♠ A', '♦ 9', '♥ Q', '♣ K', '♥ 5', '♥ 8']"
      ]
     },
     "execution_count": 7,
     "metadata": {},
     "output_type": "execute_result"
    }
   ],
   "source": [
    "picked_cards = []\n",
    "number_of_picked_cards = 10\n",
    "\n",
    "for i in range(number_of_picked_cards):\n",
    "    random_index = random.randint(0, len(full_deck) - 1)\n",
    "    picked_cards.append(full_deck.pop(random_index))\n",
    "    \n",
    "picked_cards"
   ]
  },
  {
   "cell_type": "code",
   "execution_count": 9,
   "id": "6570ce39-9b29-4d27-906c-6daa51bb758b",
   "metadata": {},
   "outputs": [
    {
     "name": "stdout",
     "output_type": "stream",
     "text": [
      "['♣ A', '♣ 2', '♣ 3', '♣ 5', '♣ 6', '♣ 7', '♣ 8', '♣ 9', '♣ 10', '♣ J', '♣ Q', '♦ A', '♦ 2', '♦ 3', '♦ 4', '♦ 5', '♦ 6', '♦ 7', '♦ 8', '♦ 10', '♦ J', '♦ Q', '♦ K', '♥ A', '♥ 2', '♥ 3', '♥ 6', '♥ 9', '♥ 10', '♥ J', '♥ K', '♠ 2', '♠ 3', '♠ 4', '♠ 5', '♠ 6', '♠ 7', '♠ 8', '♠ 9', '♠ 10', '♠ J', '♠ K']\n"
     ]
    }
   ],
   "source": [
    "print(full_deck)"
   ]
  },
  {
   "cell_type": "markdown",
   "id": "445d6612-8dca-4728-a68b-e1f0e86986e1",
   "metadata": {},
   "source": [
    "## Merging Sorted Lists"
   ]
  },
  {
   "cell_type": "markdown",
   "id": "713a6f80-c1ab-4112-8185-31d36ae2bb2d",
   "metadata": {},
   "source": [
    "Let's assume that we have two sorted list.\n",
    "How can we merge these two lists to have a sorted merged list."
   ]
  },
  {
   "cell_type": "code",
   "execution_count": 92,
   "id": "96fdacd1-10f7-4ebb-bc36-0db01a3ae061",
   "metadata": {},
   "outputs": [],
   "source": [
    "import numpy as np"
   ]
  },
  {
   "cell_type": "code",
   "execution_count": 93,
   "id": "6741bc8d-e4a9-4de7-840a-e99adcd0b4d5",
   "metadata": {},
   "outputs": [],
   "source": [
    "list_1 = [3, 6, 8, 10, 12]\n",
    "list_2 = [1, 4, 7, 9, 13, 15, 16, np.nan, np.nan, np.nan, np.nan, np.nan]"
   ]
  },
  {
   "cell_type": "code",
   "execution_count": 94,
   "id": "b6d8723b-8ad2-46ea-9219-1a23bdc630d7",
   "metadata": {},
   "outputs": [],
   "source": [
    "none_index = len(list_2) - 1\n",
    "last_index = list_2.index(max(list_2))\n",
    "\n",
    "while len(list_1) > 0:\n",
    "    list_1_last = list_1[-1]\n",
    "    list_2_last = list_2[last_index]\n",
    "\n",
    "    if list_1_last > list_2_last:\n",
    "        list_2[none_index] = list_1_last\n",
    "        list_1.pop()\n",
    "    else:\n",
    "        list_2[none_index] = list_2_last\n",
    "        list_2[last_index] = np.nan\n",
    "        last_index -= 1\n",
    "\n",
    "    none_index -= 1"
   ]
  },
  {
   "cell_type": "code",
   "execution_count": 95,
   "id": "74175004-1887-4c94-b8f4-e2eadeea9c90",
   "metadata": {},
   "outputs": [
    {
     "data": {
      "text/plain": [
       "[]"
      ]
     },
     "execution_count": 95,
     "metadata": {},
     "output_type": "execute_result"
    }
   ],
   "source": [
    "list_1"
   ]
  },
  {
   "cell_type": "code",
   "execution_count": 96,
   "id": "24fda54e-69b1-4c76-af6f-b1465cf68b18",
   "metadata": {},
   "outputs": [
    {
     "data": {
      "text/plain": [
       "[1, 3, 4, 6, 7, 8, 9, 10, 12, 13, 15, 16]"
      ]
     },
     "execution_count": 96,
     "metadata": {},
     "output_type": "execute_result"
    }
   ],
   "source": [
    "list_2"
   ]
  },
  {
   "cell_type": "code",
   "execution_count": null,
   "id": "81fea77e-5986-4a20-8292-0e6cc830f65c",
   "metadata": {},
   "outputs": [],
   "source": []
  }
 ],
 "metadata": {
  "kernelspec": {
   "display_name": "Python 3 (ipykernel)",
   "language": "python",
   "name": "python3"
  },
  "language_info": {
   "codemirror_mode": {
    "name": "ipython",
    "version": 3
   },
   "file_extension": ".py",
   "mimetype": "text/x-python",
   "name": "python",
   "nbconvert_exporter": "python",
   "pygments_lexer": "ipython3",
   "version": "3.10.13"
  }
 },
 "nbformat": 4,
 "nbformat_minor": 5
}
