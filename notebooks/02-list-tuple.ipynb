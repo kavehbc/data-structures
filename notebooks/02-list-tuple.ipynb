{
 "cells": [
  {
   "cell_type": "markdown",
   "id": "89efeae8-defe-4067-91eb-c4fed006ad51",
   "metadata": {},
   "source": [
    "# List and Tuple"
   ]
  },
  {
   "cell_type": "markdown",
   "id": "d51b9a7e-b332-4bd9-8421-6850780c2095",
   "metadata": {},
   "source": [
    "## Dynamic Data Typing"
   ]
  },
  {
   "cell_type": "code",
   "execution_count": 1,
   "id": "ab556bd0-e37c-40ca-99af-c9c41514d969",
   "metadata": {
    "execution": {
     "iopub.execute_input": "2024-06-24T19:43:10.079814Z",
     "iopub.status.busy": "2024-06-24T19:43:10.079814Z",
     "iopub.status.idle": "2024-06-24T19:43:10.103814Z",
     "shell.execute_reply": "2024-06-24T19:43:10.101829Z",
     "shell.execute_reply.started": "2024-06-24T19:43:10.079814Z"
    }
   },
   "outputs": [
    {
     "name": "stdout",
     "output_type": "stream",
     "text": [
      "Hello\n"
     ]
    }
   ],
   "source": [
    "a = 'Hello' # string\n",
    "a"
   ]
  },
  {
   "cell_type": "code",
   "execution_count": 2,
   "id": "9e3c8487-7226-4041-8dbd-039e3b78c350",
   "metadata": {
    "execution": {
     "iopub.execute_input": "2024-06-24T19:43:10.105814Z",
     "iopub.status.busy": "2024-06-24T19:43:10.105814Z",
     "iopub.status.idle": "2024-06-24T19:43:10.119820Z",
     "shell.execute_reply": "2024-06-24T19:43:10.117849Z",
     "shell.execute_reply.started": "2024-06-24T19:43:10.105814Z"
    }
   },
   "outputs": [
    {
     "name": "stdout",
     "output_type": "stream",
     "text": [
      "5\n"
     ]
    }
   ],
   "source": [
    "a = 5 # int\n",
    "a"
   ]
  },
  {
   "cell_type": "code",
   "execution_count": null,
   "id": "6bd78b5f-acb3-4620-ad8a-a2a11075b7ad",
   "metadata": {},
   "outputs": [],
   "source": [
    "a = 3.2 # float\n",
    "a"
   ]
  },
  {
   "cell_type": "markdown",
   "id": "59c0d9b3-7fe1-4422-b2a0-9b153aea6fc9",
   "metadata": {},
   "source": [
    "## List"
   ]
  },
  {
   "cell_type": "code",
   "execution_count": 2,
   "id": "f39febce-d844-411d-8f45-6fb06bd43730",
   "metadata": {},
   "outputs": [],
   "source": [
    "lst_names = [\"John\", \"Mary\", \"Oscar\", \"James\", \"Kaveh\"]"
   ]
  },
  {
   "cell_type": "code",
   "execution_count": 4,
   "id": "1b7fd595-31c1-44a8-84c5-3dac19af2fc8",
   "metadata": {
    "execution": {
     "iopub.execute_input": "2024-06-24T19:43:10.162816Z",
     "iopub.status.busy": "2024-06-24T19:43:10.162816Z",
     "iopub.status.idle": "2024-06-24T19:43:10.184822Z",
     "shell.execute_reply": "2024-06-24T19:43:10.181817Z",
     "shell.execute_reply.started": "2024-06-24T19:43:10.162816Z"
    }
   },
   "outputs": [
    {
     "data": {
      "text/plain": [
       "['John', 'Mary', 'Oscar', 'James', 'Kaveh']"
      ]
     },
     "execution_count": 4,
     "metadata": {},
     "output_type": "execute_result"
    }
   ],
   "source": [
    "lst_names"
   ]
  },
  {
   "cell_type": "code",
   "execution_count": 5,
   "id": "a7f52309-11f4-4dcb-b667-9ef67b436ee7",
   "metadata": {
    "execution": {
     "iopub.execute_input": "2024-06-24T19:43:10.186813Z",
     "iopub.status.busy": "2024-06-24T19:43:10.186813Z",
     "iopub.status.idle": "2024-06-24T19:43:10.199815Z",
     "shell.execute_reply": "2024-06-24T19:43:10.197813Z",
     "shell.execute_reply.started": "2024-06-24T19:43:10.186813Z"
    }
   },
   "outputs": [
    {
     "data": {
      "text/plain": [
       "5"
      ]
     },
     "execution_count": 5,
     "metadata": {},
     "output_type": "execute_result"
    }
   ],
   "source": [
    "len(lst_names)"
   ]
  },
  {
   "cell_type": "code",
   "execution_count": 6,
   "id": "cc2ace4f-10b7-458d-9253-da226e6aff02",
   "metadata": {
    "execution": {
     "iopub.execute_input": "2024-06-24T19:43:10.202813Z",
     "iopub.status.busy": "2024-06-24T19:43:10.202813Z",
     "iopub.status.idle": "2024-06-24T19:43:10.215815Z",
     "shell.execute_reply": "2024-06-24T19:43:10.213813Z",
     "shell.execute_reply.started": "2024-06-24T19:43:10.202813Z"
    }
   },
   "outputs": [
    {
     "data": {
      "text/plain": [
       "'John'"
      ]
     },
     "execution_count": 6,
     "metadata": {},
     "output_type": "execute_result"
    }
   ],
   "source": [
    "lst_names[0]"
   ]
  },
  {
   "cell_type": "code",
   "execution_count": 7,
   "id": "5b8986ea-ec12-4626-8783-7725c49ba5d9",
   "metadata": {
    "execution": {
     "iopub.execute_input": "2024-06-24T19:43:10.224811Z",
     "iopub.status.busy": "2024-06-24T19:43:10.223812Z",
     "iopub.status.idle": "2024-06-24T19:43:10.245814Z",
     "shell.execute_reply": "2024-06-24T19:43:10.244815Z",
     "shell.execute_reply.started": "2024-06-24T19:43:10.224811Z"
    }
   },
   "outputs": [
    {
     "data": {
      "text/plain": [
       "'Kaveh'"
      ]
     },
     "execution_count": 7,
     "metadata": {},
     "output_type": "execute_result"
    }
   ],
   "source": [
    "lst_names[-1]"
   ]
  },
  {
   "cell_type": "markdown",
   "id": "a821ea46-4948-4cf7-b0c1-d1fd3a792f32",
   "metadata": {},
   "source": [
    "### Slicing"
   ]
  },
  {
   "cell_type": "code",
   "execution_count": 3,
   "id": "12d91db2-1655-4711-8e39-8ee87cd1f4f1",
   "metadata": {},
   "outputs": [
    {
     "data": {
      "text/plain": [
       "['John', 'Mary', 'Oscar', 'James', 'Kaveh']"
      ]
     },
     "execution_count": 3,
     "metadata": {},
     "output_type": "execute_result"
    }
   ],
   "source": [
    "lst_names"
   ]
  },
  {
   "cell_type": "code",
   "execution_count": 5,
   "id": "f7414eb7-94d5-488b-95a8-8b02b586739d",
   "metadata": {},
   "outputs": [
    {
     "data": {
      "text/plain": [
       "['Mary', 'Oscar', 'James']"
      ]
     },
     "execution_count": 5,
     "metadata": {},
     "output_type": "execute_result"
    }
   ],
   "source": [
    "lst_names[1:4]"
   ]
  },
  {
   "cell_type": "code",
   "execution_count": 7,
   "id": "9c97b52b-99f6-4a90-b9e4-e561d2ee4772",
   "metadata": {},
   "outputs": [
    {
     "data": {
      "text/plain": [
       "['Mary', 'James']"
      ]
     },
     "execution_count": 7,
     "metadata": {},
     "output_type": "execute_result"
    }
   ],
   "source": [
    "lst_names[1:4:2] # [start:end:step]"
   ]
  },
  {
   "cell_type": "markdown",
   "id": "c77b2ef2-7836-4bf6-9854-f83252d15e02",
   "metadata": {},
   "source": [
    "### Manipulation"
   ]
  },
  {
   "cell_type": "code",
   "execution_count": 8,
   "id": "44733a16-1fd3-48c6-9c32-67a9f77a4ac9",
   "metadata": {
    "execution": {
     "iopub.execute_input": "2024-06-24T19:43:10.247818Z",
     "iopub.status.busy": "2024-06-24T19:43:10.246813Z",
     "iopub.status.idle": "2024-06-24T19:43:10.260815Z",
     "shell.execute_reply": "2024-06-24T19:43:10.259812Z",
     "shell.execute_reply.started": "2024-06-24T19:43:10.247818Z"
    }
   },
   "outputs": [
    {
     "data": {
      "text/plain": [
       "['John', 'Mary', 'Oscar', 'James', 'Kaveh', 'Lucas']"
      ]
     },
     "execution_count": 8,
     "metadata": {},
     "output_type": "execute_result"
    }
   ],
   "source": [
    "lst_names.append(\"Lucas\")\n",
    "lst_names"
   ]
  },
  {
   "cell_type": "code",
   "execution_count": 9,
   "id": "e53005ee-a9e2-4495-b739-daa362e5e725",
   "metadata": {
    "execution": {
     "iopub.execute_input": "2024-06-24T19:43:10.264817Z",
     "iopub.status.busy": "2024-06-24T19:43:10.262817Z",
     "iopub.status.idle": "2024-06-24T19:43:10.276815Z",
     "shell.execute_reply": "2024-06-24T19:43:10.275813Z",
     "shell.execute_reply.started": "2024-06-24T19:43:10.264817Z"
    }
   },
   "outputs": [],
   "source": [
    "two_names = [\"Sophia\", \"Maria\"]"
   ]
  },
  {
   "cell_type": "code",
   "execution_count": 10,
   "id": "75b9e4c7-e348-4f5d-912f-9f41bd96a27b",
   "metadata": {
    "execution": {
     "iopub.execute_input": "2024-06-24T19:43:10.279816Z",
     "iopub.status.busy": "2024-06-24T19:43:10.278816Z",
     "iopub.status.idle": "2024-06-24T19:43:10.292814Z",
     "shell.execute_reply": "2024-06-24T19:43:10.291812Z",
     "shell.execute_reply.started": "2024-06-24T19:43:10.279816Z"
    }
   },
   "outputs": [
    {
     "data": {
      "text/plain": [
       "['John', 'Mary', 'Oscar', 'James', 'Kaveh', 'Lucas', ['Sophia', 'Maria']]"
      ]
     },
     "execution_count": 10,
     "metadata": {},
     "output_type": "execute_result"
    }
   ],
   "source": [
    "lst_names.append(two_names)\n",
    "lst_names"
   ]
  },
  {
   "cell_type": "code",
   "execution_count": 11,
   "id": "fb3e9dca-c1f6-4833-9794-73396088b849",
   "metadata": {
    "execution": {
     "iopub.execute_input": "2024-06-24T19:43:10.294815Z",
     "iopub.status.busy": "2024-06-24T19:43:10.293813Z",
     "iopub.status.idle": "2024-06-24T19:43:10.308813Z",
     "shell.execute_reply": "2024-06-24T19:43:10.307815Z",
     "shell.execute_reply.started": "2024-06-24T19:43:10.294815Z"
    }
   },
   "outputs": [
    {
     "data": {
      "text/plain": [
       "['John',\n",
       " 'Mary',\n",
       " 'Oscar',\n",
       " 'James',\n",
       " 'Kaveh',\n",
       " 'Lucas',\n",
       " ['Sophia', 'Maria'],\n",
       " 'Sophia',\n",
       " 'Maria']"
      ]
     },
     "execution_count": 11,
     "metadata": {},
     "output_type": "execute_result"
    }
   ],
   "source": [
    "lst_names.extend(two_names)\n",
    "lst_names"
   ]
  },
  {
   "cell_type": "code",
   "execution_count": 12,
   "id": "2e468a1e-3735-4863-b692-74e1e8682635",
   "metadata": {
    "execution": {
     "iopub.execute_input": "2024-06-24T19:43:10.310819Z",
     "iopub.status.busy": "2024-06-24T19:43:10.309824Z",
     "iopub.status.idle": "2024-06-24T19:43:10.324817Z",
     "shell.execute_reply": "2024-06-24T19:43:10.323811Z",
     "shell.execute_reply.started": "2024-06-24T19:43:10.310819Z"
    }
   },
   "outputs": [
    {
     "data": {
      "text/plain": [
       "['John',\n",
       " 'Mary',\n",
       " 'Oscar',\n",
       " 'James',\n",
       " 'Kaveh',\n",
       " 'Lucas',\n",
       " ['Sophia', 'Maria'],\n",
       " 'Sophia']"
      ]
     },
     "execution_count": 12,
     "metadata": {},
     "output_type": "execute_result"
    }
   ],
   "source": [
    "# delete by value\n",
    "lst_names.remove('Maria')\n",
    "lst_names"
   ]
  },
  {
   "cell_type": "code",
   "execution_count": 13,
   "id": "20392d83-910a-488c-9ee6-efc793604b22",
   "metadata": {
    "execution": {
     "iopub.execute_input": "2024-06-24T19:43:10.326814Z",
     "iopub.status.busy": "2024-06-24T19:43:10.326814Z",
     "iopub.status.idle": "2024-06-24T19:43:10.340816Z",
     "shell.execute_reply": "2024-06-24T19:43:10.339812Z",
     "shell.execute_reply.started": "2024-06-24T19:43:10.326814Z"
    }
   },
   "outputs": [
    {
     "data": {
      "text/plain": [
       "['John', 'Oscar', 'James', 'Kaveh', 'Lucas', ['Sophia', 'Maria'], 'Sophia']"
      ]
     },
     "execution_count": 13,
     "metadata": {},
     "output_type": "execute_result"
    }
   ],
   "source": [
    "# delete by index 1\n",
    "del lst_names[1]\n",
    "lst_names"
   ]
  },
  {
   "cell_type": "code",
   "execution_count": 14,
   "id": "596dbfce-410c-4d72-849c-130095fa44f8",
   "metadata": {
    "execution": {
     "iopub.execute_input": "2024-06-24T19:43:10.343815Z",
     "iopub.status.busy": "2024-06-24T19:43:10.342814Z",
     "iopub.status.idle": "2024-06-24T19:43:10.356815Z",
     "shell.execute_reply": "2024-06-24T19:43:10.355813Z",
     "shell.execute_reply.started": "2024-06-24T19:43:10.343815Z"
    }
   },
   "outputs": [
    {
     "name": "stdout",
     "output_type": "stream",
     "text": [
      "Poped Item: Oscar\n"
     ]
    },
    {
     "data": {
      "text/plain": [
       "['John', 'James', 'Kaveh', 'Lucas', ['Sophia', 'Maria'], 'Sophia']"
      ]
     },
     "execution_count": 14,
     "metadata": {},
     "output_type": "execute_result"
    }
   ],
   "source": [
    "item = lst_names.pop(1)\n",
    "print(\"Poped Item:\", item)\n",
    "lst_names"
   ]
  },
  {
   "cell_type": "code",
   "execution_count": 15,
   "id": "ee42d765-51fc-4f4f-bb65-4e57f2c1b8f6",
   "metadata": {
    "execution": {
     "iopub.execute_input": "2024-06-24T19:43:10.357813Z",
     "iopub.status.busy": "2024-06-24T19:43:10.357813Z",
     "iopub.status.idle": "2024-06-24T19:43:10.372814Z",
     "shell.execute_reply": "2024-06-24T19:43:10.371817Z",
     "shell.execute_reply.started": "2024-06-24T19:43:10.357813Z"
    }
   },
   "outputs": [
    {
     "data": {
      "text/plain": [
       "['John', 'Jack', 'James', 'Kaveh', 'Lucas', ['Sophia', 'Maria'], 'Sophia']"
      ]
     },
     "execution_count": 15,
     "metadata": {},
     "output_type": "execute_result"
    }
   ],
   "source": [
    "lst_names.insert(1, 'Jack') # position, value\n",
    "lst_names"
   ]
  },
  {
   "cell_type": "code",
   "execution_count": 16,
   "id": "52553c7a-e16e-4ae0-97f2-c599bdaf0969",
   "metadata": {
    "execution": {
     "iopub.execute_input": "2024-06-24T19:43:10.374817Z",
     "iopub.status.busy": "2024-06-24T19:43:10.373814Z",
     "iopub.status.idle": "2024-06-24T19:43:10.388814Z",
     "shell.execute_reply": "2024-06-24T19:43:10.387814Z",
     "shell.execute_reply.started": "2024-06-24T19:43:10.374817Z"
    }
   },
   "outputs": [
    {
     "data": {
      "text/plain": [
       "list"
      ]
     },
     "execution_count": 16,
     "metadata": {},
     "output_type": "execute_result"
    }
   ],
   "source": [
    "type(lst_names)"
   ]
  },
  {
   "cell_type": "code",
   "execution_count": 17,
   "id": "d8ed4fb8-9e44-40a6-8f58-e209b1052807",
   "metadata": {
    "execution": {
     "iopub.execute_input": "2024-06-24T19:43:10.389815Z",
     "iopub.status.busy": "2024-06-24T19:43:10.389815Z",
     "iopub.status.idle": "2024-06-24T19:43:10.403813Z",
     "shell.execute_reply": "2024-06-24T19:43:10.402813Z",
     "shell.execute_reply.started": "2024-06-24T19:43:10.389815Z"
    }
   },
   "outputs": [
    {
     "name": "stdout",
     "output_type": "stream",
     "text": [
      "John\n",
      "Jack\n",
      "James\n",
      "Kaveh\n",
      "Lucas\n",
      "['Sophia', 'Maria']\n",
      "Sophia\n"
     ]
    }
   ],
   "source": [
    "for item in lst_names:\n",
    "    print(item)"
   ]
  },
  {
   "cell_type": "code",
   "execution_count": 18,
   "id": "940d6e42-2af7-4853-9daa-04db14b2a609",
   "metadata": {
    "execution": {
     "iopub.execute_input": "2024-06-24T19:43:10.404813Z",
     "iopub.status.busy": "2024-06-24T19:43:10.404813Z",
     "iopub.status.idle": "2024-06-24T19:43:10.419817Z",
     "shell.execute_reply": "2024-06-24T19:43:10.418819Z",
     "shell.execute_reply.started": "2024-06-24T19:43:10.404813Z"
    }
   },
   "outputs": [
    {
     "name": "stdout",
     "output_type": "stream",
     "text": [
      "John\n",
      "Jack\n",
      "James\n",
      "Kaveh\n",
      "Lucas\n",
      "['Sophia', 'Maria']\n",
      "Sophia\n"
     ]
    }
   ],
   "source": [
    "for index in range(len(lst_names)):\n",
    "    print(lst_names[index])"
   ]
  },
  {
   "cell_type": "code",
   "execution_count": 19,
   "id": "a792b6b3-3299-4e6a-bd8a-4f23f0102173",
   "metadata": {
    "execution": {
     "iopub.execute_input": "2024-06-24T19:43:10.420813Z",
     "iopub.status.busy": "2024-06-24T19:43:10.420813Z",
     "iopub.status.idle": "2024-06-24T19:43:10.435819Z",
     "shell.execute_reply": "2024-06-24T19:43:10.433819Z",
     "shell.execute_reply.started": "2024-06-24T19:43:10.420813Z"
    }
   },
   "outputs": [
    {
     "name": "stdout",
     "output_type": "stream",
     "text": [
      "4\n"
     ]
    }
   ],
   "source": [
    "search_item = 'Lucas'\n",
    "\n",
    "for index in range(len(lst_names)):\n",
    "    if search_item == lst_names[index]:\n",
    "            print(index)\n"
   ]
  },
  {
   "cell_type": "code",
   "execution_count": 20,
   "id": "332e24ee-3f11-45db-bac9-47d6b828821b",
   "metadata": {
    "execution": {
     "iopub.execute_input": "2024-06-24T19:43:10.436813Z",
     "iopub.status.busy": "2024-06-24T19:43:10.436813Z",
     "iopub.status.idle": "2024-06-24T19:43:10.451672Z",
     "shell.execute_reply": "2024-06-24T19:43:10.449673Z",
     "shell.execute_reply.started": "2024-06-24T19:43:10.436813Z"
    }
   },
   "outputs": [
    {
     "name": "stdout",
     "output_type": "stream",
     "text": [
      "4\n"
     ]
    }
   ],
   "source": [
    "start_index = -1\n",
    "for i in lst_names:\n",
    "    try:\n",
    "        start_index = lst_names.index('Lucas', start_index + 1)\n",
    "        print(start_index)\n",
    "    except:\n",
    "        break\n",
    "        "
   ]
  },
  {
   "cell_type": "markdown",
   "id": "6b9b7f7b-a3c5-4007-a56e-85fde61b63ea",
   "metadata": {},
   "source": [
    "## Tuple"
   ]
  },
  {
   "cell_type": "code",
   "execution_count": 21,
   "id": "22ed264b-1417-464a-be9a-dc8d4a921730",
   "metadata": {
    "execution": {
     "iopub.execute_input": "2024-06-24T19:43:10.453673Z",
     "iopub.status.busy": "2024-06-24T19:43:10.452672Z",
     "iopub.status.idle": "2024-06-24T19:43:10.466686Z",
     "shell.execute_reply": "2024-06-24T19:43:10.464680Z",
     "shell.execute_reply.started": "2024-06-24T19:43:10.453673Z"
    }
   },
   "outputs": [
    {
     "data": {
      "text/plain": [
       "('Lucas', 'James', 'John', 'Kaveh')"
      ]
     },
     "execution_count": 21,
     "metadata": {},
     "output_type": "execute_result"
    }
   ],
   "source": [
    "tpl_names = ('Lucas', 'James', 'John', 'Kaveh')\n",
    "tpl_names"
   ]
  },
  {
   "cell_type": "code",
   "execution_count": 22,
   "id": "1bb51fc9-542d-4ac6-8ea6-26862b217984",
   "metadata": {
    "execution": {
     "iopub.execute_input": "2024-06-24T19:43:10.468693Z",
     "iopub.status.busy": "2024-06-24T19:43:10.468693Z",
     "iopub.status.idle": "2024-06-24T19:43:10.487703Z",
     "shell.execute_reply": "2024-06-24T19:43:10.479706Z",
     "shell.execute_reply.started": "2024-06-24T19:43:10.468693Z"
    }
   },
   "outputs": [
    {
     "data": {
      "text/plain": [
       "'Lucas'"
      ]
     },
     "execution_count": 22,
     "metadata": {},
     "output_type": "execute_result"
    }
   ],
   "source": [
    "tpl_names[0]"
   ]
  },
  {
   "cell_type": "code",
   "execution_count": 23,
   "id": "5a6a7df6-ea06-4aa7-b3dc-a11444d54297",
   "metadata": {
    "execution": {
     "iopub.execute_input": "2024-06-24T19:43:10.492705Z",
     "iopub.status.busy": "2024-06-24T19:43:10.491703Z",
     "iopub.status.idle": "2024-06-24T19:43:11.302908Z",
     "shell.execute_reply": "2024-06-24T19:43:11.300933Z",
     "shell.execute_reply.started": "2024-06-24T19:43:10.492705Z"
    }
   },
   "outputs": [
    {
     "ename": "TypeError",
     "evalue": "'tuple' object doesn't support item deletion",
     "output_type": "error",
     "traceback": [
      "\u001b[1;31m---------------------------------------------------------------------------\u001b[0m",
      "\u001b[1;31mTypeError\u001b[0m                                 Traceback (most recent call last)",
      "Cell \u001b[1;32mIn[23], line 1\u001b[0m\n\u001b[1;32m----> 1\u001b[0m \u001b[38;5;28;01mdel\u001b[39;00m tpl_names[\u001b[38;5;241m1\u001b[39m]\n\u001b[0;32m      2\u001b[0m tpl_names\n",
      "\u001b[1;31mTypeError\u001b[0m: 'tuple' object doesn't support item deletion"
     ]
    }
   ],
   "source": [
    "del tpl_names[1]\n",
    "tpl_names"
   ]
  },
  {
   "cell_type": "markdown",
   "id": "14338471-0cac-405e-b354-288da0db6c67",
   "metadata": {},
   "source": [
    "## Tuple vs List"
   ]
  },
  {
   "cell_type": "code",
   "execution_count": 24,
   "id": "2c84a5c9-a1bf-49b1-94e3-97cb4bcc347b",
   "metadata": {
    "execution": {
     "iopub.execute_input": "2024-06-24T19:43:22.297946Z",
     "iopub.status.busy": "2024-06-24T19:43:22.296946Z",
     "iopub.status.idle": "2024-06-24T19:43:22.311951Z",
     "shell.execute_reply": "2024-06-24T19:43:22.310946Z",
     "shell.execute_reply.started": "2024-06-24T19:43:22.297946Z"
    }
   },
   "outputs": [
    {
     "data": {
      "text/plain": [
       "(88, 72)"
      ]
     },
     "execution_count": 24,
     "metadata": {},
     "output_type": "execute_result"
    }
   ],
   "source": [
    "import sys\n",
    "\n",
    "lst = [1, 2, [3, 4], [5, 6, 7]]\n",
    "tpl = (1, 2, (3, 4), (5, 6, 7))\n",
    "\n",
    "sys.getsizeof(lst), sys.getsizeof(tpl)"
   ]
  },
  {
   "cell_type": "code",
   "execution_count": 25,
   "id": "733e2715-418b-41c7-8459-071d74ca8355",
   "metadata": {
    "execution": {
     "iopub.execute_input": "2024-06-24T19:43:22.547166Z",
     "iopub.status.busy": "2024-06-24T19:43:22.546879Z",
     "iopub.status.idle": "2024-06-24T19:43:22.561299Z",
     "shell.execute_reply": "2024-06-24T19:43:22.559296Z",
     "shell.execute_reply.started": "2024-06-24T19:43:22.547166Z"
    }
   },
   "outputs": [
    {
     "data": {
      "text/plain": [
       "[1, 2, (3, 4), (5, 6, 7)]"
      ]
     },
     "execution_count": 25,
     "metadata": {},
     "output_type": "execute_result"
    }
   ],
   "source": [
    "new_list = list(tpl)\n",
    "new_list"
   ]
  },
  {
   "cell_type": "code",
   "execution_count": 26,
   "id": "a44e9b6e-63e8-4818-a493-9d56edd2c4f0",
   "metadata": {
    "execution": {
     "iopub.execute_input": "2024-06-24T19:43:22.994505Z",
     "iopub.status.busy": "2024-06-24T19:43:22.993506Z",
     "iopub.status.idle": "2024-06-24T19:43:23.013154Z",
     "shell.execute_reply": "2024-06-24T19:43:23.011154Z",
     "shell.execute_reply.started": "2024-06-24T19:43:22.994505Z"
    }
   },
   "outputs": [
    {
     "data": {
      "text/plain": [
       "(1, 2, [3, 4], [5, 6, 7])"
      ]
     },
     "execution_count": 26,
     "metadata": {},
     "output_type": "execute_result"
    }
   ],
   "source": [
    "new_tuple = tuple(lst)\n",
    "new_tuple"
   ]
  },
  {
   "cell_type": "code",
   "execution_count": null,
   "id": "5c2b6108-114d-4384-9b56-755c304319ef",
   "metadata": {},
   "outputs": [],
   "source": []
  }
 ],
 "metadata": {
  "kernelspec": {
   "display_name": "Python 3 (ipykernel)",
   "language": "python",
   "name": "python3"
  },
  "language_info": {
   "codemirror_mode": {
    "name": "ipython",
    "version": 3
   },
   "file_extension": ".py",
   "mimetype": "text/x-python",
   "name": "python",
   "nbconvert_exporter": "python",
   "pygments_lexer": "ipython3",
   "version": "3.10.13"
  }
 },
 "nbformat": 4,
 "nbformat_minor": 5
}
