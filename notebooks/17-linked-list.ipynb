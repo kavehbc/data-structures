{
 "cells": [
  {
   "cell_type": "markdown",
   "id": "02d7a215-442f-4e84-bae5-85eb584125c8",
   "metadata": {},
   "source": [
    "# Linked List"
   ]
  },
  {
   "cell_type": "markdown",
   "id": "2559c01c-8ea8-4f42-be8f-51be60ed2e6d",
   "metadata": {},
   "source": [
    "## List"
   ]
  },
  {
   "cell_type": "code",
   "execution_count": 12,
   "id": "30d74f7d-6673-4683-8b61-b0cdec5de53d",
   "metadata": {},
   "outputs": [
    {
     "data": {
      "text/plain": [
       "[5, 4, 7, 9, 2, 3]"
      ]
     },
     "execution_count": 12,
     "metadata": {},
     "output_type": "execute_result"
    }
   ],
   "source": [
    "my_list = [5, 4, 7, 9, 2, 3]\n",
    "my_list"
   ]
  },
  {
   "cell_type": "code",
   "execution_count": 13,
   "id": "9bfa86d4-7909-46d4-9455-f811b3de72c7",
   "metadata": {},
   "outputs": [
    {
     "data": {
      "text/plain": [
       "[5, 4, 7, 9, 2, 3, 1]"
      ]
     },
     "execution_count": 13,
     "metadata": {},
     "output_type": "execute_result"
    }
   ],
   "source": [
    "# add a new value: insert(), append()\n",
    "my_list.append(1)\n",
    "my_list"
   ]
  },
  {
   "cell_type": "code",
   "execution_count": 14,
   "id": "40d6008c-2176-410e-8ced-bbad2b2b897d",
   "metadata": {},
   "outputs": [
    {
     "data": {
      "text/plain": [
       "[5, 4, 7, 10, 9, 2, 3, 1]"
      ]
     },
     "execution_count": 14,
     "metadata": {},
     "output_type": "execute_result"
    }
   ],
   "source": [
    "my_list.insert(3, 10)\n",
    "my_list"
   ]
  },
  {
   "cell_type": "code",
   "execution_count": 15,
   "id": "a563b9a9-24c6-4bd4-82a6-b10f7d2dfb40",
   "metadata": {},
   "outputs": [
    {
     "name": "stdout",
     "output_type": "stream",
     "text": [
      "1\n",
      "[5, 4, 7, 10, 9, 2, 3]\n"
     ]
    }
   ],
   "source": [
    "# remove and item\n",
    "# pop()\n",
    "value = my_list.pop()\n",
    "print(value)\n",
    "print(my_list)"
   ]
  },
  {
   "cell_type": "code",
   "execution_count": 16,
   "id": "9a1833e9-7ba9-4123-a05b-0389ab5776cb",
   "metadata": {},
   "outputs": [
    {
     "data": {
      "text/plain": [
       "[5, 4, 7, 10, 2, 3]"
      ]
     },
     "execution_count": 16,
     "metadata": {},
     "output_type": "execute_result"
    }
   ],
   "source": [
    "my_list.remove(9)\n",
    "my_list"
   ]
  },
  {
   "cell_type": "markdown",
   "id": "8a5179d0-1523-4783-b9e4-1cc207e8805e",
   "metadata": {},
   "source": [
    "## Linked List"
   ]
  },
  {
   "cell_type": "code",
   "execution_count": 17,
   "id": "edea889f-db13-4577-a4ea-c43d06a28c7a",
   "metadata": {},
   "outputs": [
    {
     "data": {
      "text/plain": [
       "deque([5, 4, 7, 9, 2, 3])"
      ]
     },
     "execution_count": 17,
     "metadata": {},
     "output_type": "execute_result"
    }
   ],
   "source": [
    "from collections import deque\n",
    "# deque (pronounced as Deck) stands for Double-Ended Queue\n",
    "\n",
    "ll = deque([5, 4, 7, 9, 2, 3])\n",
    "ll"
   ]
  },
  {
   "cell_type": "code",
   "execution_count": 19,
   "id": "811ddc25-7108-4e7a-b2aa-ce0a591dbb0a",
   "metadata": {},
   "outputs": [
    {
     "data": {
      "text/plain": [
       "3"
      ]
     },
     "execution_count": 19,
     "metadata": {},
     "output_type": "execute_result"
    }
   ],
   "source": [
    "ll[5]"
   ]
  },
  {
   "cell_type": "code",
   "execution_count": 20,
   "id": "edc19ab4-9118-4570-a5f1-1ca948b7ac60",
   "metadata": {},
   "outputs": [
    {
     "data": {
      "text/plain": [
       "6"
      ]
     },
     "execution_count": 20,
     "metadata": {},
     "output_type": "execute_result"
    }
   ],
   "source": [
    "len(ll)"
   ]
  },
  {
   "cell_type": "code",
   "execution_count": 21,
   "id": "975f712b-8f75-4f7b-b8ee-7375cdd72289",
   "metadata": {},
   "outputs": [
    {
     "data": {
      "text/plain": [
       "deque([5, 4, 7, 9, 2, 3, 10])"
      ]
     },
     "execution_count": 21,
     "metadata": {},
     "output_type": "execute_result"
    }
   ],
   "source": [
    "ll.append(10)\n",
    "ll"
   ]
  },
  {
   "cell_type": "code",
   "execution_count": 22,
   "id": "09d0982a-06aa-4144-a77d-17a96a8f6bf6",
   "metadata": {},
   "outputs": [
    {
     "data": {
      "text/plain": [
       "10"
      ]
     },
     "execution_count": 22,
     "metadata": {},
     "output_type": "execute_result"
    }
   ],
   "source": [
    "ll.pop()"
   ]
  },
  {
   "cell_type": "code",
   "execution_count": 23,
   "id": "13607a49-ffc7-4586-a1cc-446cccd4068a",
   "metadata": {},
   "outputs": [
    {
     "data": {
      "text/plain": [
       "deque([5, 4, 7, 9, 2, 12, 3])"
      ]
     },
     "execution_count": 23,
     "metadata": {},
     "output_type": "execute_result"
    }
   ],
   "source": [
    "ll.insert(5, 12)\n",
    "ll"
   ]
  },
  {
   "cell_type": "code",
   "execution_count": 24,
   "id": "f4771f4e-c676-4298-b1c5-d48e8e79bf97",
   "metadata": {},
   "outputs": [
    {
     "data": {
      "text/plain": [
       "deque([5, 4, 9, 2, 12, 3])"
      ]
     },
     "execution_count": 24,
     "metadata": {},
     "output_type": "execute_result"
    }
   ],
   "source": [
    "ll.remove(7)\n",
    "ll"
   ]
  },
  {
   "cell_type": "code",
   "execution_count": 25,
   "id": "4a761488-7f12-4eb0-b8af-dcdf2cc7302e",
   "metadata": {},
   "outputs": [
    {
     "data": {
      "text/plain": [
       "deque([20, 5, 4, 9, 2, 12, 3])"
      ]
     },
     "execution_count": 25,
     "metadata": {},
     "output_type": "execute_result"
    }
   ],
   "source": [
    "ll.appendleft(20)\n",
    "ll"
   ]
  },
  {
   "cell_type": "code",
   "execution_count": 26,
   "id": "baba29cb-22ec-47d8-8636-b1563bdf0f6c",
   "metadata": {},
   "outputs": [
    {
     "data": {
      "text/plain": [
       "20"
      ]
     },
     "execution_count": 26,
     "metadata": {},
     "output_type": "execute_result"
    }
   ],
   "source": [
    "ll.popleft()"
   ]
  },
  {
   "cell_type": "markdown",
   "id": "660eb05b-0f2a-4fde-be1e-e76041143b61",
   "metadata": {},
   "source": [
    "### Queue in Linked List"
   ]
  },
  {
   "cell_type": "code",
   "execution_count": 27,
   "id": "e6167553-7980-48d4-a78d-bac16ab1a7d9",
   "metadata": {},
   "outputs": [
    {
     "data": {
      "text/plain": [
       "deque(['a', 'b', 'c'])"
      ]
     },
     "execution_count": 27,
     "metadata": {},
     "output_type": "execute_result"
    }
   ],
   "source": [
    "# Queue is First-In-First-Out (FIFO)\n",
    "\n",
    "queue = deque(['a', 'b', 'c'])\n",
    "queue"
   ]
  },
  {
   "cell_type": "code",
   "execution_count": 28,
   "id": "9f04005d-fb36-416c-aefd-05dff76027a9",
   "metadata": {},
   "outputs": [
    {
     "data": {
      "text/plain": [
       "deque(['a', 'b', 'c', 'd'])"
      ]
     },
     "execution_count": 28,
     "metadata": {},
     "output_type": "execute_result"
    }
   ],
   "source": [
    "queue.append('d')\n",
    "queue"
   ]
  },
  {
   "cell_type": "code",
   "execution_count": 29,
   "id": "2b82a1f4-a736-4e6b-8758-6505a35a68bf",
   "metadata": {},
   "outputs": [
    {
     "data": {
      "text/plain": [
       "'a'"
      ]
     },
     "execution_count": 29,
     "metadata": {},
     "output_type": "execute_result"
    }
   ],
   "source": [
    "queue.popleft()"
   ]
  },
  {
   "cell_type": "code",
   "execution_count": 30,
   "id": "fbf9d1fa-5fc9-48d7-a0a2-85c175e67ce3",
   "metadata": {},
   "outputs": [
    {
     "data": {
      "text/plain": [
       "'b'"
      ]
     },
     "execution_count": 30,
     "metadata": {},
     "output_type": "execute_result"
    }
   ],
   "source": [
    "queue.popleft()"
   ]
  },
  {
   "cell_type": "markdown",
   "id": "218ebdc9-9c03-43fa-9e39-f4bd8cefd633",
   "metadata": {},
   "source": [
    "### Stack in Linked List"
   ]
  },
  {
   "cell_type": "code",
   "execution_count": 31,
   "id": "e4451f13-edda-4404-8149-79e2f89be4ff",
   "metadata": {},
   "outputs": [
    {
     "data": {
      "text/plain": [
       "deque(['a', 'b', 'c'])"
      ]
     },
     "execution_count": 31,
     "metadata": {},
     "output_type": "execute_result"
    }
   ],
   "source": [
    "# Stack is Last-In-First-Out (LIFO)\n",
    "\n",
    "stack = deque(['a', 'b', 'c'])\n",
    "stack"
   ]
  },
  {
   "cell_type": "code",
   "execution_count": 32,
   "id": "9cb8207c-8b51-4922-934d-4dc34c9b747a",
   "metadata": {},
   "outputs": [
    {
     "data": {
      "text/plain": [
       "deque(['a', 'b', 'c', 'd'])"
      ]
     },
     "execution_count": 32,
     "metadata": {},
     "output_type": "execute_result"
    }
   ],
   "source": [
    "stack.append('d')\n",
    "stack"
   ]
  },
  {
   "cell_type": "code",
   "execution_count": 33,
   "id": "9b4c907c-9724-4801-96e9-932f6068a4f9",
   "metadata": {},
   "outputs": [
    {
     "data": {
      "text/plain": [
       "'d'"
      ]
     },
     "execution_count": 33,
     "metadata": {},
     "output_type": "execute_result"
    }
   ],
   "source": [
    "stack.pop()"
   ]
  },
  {
   "cell_type": "code",
   "execution_count": 34,
   "id": "83c9e11c-655d-4b81-9561-8d40a4b43f15",
   "metadata": {},
   "outputs": [
    {
     "data": {
      "text/plain": [
       "'c'"
      ]
     },
     "execution_count": 34,
     "metadata": {},
     "output_type": "execute_result"
    }
   ],
   "source": [
    "stack.pop()"
   ]
  },
  {
   "cell_type": "markdown",
   "id": "004cb549-5f33-42fd-8949-8f092e2e6a3d",
   "metadata": {},
   "source": [
    "### Custom Design of Linked List"
   ]
  },
  {
   "cell_type": "code",
   "execution_count": 6,
   "id": "1fe88add-80ed-40e5-a4ca-179ebab1b69e",
   "metadata": {},
   "outputs": [],
   "source": [
    "import operator\n",
    "\n",
    "class Node:\n",
    "    def __init__(self, data):\n",
    "        self.data = data\n",
    "        self.next = None\n",
    "\n",
    "    def __str__(self):\n",
    "        return f\"Data: {self.data}, Next: {self.next}\"\n",
    "\n",
    "    def __repr__(self):\n",
    "        return f\"Data: {self.data}, Next: {self.next}\"\n",
    "\n",
    "class LinkedList:\n",
    "    def __init__(self, nodes = None):\n",
    "        self.head = None\n",
    "        \n",
    "        # [3, 7, 8, 9]\n",
    "        if nodes is not None:\n",
    "            node = Node(data=nodes.pop(0))\n",
    "            self.head = node\n",
    "\n",
    "            for item in nodes:\n",
    "                node.next = Node(data=item)\n",
    "                node = node.next\n",
    "\n",
    "    def __repr__(self):\n",
    "        node = self.head\n",
    "        nodes = []\n",
    "        while node is not None:\n",
    "            nodes.append(str(node.data))\n",
    "            node = node.next\n",
    "        # nodes.append(\"END\")\n",
    "        return \" -> \".join(nodes)\n",
    "\n",
    "    def __len__(self):\n",
    "        counter = 0\n",
    "        node = self.head\n",
    "        while node is not None:\n",
    "            counter += 1\n",
    "            node = node.next\n",
    "        return counter\n",
    "\n",
    "    def __iter__(self):\n",
    "        node = self.head\n",
    "        while node is not None:\n",
    "            yield node\n",
    "            node = node.next\n",
    "\n",
    "    def __getitem__(self, index):\n",
    "        counter = 0\n",
    "        node = self.head\n",
    "        while node is not None:\n",
    "            if counter == index:\n",
    "                return node\n",
    "            counter += 1\n",
    "            node = node.next\n",
    "\n",
    "    def __setitem__(self, index, value):\n",
    "        counter = 0\n",
    "        node = self.head\n",
    "        while node is not None:\n",
    "            if counter == index:\n",
    "                node.data = value\n",
    "                return\n",
    "        \n",
    "    def appendleft(self, data):\n",
    "        node = Node(data)\n",
    "        node.next = self.head\n",
    "        self.head = node\n",
    "\n",
    "    def popleft(self):\n",
    "        node = self.head\n",
    "        self.head = node.next\n",
    "        node.next = None\n",
    "        return node\n",
    "\n",
    "    def pop(self, item_index=None):\n",
    "        if item_index is None:\n",
    "            item_index = len(self) - 1\n",
    "        \n",
    "        item = self[item_index]\n",
    "        if item_index > -1:\n",
    "            if item_index == 0:\n",
    "                next_node = self[item_index + 1]\n",
    "                self.head = next_node\n",
    "            elif item_index == len(self) - 1:\n",
    "                prev_node = self[item_index - 1]\n",
    "                prev_node.next = None\n",
    "            else:\n",
    "                next_node = self[item_index + 1]\n",
    "                prev_node = self[item_index - 1]\n",
    "                prev_node.next = next_node\n",
    "        return item\n",
    "\n",
    "    def append(self, data):\n",
    "        node = Node(data)\n",
    "        if self.head is None:\n",
    "            self.head = node\n",
    "        else:\n",
    "            last_index = len(self) - 1\n",
    "            last_node = self[last_index]\n",
    "            last_node.next = node        \n",
    "\n",
    "    def insert(self, index, value):\n",
    "        node = Node(value)\n",
    "        node_at_index = self[index]\n",
    "        node.next = node_at_index\n",
    "        \n",
    "        if index == 0:\n",
    "            self.head = node\n",
    "        else:\n",
    "            node_prev = self[index - 1]    \n",
    "            node_prev.next = node\n",
    "\n",
    "    def index(self, value):\n",
    "        for index, item in enumerate(self):\n",
    "            if item.data == value:\n",
    "                return index\n",
    "        return -1\n",
    "        \n",
    "    def remove(self, value):\n",
    "        item_index = self.index(value)\n",
    "        self.pop(item_index)\n",
    "\n",
    "    def sort(self, asc=True):\n",
    "        # bubble sort\n",
    "        if asc:\n",
    "            # lower than '<'\n",
    "            comp_func = operator.lt\n",
    "        else:\n",
    "            # greater than '>'\n",
    "            comp_func = operator.gt\n",
    "            \n",
    "        for i in range(self.__len__()):\n",
    "            for j in range(self.__len__() - i - 1):\n",
    "                if comp_func(self.__getitem__(j + 1), self.__getitem__(j)):\n",
    "                    # lst[j], lst[j+1] = lst[j+1], lst[j]\n",
    "                    a = self.__getitem__(j)\n",
    "                    b = self.__getitem__(j + 1)\n",
    "                    self.__setitem__(j, b)\n",
    "                    self.__setitem__(j+1, a)\n",
    "        "
   ]
  },
  {
   "cell_type": "code",
   "execution_count": 7,
   "id": "3cb7625d-d948-4727-9d1a-03aef9ab3ed6",
   "metadata": {},
   "outputs": [
    {
     "data": {
      "text/plain": [
       "True"
      ]
     },
     "execution_count": 7,
     "metadata": {},
     "output_type": "execute_result"
    }
   ],
   "source": [
    "# this is more details on how the sort algorithm is working\n",
    "\n",
    "a = 3\n",
    "b = 5\n",
    "\n",
    "def gt(a, b):\n",
    "    if a > b:\n",
    "        return True\n",
    "    return False\n",
    "\n",
    "def lt(a, b):\n",
    "    if a < b:\n",
    "        return True\n",
    "    return False\n",
    "\n",
    "func = lt\n",
    "func(a, b)"
   ]
  },
  {
   "cell_type": "code",
   "execution_count": 8,
   "id": "879c1147-77a2-4006-a67a-167bcdd2fce0",
   "metadata": {},
   "outputs": [
    {
     "name": "stdout",
     "output_type": "stream",
     "text": [
      "\n"
     ]
    }
   ],
   "source": [
    "ll = LinkedList()\n",
    "print(ll)"
   ]
  },
  {
   "cell_type": "code",
   "execution_count": 9,
   "id": "3d4f744f-8c75-49de-aecf-cddefb65f8ed",
   "metadata": {},
   "outputs": [
    {
     "data": {
      "text/plain": [
       "Data: b, Next: None"
      ]
     },
     "execution_count": 9,
     "metadata": {},
     "output_type": "execute_result"
    }
   ],
   "source": [
    "node_1 = Node('a')\n",
    "node_2 = Node('b')\n",
    "node_3 = Node('c')\n",
    "\n",
    "node_2"
   ]
  },
  {
   "cell_type": "code",
   "execution_count": 10,
   "id": "b1fd5891-ac16-481f-80f9-b204c5223393",
   "metadata": {},
   "outputs": [
    {
     "name": "stdout",
     "output_type": "stream",
     "text": [
      "Data: b, Next: None\n"
     ]
    }
   ],
   "source": [
    "print(node_2)"
   ]
  },
  {
   "cell_type": "code",
   "execution_count": 11,
   "id": "ee5a9a98-72ed-48a3-b26a-2df8345a976f",
   "metadata": {},
   "outputs": [
    {
     "name": "stdout",
     "output_type": "stream",
     "text": [
      "Data: b, Next: Data: c, Next: None\n"
     ]
    }
   ],
   "source": [
    "node_1.next = node_2\n",
    "node_2.next = node_3\n",
    "\n",
    "print(node_2)"
   ]
  },
  {
   "cell_type": "code",
   "execution_count": 12,
   "id": "20242486-12c1-4a18-baf9-b6970b34d499",
   "metadata": {},
   "outputs": [
    {
     "data": {
      "text/plain": [
       "a -> b -> c"
      ]
     },
     "execution_count": 12,
     "metadata": {},
     "output_type": "execute_result"
    }
   ],
   "source": [
    "ll.head = node_1\n",
    "\n",
    "ll"
   ]
  },
  {
   "cell_type": "code",
   "execution_count": 13,
   "id": "f71017e8-f6d4-4266-abf0-5b2f8897e1eb",
   "metadata": {},
   "outputs": [
    {
     "data": {
      "text/plain": [
       "a -> b -> X -> c"
      ]
     },
     "execution_count": 13,
     "metadata": {},
     "output_type": "execute_result"
    }
   ],
   "source": [
    "# add this node between Node 2 and Node 3\n",
    "node_2_3 = Node('X')\n",
    "\n",
    "node_2.next = node_2_3\n",
    "node_2_3.next = node_3\n",
    "\n",
    "ll"
   ]
  },
  {
   "cell_type": "code",
   "execution_count": 14,
   "id": "b0a4810c-d871-4373-a509-77cbeffae0e6",
   "metadata": {},
   "outputs": [
    {
     "data": {
      "text/plain": [
       "a -> b -> c"
      ]
     },
     "execution_count": 14,
     "metadata": {},
     "output_type": "execute_result"
    }
   ],
   "source": [
    "# remove X from Linked List\n",
    "\n",
    "node_2.next = node_3\n",
    "\n",
    "ll"
   ]
  },
  {
   "cell_type": "code",
   "execution_count": 25,
   "id": "262e2944-e8cb-402f-b9f2-2e0be34f722d",
   "metadata": {},
   "outputs": [
    {
     "data": {
      "text/plain": [
       "5 -> 3 -> 6 -> 2 -> 1"
      ]
     },
     "execution_count": 25,
     "metadata": {},
     "output_type": "execute_result"
    }
   ],
   "source": [
    "# Initialize my linked list with a given list\n",
    "\n",
    "li = LinkedList([5, 3, 6, 2, 1])\n",
    "li"
   ]
  },
  {
   "cell_type": "code",
   "execution_count": 26,
   "id": "6098efec-d533-4b00-88fe-72d528f6a161",
   "metadata": {},
   "outputs": [
    {
     "name": "stdout",
     "output_type": "stream",
     "text": [
      "5\n",
      "3\n",
      "6\n",
      "2\n",
      "1\n"
     ]
    }
   ],
   "source": [
    "for item in li:\n",
    "    print(item.data)"
   ]
  },
  {
   "cell_type": "code",
   "execution_count": 27,
   "id": "b913ae7e-4751-4ec2-8d52-7a4bbcb09f79",
   "metadata": {},
   "outputs": [
    {
     "data": {
      "text/plain": [
       "5"
      ]
     },
     "execution_count": 27,
     "metadata": {},
     "output_type": "execute_result"
    }
   ],
   "source": [
    "len(li)"
   ]
  },
  {
   "cell_type": "code",
   "execution_count": 28,
   "id": "b7bf734b-adbf-4add-96d7-963a8eaccce5",
   "metadata": {},
   "outputs": [
    {
     "data": {
      "text/plain": [
       "10 -> 5 -> 3 -> 6 -> 2 -> 1"
      ]
     },
     "execution_count": 28,
     "metadata": {},
     "output_type": "execute_result"
    }
   ],
   "source": [
    "li.appendleft(10)\n",
    "li"
   ]
  },
  {
   "cell_type": "code",
   "execution_count": 29,
   "id": "9c1671e9-217e-4dba-a961-ced113b44826",
   "metadata": {},
   "outputs": [
    {
     "name": "stdout",
     "output_type": "stream",
     "text": [
      "Data: 10, Next: None\n",
      "a -> b -> c -> d\n"
     ]
    }
   ],
   "source": [
    "node = li.popleft()\n",
    "print(node)\n",
    "print(ll)"
   ]
  },
  {
   "cell_type": "code",
   "execution_count": 30,
   "id": "d3ede5ff-6804-4de5-8be9-1ddfda576761",
   "metadata": {},
   "outputs": [
    {
     "data": {
      "text/plain": [
       "5 -> 3 -> 6 -> 2 -> 1 -> 20"
      ]
     },
     "execution_count": 30,
     "metadata": {},
     "output_type": "execute_result"
    }
   ],
   "source": [
    "li.append(20)\n",
    "li"
   ]
  },
  {
   "cell_type": "code",
   "execution_count": 31,
   "id": "0ed614a2-ba76-4e08-b549-b6d04510892b",
   "metadata": {},
   "outputs": [
    {
     "data": {
      "text/plain": [
       "20"
      ]
     },
     "execution_count": 31,
     "metadata": {},
     "output_type": "execute_result"
    }
   ],
   "source": [
    "node = li.pop()\n",
    "node"
   ]
  },
  {
   "cell_type": "code",
   "execution_count": 32,
   "id": "975ad69d-a4bd-4dd1-aec1-9f2921e9f636",
   "metadata": {},
   "outputs": [
    {
     "data": {
      "text/plain": [
       "5 -> 3 -> 6 -> 2 -> 1"
      ]
     },
     "execution_count": 32,
     "metadata": {},
     "output_type": "execute_result"
    }
   ],
   "source": [
    "li"
   ]
  },
  {
   "cell_type": "code",
   "execution_count": 35,
   "id": "b4b53500-bcde-425a-bb78-3acf69faf9d8",
   "metadata": {},
   "outputs": [
    {
     "data": {
      "text/plain": [
       "5 -> 3 -> 10 -> 6 -> 2 -> 1"
      ]
     },
     "execution_count": 35,
     "metadata": {},
     "output_type": "execute_result"
    }
   ],
   "source": [
    "li.insert(2, 10) # index, value\n",
    "li"
   ]
  },
  {
   "cell_type": "code",
   "execution_count": null,
   "id": "e2b9af23-0865-47a8-8273-2ea3de96e749",
   "metadata": {},
   "outputs": [],
   "source": []
  }
 ],
 "metadata": {
  "kernelspec": {
   "display_name": "Python 3 (ipykernel)",
   "language": "python",
   "name": "python3"
  },
  "language_info": {
   "codemirror_mode": {
    "name": "ipython",
    "version": 3
   },
   "file_extension": ".py",
   "mimetype": "text/x-python",
   "name": "python",
   "nbconvert_exporter": "python",
   "pygments_lexer": "ipython3",
   "version": "3.10.13"
  }
 },
 "nbformat": 4,
 "nbformat_minor": 5
}
