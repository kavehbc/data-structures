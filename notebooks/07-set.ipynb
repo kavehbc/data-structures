{
 "cells": [
  {
   "cell_type": "markdown",
   "id": "fc38ece1-a7af-40c0-a753-c47557f7b0d8",
   "metadata": {},
   "source": [
    "# Set"
   ]
  },
  {
   "cell_type": "code",
   "execution_count": 1,
   "id": "254db346-5939-4aac-bed4-65b81af6e572",
   "metadata": {
    "execution": {
     "iopub.execute_input": "2024-06-24T19:49:50.738428Z",
     "iopub.status.busy": "2024-06-24T19:49:50.737422Z",
     "iopub.status.idle": "2024-06-24T19:49:50.776769Z",
     "shell.execute_reply": "2024-06-24T19:49:50.774763Z",
     "shell.execute_reply.started": "2024-06-24T19:49:50.738428Z"
    }
   },
   "outputs": [
    {
     "data": {
      "text/plain": [
       "{1, 2, 3, 4, 5}"
      ]
     },
     "execution_count": 1,
     "metadata": {},
     "output_type": "execute_result"
    }
   ],
   "source": [
    "my_set = {1, 2, 3, 4, 5}\n",
    "my_set"
   ]
  },
  {
   "cell_type": "code",
   "execution_count": 2,
   "id": "d71922a5-f7fc-4912-ab01-99c7500b991b",
   "metadata": {
    "execution": {
     "iopub.execute_input": "2024-06-24T19:49:50.777766Z",
     "iopub.status.busy": "2024-06-24T19:49:50.777766Z",
     "iopub.status.idle": "2024-06-24T19:49:50.793764Z",
     "shell.execute_reply": "2024-06-24T19:49:50.790768Z",
     "shell.execute_reply.started": "2024-06-24T19:49:50.777766Z"
    }
   },
   "outputs": [
    {
     "data": {
      "text/plain": [
       "{1, 2, 3, 5, 6}"
      ]
     },
     "execution_count": 2,
     "metadata": {},
     "output_type": "execute_result"
    }
   ],
   "source": [
    "# duplication is not allowed\n",
    "\n",
    "my_set = {1, 2, 3, 2, 5, 6, 3}\n",
    "my_set"
   ]
  },
  {
   "cell_type": "code",
   "execution_count": 3,
   "id": "5e80ea7f-650d-4d92-9198-f5bfba0ec4a9",
   "metadata": {
    "execution": {
     "iopub.execute_input": "2024-06-24T19:49:50.795769Z",
     "iopub.status.busy": "2024-06-24T19:49:50.795769Z",
     "iopub.status.idle": "2024-06-24T19:49:50.807768Z",
     "shell.execute_reply": "2024-06-24T19:49:50.806805Z",
     "shell.execute_reply.started": "2024-06-24T19:49:50.795769Z"
    }
   },
   "outputs": [
    {
     "data": {
      "text/plain": [
       "{1, 2, 3, 5, 6, 7}"
      ]
     },
     "execution_count": 3,
     "metadata": {},
     "output_type": "execute_result"
    }
   ],
   "source": [
    "# adding a new value to set\n",
    "\n",
    "my_set.add(7)\n",
    "my_set"
   ]
  },
  {
   "cell_type": "code",
   "execution_count": 4,
   "id": "65b0bcb9-82c1-4b1e-8d58-41fa31e34191",
   "metadata": {
    "execution": {
     "iopub.execute_input": "2024-06-24T19:49:50.809818Z",
     "iopub.status.busy": "2024-06-24T19:49:50.808773Z",
     "iopub.status.idle": "2024-06-24T19:49:50.823764Z",
     "shell.execute_reply": "2024-06-24T19:49:50.822806Z",
     "shell.execute_reply.started": "2024-06-24T19:49:50.809818Z"
    }
   },
   "outputs": [
    {
     "data": {
      "text/plain": [
       "{1, 2, 3, 5, 6, 7, 8, 9, 10}"
      ]
     },
     "execution_count": 4,
     "metadata": {},
     "output_type": "execute_result"
    }
   ],
   "source": [
    "# adding multiple values to set\n",
    "\n",
    "my_set.update({8, 9, 10})\n",
    "my_set"
   ]
  },
  {
   "cell_type": "code",
   "execution_count": 5,
   "id": "a05ee398-ec05-4446-be98-458711a8b0b0",
   "metadata": {
    "execution": {
     "iopub.execute_input": "2024-06-24T19:49:50.825821Z",
     "iopub.status.busy": "2024-06-24T19:49:50.825821Z",
     "iopub.status.idle": "2024-06-24T19:49:50.840781Z",
     "shell.execute_reply": "2024-06-24T19:49:50.838768Z",
     "shell.execute_reply.started": "2024-06-24T19:49:50.825821Z"
    }
   },
   "outputs": [
    {
     "data": {
      "text/plain": [
       "{1, 2, 3, 5, 6, 7, 8, 9}"
      ]
     },
     "execution_count": 5,
     "metadata": {},
     "output_type": "execute_result"
    }
   ],
   "source": [
    "# removing an item\n",
    "\n",
    "my_set.remove(10)\n",
    "my_set"
   ]
  },
  {
   "cell_type": "code",
   "execution_count": 6,
   "id": "261940e0-3e44-4d33-ac97-a7d30b9ed1e3",
   "metadata": {
    "execution": {
     "iopub.execute_input": "2024-06-24T19:49:50.842763Z",
     "iopub.status.busy": "2024-06-24T19:49:50.842763Z",
     "iopub.status.idle": "2024-06-24T19:49:50.857771Z",
     "shell.execute_reply": "2024-06-24T19:49:50.854766Z",
     "shell.execute_reply.started": "2024-06-24T19:49:50.842763Z"
    }
   },
   "outputs": [
    {
     "name": "stdout",
     "output_type": "stream",
     "text": [
      "Returned Item: 1\n",
      "Updated Set: {2, 3, 5, 6, 7, 8, 9}\n"
     ]
    }
   ],
   "source": [
    "# reading a random value from set\n",
    "\n",
    "my_item = my_set.pop()\n",
    "\n",
    "print(f\"Returned Item: {my_item}\")\n",
    "print(f\"Updated Set: {my_set}\")"
   ]
  },
  {
   "cell_type": "code",
   "execution_count": 7,
   "id": "1e4f2a4a-d78d-4032-b315-98843e90df3f",
   "metadata": {
    "execution": {
     "iopub.execute_input": "2024-06-24T19:49:50.865775Z",
     "iopub.status.busy": "2024-06-24T19:49:50.864764Z",
     "iopub.status.idle": "2024-06-24T19:49:50.903765Z",
     "shell.execute_reply": "2024-06-24T19:49:50.886763Z",
     "shell.execute_reply.started": "2024-06-24T19:49:50.865775Z"
    }
   },
   "outputs": [
    {
     "data": {
      "text/plain": [
       "[1, 2, 3, 2, 5, 4, 5]"
      ]
     },
     "execution_count": 7,
     "metadata": {},
     "output_type": "execute_result"
    }
   ],
   "source": [
    "# removing duplicates from the list\n",
    "\n",
    "my_list = [1, 2, 3, 2, 5, 4, 5]\n",
    "my_list"
   ]
  },
  {
   "cell_type": "markdown",
   "id": "da487604-f211-443b-85b1-541dc45fc134",
   "metadata": {},
   "source": [
    "## List vs Tuple vs Set"
   ]
  },
  {
   "cell_type": "code",
   "execution_count": 8,
   "id": "9b1eed19-6601-4912-8dd4-db5f0d4ef89c",
   "metadata": {
    "execution": {
     "iopub.execute_input": "2024-06-24T19:49:50.913767Z",
     "iopub.status.busy": "2024-06-24T19:49:50.913767Z",
     "iopub.status.idle": "2024-06-24T19:49:50.936772Z",
     "shell.execute_reply": "2024-06-24T19:49:50.933772Z",
     "shell.execute_reply.started": "2024-06-24T19:49:50.913767Z"
    }
   },
   "outputs": [],
   "source": [
    "my_set = {1, 2, 4, 5, 6, 7}\n",
    "my_list = [1, 2, 4, 5, 6, 7]\n",
    "my_tuple = (1, 2, 4, 5, 6, 7)"
   ]
  },
  {
   "cell_type": "code",
   "execution_count": 9,
   "id": "832acf70-5374-46e0-946f-e1c846d32f29",
   "metadata": {
    "execution": {
     "iopub.execute_input": "2024-06-24T19:49:50.939770Z",
     "iopub.status.busy": "2024-06-24T19:49:50.939770Z",
     "iopub.status.idle": "2024-06-24T19:49:50.952765Z",
     "shell.execute_reply": "2024-06-24T19:49:50.949769Z",
     "shell.execute_reply.started": "2024-06-24T19:49:50.939770Z"
    }
   },
   "outputs": [
    {
     "name": "stdout",
     "output_type": "stream",
     "text": [
      "104\n",
      "88\n",
      "472\n"
     ]
    }
   ],
   "source": [
    "import sys\n",
    "\n",
    "print(sys.getsizeof(my_list))\n",
    "print(sys.getsizeof(my_tuple))\n",
    "print(sys.getsizeof(my_set))"
   ]
  },
  {
   "cell_type": "markdown",
   "id": "6428ea53-bcb2-4da9-bc3f-a98f6689761a",
   "metadata": {},
   "source": [
    "## Removing Duplicates"
   ]
  },
  {
   "cell_type": "code",
   "execution_count": 10,
   "id": "9d74afdf-4e2a-4dbf-af35-7c993fefb1d9",
   "metadata": {
    "execution": {
     "iopub.execute_input": "2024-06-24T19:49:50.956771Z",
     "iopub.status.busy": "2024-06-24T19:49:50.955764Z",
     "iopub.status.idle": "2024-06-24T19:49:50.981764Z",
     "shell.execute_reply": "2024-06-24T19:49:50.979764Z",
     "shell.execute_reply.started": "2024-06-24T19:49:50.956771Z"
    }
   },
   "outputs": [
    {
     "data": {
      "text/plain": [
       "[1, 2, 4, 5, 6, 7]"
      ]
     },
     "execution_count": 10,
     "metadata": {},
     "output_type": "execute_result"
    }
   ],
   "source": [
    "# solution 1\n",
    "\n",
    "my_unique_list = []\n",
    "for item in my_list:\n",
    "    if item not in my_unique_list:\n",
    "        my_unique_list.append(item)\n",
    "        \n",
    "my_unique_list"
   ]
  },
  {
   "cell_type": "code",
   "execution_count": 11,
   "id": "27dbf8b5-145b-4570-9362-07b758628aae",
   "metadata": {
    "execution": {
     "iopub.execute_input": "2024-06-24T19:49:50.983768Z",
     "iopub.status.busy": "2024-06-24T19:49:50.982764Z",
     "iopub.status.idle": "2024-06-24T19:49:50.996766Z",
     "shell.execute_reply": "2024-06-24T19:49:50.995771Z",
     "shell.execute_reply.started": "2024-06-24T19:49:50.983768Z"
    }
   },
   "outputs": [
    {
     "data": {
      "text/plain": [
       "[1, 2, 4, 5, 6, 7]"
      ]
     },
     "execution_count": 11,
     "metadata": {},
     "output_type": "execute_result"
    }
   ],
   "source": [
    "# solution 2\n",
    "\n",
    "my_unique_list = list(set(my_list))\n",
    "my_unique_list"
   ]
  },
  {
   "cell_type": "code",
   "execution_count": 12,
   "id": "2a6e32f7-f47d-48c0-ab1e-64a4ee6d7954",
   "metadata": {
    "execution": {
     "iopub.execute_input": "2024-06-24T19:49:50.998766Z",
     "iopub.status.busy": "2024-06-24T19:49:50.998766Z",
     "iopub.status.idle": "2024-06-24T19:49:51.012770Z",
     "shell.execute_reply": "2024-06-24T19:49:51.010781Z",
     "shell.execute_reply.started": "2024-06-24T19:49:50.998766Z"
    }
   },
   "outputs": [
    {
     "data": {
      "text/plain": [
       "{1, 2, 3, 4, 5, 6, 7, 8}"
      ]
     },
     "execution_count": 12,
     "metadata": {},
     "output_type": "execute_result"
    }
   ],
   "source": [
    "# union\n",
    "# combining two sets\n",
    "\n",
    "my_set_1 = {1, 2, 3, 4, 5}\n",
    "my_set_2 = {4, 5, 6, 7, 8}\n",
    "\n",
    "my_set = my_set_1.union(my_set_2)\n",
    "my_set"
   ]
  },
  {
   "cell_type": "code",
   "execution_count": 13,
   "id": "450407d7-cff0-4064-9868-c9d8038fe1af",
   "metadata": {
    "execution": {
     "iopub.execute_input": "2024-06-24T19:49:51.015775Z",
     "iopub.status.busy": "2024-06-24T19:49:51.014765Z",
     "iopub.status.idle": "2024-06-24T19:49:51.028776Z",
     "shell.execute_reply": "2024-06-24T19:49:51.026766Z",
     "shell.execute_reply.started": "2024-06-24T19:49:51.015775Z"
    }
   },
   "outputs": [
    {
     "data": {
      "text/plain": [
       "{4, 5}"
      ]
     },
     "execution_count": 13,
     "metadata": {},
     "output_type": "execute_result"
    }
   ],
   "source": [
    "# intersection\n",
    "# returning mutual elements between two sets\n",
    "\n",
    "my_set_1 = {1, 2, 3, 4, 5}\n",
    "my_set_2 = {4, 5, 6, 7, 8}\n",
    "\n",
    "my_set = my_set_1.intersection(my_set_2)\n",
    "my_set"
   ]
  },
  {
   "cell_type": "code",
   "execution_count": 14,
   "id": "73ca5dc4-b206-42e9-acaf-e9d69cdef2a2",
   "metadata": {
    "execution": {
     "iopub.execute_input": "2024-06-24T19:49:51.031763Z",
     "iopub.status.busy": "2024-06-24T19:49:51.030764Z",
     "iopub.status.idle": "2024-06-24T19:49:51.045766Z",
     "shell.execute_reply": "2024-06-24T19:49:51.042766Z",
     "shell.execute_reply.started": "2024-06-24T19:49:51.031763Z"
    }
   },
   "outputs": [
    {
     "data": {
      "text/plain": [
       "{1, 2, 3}"
      ]
     },
     "execution_count": 14,
     "metadata": {},
     "output_type": "execute_result"
    }
   ],
   "source": [
    "# difference\n",
    "# returning the difference between two sets\n",
    "\n",
    "my_set_1 = {1, 2, 3, 4, 5}\n",
    "my_set_2 = {4, 5, 6, 7, 8}\n",
    "\n",
    "my_set = my_set_1.difference(my_set_2)\n",
    "my_set"
   ]
  },
  {
   "cell_type": "code",
   "execution_count": 15,
   "id": "88b29328-d541-4e74-a947-5421d27cf2a8",
   "metadata": {
    "execution": {
     "iopub.execute_input": "2024-06-24T19:49:51.047767Z",
     "iopub.status.busy": "2024-06-24T19:49:51.046765Z",
     "iopub.status.idle": "2024-06-24T19:49:51.060770Z",
     "shell.execute_reply": "2024-06-24T19:49:51.058766Z",
     "shell.execute_reply.started": "2024-06-24T19:49:51.047767Z"
    }
   },
   "outputs": [
    {
     "data": {
      "text/plain": [
       "{1, 2, 3, 6, 7, 8}"
      ]
     },
     "execution_count": 15,
     "metadata": {},
     "output_type": "execute_result"
    }
   ],
   "source": [
    "# symmetric difference\n",
    "# returning the symmetricdifference between two sets\n",
    "\n",
    "my_set_1 = {1, 2, 3, 4, 5}\n",
    "my_set_2 = {4, 5, 6, 7, 8}\n",
    "\n",
    "my_set = my_set_1.symmetric_difference(my_set_2)\n",
    "my_set"
   ]
  },
  {
   "cell_type": "code",
   "execution_count": 16,
   "id": "d7bba32a-b22e-404c-a39c-b092f4e7baa6",
   "metadata": {
    "execution": {
     "iopub.execute_input": "2024-06-24T19:49:51.063765Z",
     "iopub.status.busy": "2024-06-24T19:49:51.062769Z",
     "iopub.status.idle": "2024-06-24T19:49:51.075766Z",
     "shell.execute_reply": "2024-06-24T19:49:51.074765Z",
     "shell.execute_reply.started": "2024-06-24T19:49:51.063765Z"
    }
   },
   "outputs": [
    {
     "data": {
      "text/plain": [
       "{1, 2, 3, 4, 5, 6, 7, 8}"
      ]
     },
     "execution_count": 16,
     "metadata": {},
     "output_type": "execute_result"
    }
   ],
   "source": [
    "# union\n",
    "my_set = my_set_1 | my_set_2\n",
    "my_set"
   ]
  },
  {
   "cell_type": "code",
   "execution_count": 17,
   "id": "e534ce4a-8b94-4fee-90ed-ee0d3aded5ff",
   "metadata": {
    "execution": {
     "iopub.execute_input": "2024-06-24T19:49:51.078765Z",
     "iopub.status.busy": "2024-06-24T19:49:51.077767Z",
     "iopub.status.idle": "2024-06-24T19:49:51.091766Z",
     "shell.execute_reply": "2024-06-24T19:49:51.090767Z",
     "shell.execute_reply.started": "2024-06-24T19:49:51.078765Z"
    }
   },
   "outputs": [
    {
     "data": {
      "text/plain": [
       "{4, 5}"
      ]
     },
     "execution_count": 17,
     "metadata": {},
     "output_type": "execute_result"
    }
   ],
   "source": [
    "# intersection\n",
    "my_set = my_set_1 & my_set_2\n",
    "my_set"
   ]
  },
  {
   "cell_type": "code",
   "execution_count": 18,
   "id": "0710494e-0f81-4934-9b11-28c71bbba651",
   "metadata": {
    "execution": {
     "iopub.execute_input": "2024-06-24T19:49:51.093764Z",
     "iopub.status.busy": "2024-06-24T19:49:51.093764Z",
     "iopub.status.idle": "2024-06-24T19:49:51.107765Z",
     "shell.execute_reply": "2024-06-24T19:49:51.106778Z",
     "shell.execute_reply.started": "2024-06-24T19:49:51.093764Z"
    }
   },
   "outputs": [
    {
     "data": {
      "text/plain": [
       "{1, 2, 3}"
      ]
     },
     "execution_count": 18,
     "metadata": {},
     "output_type": "execute_result"
    }
   ],
   "source": [
    "# difference\n",
    "my_set = my_set_1 - my_set_2\n",
    "my_set"
   ]
  },
  {
   "cell_type": "code",
   "execution_count": 19,
   "id": "130a8853-7516-4ec9-8490-838e6f2ed312",
   "metadata": {
    "execution": {
     "iopub.execute_input": "2024-06-24T19:49:51.110766Z",
     "iopub.status.busy": "2024-06-24T19:49:51.109763Z",
     "iopub.status.idle": "2024-06-24T19:49:51.124765Z",
     "shell.execute_reply": "2024-06-24T19:49:51.122788Z",
     "shell.execute_reply.started": "2024-06-24T19:49:51.110766Z"
    }
   },
   "outputs": [
    {
     "data": {
      "text/plain": [
       "{1, 2, 3, 6, 7, 8}"
      ]
     },
     "execution_count": 19,
     "metadata": {},
     "output_type": "execute_result"
    }
   ],
   "source": [
    "# symmetric difference\n",
    "my_set = my_set_1 ^ my_set_2\n",
    "my_set"
   ]
  }
 ],
 "metadata": {
  "kernelspec": {
   "display_name": "Python 3 (ipykernel)",
   "language": "python",
   "name": "python3"
  },
  "language_info": {
   "codemirror_mode": {
    "name": "ipython",
    "version": 3
   },
   "file_extension": ".py",
   "mimetype": "text/x-python",
   "name": "python",
   "nbconvert_exporter": "python",
   "pygments_lexer": "ipython3",
   "version": "3.10.13"
  }
 },
 "nbformat": 4,
 "nbformat_minor": 5
}
