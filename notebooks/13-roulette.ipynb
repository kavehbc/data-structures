{
 "cells": [
  {
   "cell_type": "markdown",
   "id": "e4fded16-81a1-476b-9051-62692b88d3e6",
   "metadata": {},
   "source": [
    "# Roulette"
   ]
  },
  {
   "cell_type": "markdown",
   "id": "dac756b0-052f-457e-b787-e1760dffcb7e",
   "metadata": {},
   "source": [
    "We are simulating the Martingle Strategy to play roulette in a Casino."
   ]
  },
  {
   "cell_type": "code",
   "execution_count": 6,
   "id": "8fcd2963-f50e-460e-b0a4-0ec7f6b12624",
   "metadata": {},
   "outputs": [],
   "source": [
    "import random"
   ]
  },
  {
   "cell_type": "code",
   "execution_count": 7,
   "id": "4a08ee37-94a3-4c3c-b2bf-0e34eed82e53",
   "metadata": {},
   "outputs": [
    {
     "name": "stdout",
     "output_type": "stream",
     "text": [
      "['18', '26', '27', '10', '8', '34', '20', '7', '17', '30', '11', '33', '1', '9', '2', '24', '5', '6', '28', '15', '4', '22', '13', '19', '36', '0', '3', '35', '23', '16', '14', '00', '25', '12', '21', '29', '32', '31']\n"
     ]
    }
   ],
   "source": [
    "# initializing roulette wheel\n",
    "roulette = [str(i) for i in range(1,37)]\n",
    "roulette.append('0')\n",
    "roulette.append('00')\n",
    "random.shuffle(roulette)\n",
    "print(roulette)"
   ]
  },
  {
   "cell_type": "code",
   "execution_count": 25,
   "id": "d64ff64d-6a7a-462e-99fd-1cdb60137fc6",
   "metadata": {},
   "outputs": [
    {
     "name": "stdout",
     "output_type": "stream",
     "text": [
      "('00', None)\n"
     ]
    }
   ],
   "source": [
    "def roll():\n",
    "    random_index = random.randint(0, len(roulette) - 1)\n",
    "    random_pick = roulette[random_index]\n",
    "\n",
    "    if int(random_pick) == 0:\n",
    "        is_even = None\n",
    "    else:\n",
    "        if int(random_pick) % 2 == 0:\n",
    "            is_even = True\n",
    "        else:\n",
    "            is_even = False\n",
    "            \n",
    "    return random_pick, is_even\n",
    "\n",
    "print(roll())"
   ]
  },
  {
   "cell_type": "code",
   "execution_count": 39,
   "id": "d9284046-a2ae-4eeb-9968-2fec0a26544f",
   "metadata": {},
   "outputs": [],
   "source": [
    "my_pick_is_even = True\n",
    "initial_bet = 20\n",
    "iterations = 50\n",
    "\n",
    "my_bets = []\n",
    "my_rewards = []\n",
    "\n",
    "current_bet = initial_bet\n",
    "\n",
    "for i in range(iterations):\n",
    "    my_bets.append(current_bet)\n",
    "    random_pick, is_even = roll()\n",
    "    \n",
    "    if is_even == my_pick_is_even:\n",
    "        # I won\n",
    "        my_rewards.append(current_bet * 2)\n",
    "        current_bet = initial_bet\n",
    "    else:\n",
    "        # I lose\n",
    "        current_bet *= 2"
   ]
  },
  {
   "cell_type": "code",
   "execution_count": 40,
   "id": "1f877dc0-f9f9-4859-820d-6cd0537404f4",
   "metadata": {},
   "outputs": [
    {
     "name": "stdout",
     "output_type": "stream",
     "text": [
      "[20, 20, 20, 40, 20, 20, 40, 80, 160, 20, 20, 20, 20, 40, 80, 20, 20, 40, 80, 160, 320, 640, 1280, 2560, 20, 40, 80, 20, 20, 20, 20, 20, 20, 40, 20, 20, 40, 20, 40, 20, 40, 20, 20, 40, 80, 20, 20, 20, 40, 20]\n"
     ]
    }
   ],
   "source": [
    "print(my_bets)"
   ]
  },
  {
   "cell_type": "code",
   "execution_count": 41,
   "id": "60c98f12-7130-4bdb-9f73-df4ffe564241",
   "metadata": {},
   "outputs": [
    {
     "name": "stdout",
     "output_type": "stream",
     "text": [
      "[40, 40, 80, 40, 320, 40, 40, 40, 160, 40, 5120, 160, 40, 40, 40, 40, 40, 80, 40, 80, 80, 80, 40, 160, 40, 40, 80]\n"
     ]
    }
   ],
   "source": [
    "print(my_rewards)"
   ]
  },
  {
   "cell_type": "code",
   "execution_count": 42,
   "id": "aabcff52-a1d7-4ef3-9a52-3bfccc0e180c",
   "metadata": {},
   "outputs": [
    {
     "data": {
      "text/plain": [
       "6520"
      ]
     },
     "execution_count": 42,
     "metadata": {},
     "output_type": "execute_result"
    }
   ],
   "source": [
    "sum(my_bets)"
   ]
  },
  {
   "cell_type": "code",
   "execution_count": 43,
   "id": "4ae3387c-7a44-47fe-9bac-4f8cbda2bed7",
   "metadata": {},
   "outputs": [
    {
     "data": {
      "text/plain": [
       "5100"
      ]
     },
     "execution_count": 43,
     "metadata": {},
     "output_type": "execute_result"
    }
   ],
   "source": [
    "# how much money do I need to have in my pocket\n",
    "max_spent = (max(my_bets) * 2) - initial_bet\n",
    "max_spent"
   ]
  },
  {
   "cell_type": "code",
   "execution_count": 44,
   "id": "fb928a29-b665-4ee6-be69-14be98021201",
   "metadata": {},
   "outputs": [
    {
     "data": {
      "text/plain": [
       "520"
      ]
     },
     "execution_count": 44,
     "metadata": {},
     "output_type": "execute_result"
    }
   ],
   "source": [
    "# how much extra will I leave the casino\n",
    "sum(my_rewards) - sum(my_bets)"
   ]
  }
 ],
 "metadata": {
  "kernelspec": {
   "display_name": "Python 3 (ipykernel)",
   "language": "python",
   "name": "python3"
  },
  "language_info": {
   "codemirror_mode": {
    "name": "ipython",
    "version": 3
   },
   "file_extension": ".py",
   "mimetype": "text/x-python",
   "name": "python",
   "nbconvert_exporter": "python",
   "pygments_lexer": "ipython3",
   "version": "3.10.13"
  }
 },
 "nbformat": 4,
 "nbformat_minor": 5
}
