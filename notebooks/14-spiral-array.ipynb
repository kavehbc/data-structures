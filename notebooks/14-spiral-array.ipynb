{
 "cells": [
  {
   "cell_type": "markdown",
   "id": "b8270aa8-e4a0-46e4-a231-9a96c1f10105",
   "metadata": {},
   "source": [
    "# Squared Array"
   ]
  },
  {
   "cell_type": "raw",
   "id": "40b359e6-8ccf-4340-b1c1-81c0a6d91a2c",
   "metadata": {
    "execution": {
     "iopub.execute_input": "2024-06-24T20:52:07.085641Z",
     "iopub.status.busy": "2024-06-24T20:52:07.084639Z",
     "iopub.status.idle": "2024-06-24T20:52:07.117644Z",
     "shell.execute_reply": "2024-06-24T20:52:07.116674Z",
     "shell.execute_reply.started": "2024-06-24T20:52:07.085641Z"
    }
   },
   "source": [
    "n = 5\n",
    "\n",
    "01, 02, 03, 04, 05\n",
    "06, 07, 08, 09, 10\n",
    "11, 12, 13, 14, 15\n",
    "16, 17, 18, 19, 20\n",
    "21, 22, 23, 24, 25"
   ]
  },
  {
   "cell_type": "code",
   "execution_count": 2,
   "id": "caf4158f-f941-4a8c-99ff-307d433edd1f",
   "metadata": {
    "execution": {
     "iopub.execute_input": "2024-06-24T20:52:12.343982Z",
     "iopub.status.busy": "2024-06-24T20:52:12.343982Z",
     "iopub.status.idle": "2024-06-24T20:52:12.371945Z",
     "shell.execute_reply": "2024-06-24T20:52:12.370941Z",
     "shell.execute_reply.started": "2024-06-24T20:52:12.343982Z"
    }
   },
   "outputs": [
    {
     "data": {
      "text/plain": [
       "[['01', '02', '03', '04', '05'],\n",
       " ['06', '07', '08', '09', '10'],\n",
       " ['11', '12', '13', '14', '15'],\n",
       " ['16', '17', '18', '19', '20'],\n",
       " ['21', '22', '23', '24', '25']]"
      ]
     },
     "execution_count": 2,
     "metadata": {},
     "output_type": "execute_result"
    }
   ],
   "source": [
    "n = 5\n",
    "lst = []\n",
    "counter = 0\n",
    "for i in range(n):\n",
    "    lst.append([])\n",
    "    for j in range(n):\n",
    "        counter += 1\n",
    "        lst[i].append(f\"{counter:02}\")\n",
    "lst"
   ]
  },
  {
   "cell_type": "markdown",
   "id": "fd7ea533-b967-4d04-b32f-5fa4c45cd127",
   "metadata": {},
   "source": [
    "# Spiral Array"
   ]
  },
  {
   "cell_type": "code",
   "execution_count": 1,
   "id": "9850a22e-a960-4c96-8d9f-8c0dadba3348",
   "metadata": {},
   "outputs": [],
   "source": [
    "import numpy as np"
   ]
  },
  {
   "cell_type": "code",
   "execution_count": 49,
   "id": "17bc4334-533f-4c05-b620-5dff16646d2d",
   "metadata": {},
   "outputs": [
    {
     "data": {
      "text/plain": [
       "array([[0, 0, 0, 0, 0, 0, 0, 0, 0, 0],\n",
       "       [0, 0, 0, 0, 0, 0, 0, 0, 0, 0],\n",
       "       [0, 0, 0, 0, 0, 0, 0, 0, 0, 0],\n",
       "       [0, 0, 0, 0, 0, 0, 0, 0, 0, 0],\n",
       "       [0, 0, 0, 0, 0, 0, 0, 0, 0, 0],\n",
       "       [0, 0, 0, 0, 0, 0, 0, 0, 0, 0],\n",
       "       [0, 0, 0, 0, 0, 0, 0, 0, 0, 0],\n",
       "       [0, 0, 0, 0, 0, 0, 0, 0, 0, 0],\n",
       "       [0, 0, 0, 0, 0, 0, 0, 0, 0, 0],\n",
       "       [0, 0, 0, 0, 0, 0, 0, 0, 0, 0]])"
      ]
     },
     "execution_count": 49,
     "metadata": {},
     "output_type": "execute_result"
    }
   ],
   "source": [
    "n = 10\n",
    "\n",
    "matrix = np.zeros((n,n), dtype=int) \n",
    "matrix"
   ]
  },
  {
   "cell_type": "code",
   "execution_count": 51,
   "id": "0eeccf4c-8557-4be9-adfd-a78914bab473",
   "metadata": {},
   "outputs": [
    {
     "data": {
      "text/plain": [
       "array([[  1,   2,   3,   4,   5,   6,   7,   8,   9,  10],\n",
       "       [ 36,  37,  38,  39,  40,  41,  42,  43,  44,  11],\n",
       "       [ 35,  64,  65,  66,  67,  68,  69,  70,  45,  12],\n",
       "       [ 34,  63,  84,  85,  86,  87,  88,  71,  46,  13],\n",
       "       [ 33,  62,  83,  96,  97,  98,  89,  72,  47,  14],\n",
       "       [ 32,  61,  82,  95, 100,  99,  90,  73,  48,  15],\n",
       "       [ 31,  60,  81,  94,  93,  92,  91,  74,  49,  16],\n",
       "       [ 30,  59,  80,  79,  78,  77,  76,  75,  50,  17],\n",
       "       [ 29,  58,  57,  56,  55,  54,  53,  52,  51,  18],\n",
       "       [ 28,  27,  26,  25,  24,  23,  22,  21,  20,  19]])"
      ]
     },
     "execution_count": 51,
     "metadata": {},
     "output_type": "execute_result"
    }
   ],
   "source": [
    "counter = 0\n",
    "i = 0\n",
    "l = 0\n",
    "while counter < (n * n):\n",
    "    for j in range(0 + l, n - l):\n",
    "        counter += 1\n",
    "        matrix[i][j] = counter\n",
    "    for i in range(l + 1, n - l):\n",
    "        counter += 1\n",
    "        matrix[i][j] = counter\n",
    "    for j in reversed(range(0 + l, n - 1 - l)):\n",
    "        counter += 1\n",
    "        matrix[i][j] = counter\n",
    "    for i in reversed(range(l + 1, n - 1 - l)):\n",
    "        counter += 1\n",
    "        matrix[i][j] = counter\n",
    "    l += 1\n",
    "\n",
    "matrix"
   ]
  }
 ],
 "metadata": {
  "kernelspec": {
   "display_name": "Python 3 (ipykernel)",
   "language": "python",
   "name": "python3"
  },
  "language_info": {
   "codemirror_mode": {
    "name": "ipython",
    "version": 3
   },
   "file_extension": ".py",
   "mimetype": "text/x-python",
   "name": "python",
   "nbconvert_exporter": "python",
   "pygments_lexer": "ipython3",
   "version": "3.10.13"
  }
 },
 "nbformat": 4,
 "nbformat_minor": 5
}
