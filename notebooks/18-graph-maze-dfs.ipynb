{
 "cells": [
  {
   "cell_type": "markdown",
   "id": "ed2fd509-bc0c-4c8a-a08c-23e90a58b65a",
   "metadata": {},
   "source": [
    "# Solving Maze"
   ]
  },
  {
   "cell_type": "markdown",
   "id": "3d6a91d1-1099-4ec5-9d2f-389f6b9b2105",
   "metadata": {},
   "source": [
    "Reference:\n",
    "https://levelup.gitconnected.com/an-animated-guide-to-implementing-dfs-in-python-to-find-a-path-1e939b7b8599"
   ]
  },
  {
   "cell_type": "code",
   "execution_count": 13,
   "id": "8747df56-a375-40a5-a010-446eb25e1b86",
   "metadata": {},
   "outputs": [],
   "source": [
    "import numpy as np"
   ]
  },
  {
   "cell_type": "code",
   "execution_count": 14,
   "id": "cd563b43-a855-44df-a236-3090261b875f",
   "metadata": {},
   "outputs": [
    {
     "data": {
      "text/plain": [
       "array([[1, 1, 1, 1, 1, 1, 1, 1, 1, 1],\n",
       "       [1, 0, 1, 0, 1, 0, 0, 0, 0, 1],\n",
       "       [1, 0, 1, 0, 1, 0, 0, 0, 0, 1],\n",
       "       [1, 0, 1, 0, 1, 1, 1, 1, 0, 1],\n",
       "       [1, 0, 1, 0, 0, 0, 0, 1, 0, 1],\n",
       "       [1, 0, 1, 0, 0, 0, 0, 1, 0, 1],\n",
       "       [1, 0, 0, 0, 0, 0, 0, 1, 0, 1],\n",
       "       [1, 0, 1, 0, 0, 0, 0, 0, 0, 1],\n",
       "       [1, 0, 1, 0, 0, 0, 0, 0, 0, 1],\n",
       "       [1, 1, 1, 1, 1, 1, 1, 1, 1, 1]])"
      ]
     },
     "execution_count": 14,
     "metadata": {},
     "output_type": "execute_result"
    }
   ],
   "source": [
    "maze = np.array([\n",
    "    [1, 1, 1, 1, 1, 1, 1, 1, 1, 1],\n",
    "    [1, 0, 1, 0, 1, 0, 0, 0, 0, 1],\n",
    "    [1, 0, 1, 0, 1, 0, 0, 0, 0, 1],\n",
    "    [1, 0, 1, 0, 1, 1, 1, 1, 0, 1],\n",
    "    [1, 0, 1, 0, 0, 0, 0, 1, 0, 1],\n",
    "    [1, 0, 1, 0, 0, 0, 0, 1, 0, 1],\n",
    "    [1, 0, 0, 0, 0, 0, 0, 1, 0, 1],\n",
    "    [1, 0, 1, 0, 0, 0, 0, 0, 0, 1],\n",
    "    [1, 0, 1, 0, 0, 0, 0, 0, 0, 1],\n",
    "    [1, 1, 1, 1, 1, 1, 1, 1, 1, 1]\n",
    "                ])\n",
    "maze"
   ]
  },
  {
   "cell_type": "code",
   "execution_count": 15,
   "id": "dc8dd760-2f1c-4447-9333-4f2bbc3b4af6",
   "metadata": {},
   "outputs": [
    {
     "data": {
      "text/plain": [
       "array([[ 1,  1,  1,  1,  1,  1,  1,  1,  1,  1],\n",
       "       [ 1, 88,  1,  0,  1,  0,  0,  0,  0,  1],\n",
       "       [ 1,  0,  1,  0,  1, 99,  0,  0,  0,  1],\n",
       "       [ 1,  0,  1,  0,  1,  1,  1,  1,  0,  1],\n",
       "       [ 1,  0,  1,  0,  0,  0,  0,  1,  0,  1],\n",
       "       [ 1,  0,  1,  0,  0,  0,  0,  1,  0,  1],\n",
       "       [ 1,  0,  0,  0,  0,  0,  0,  1,  0,  1],\n",
       "       [ 1,  0,  1,  0,  0,  0,  0,  0,  0,  1],\n",
       "       [ 1,  0,  1,  0,  0,  0,  0,  0,  0,  1],\n",
       "       [ 1,  1,  1,  1,  1,  1,  1,  1,  1,  1]])"
      ]
     },
     "execution_count": 15,
     "metadata": {},
     "output_type": "execute_result"
    }
   ],
   "source": [
    "start = (1, 1)\n",
    "end = (2, 5)\n",
    "\n",
    "marked_maze = maze.copy()\n",
    "marked_maze[start] = 88\n",
    "marked_maze[end] = 99\n",
    "marked_maze"
   ]
  },
  {
   "cell_type": "markdown",
   "id": "43abd139-6d03-404c-b9bb-4334d699b519",
   "metadata": {},
   "source": [
    "## Depth Frist Search"
   ]
  },
  {
   "cell_type": "code",
   "execution_count": 16,
   "id": "6c22402c-3325-487b-ae01-c4f65518cb76",
   "metadata": {},
   "outputs": [],
   "source": [
    "path_so_far = []\n",
    "counter = 0\n",
    "\n",
    "def make_step(i, j):\n",
    "    global counter\n",
    "    \n",
    "    if i < 0 or j < 0 or i > len(maze)-1 or j > len(maze[0])-1:\n",
    "        return\n",
    "    if (i, j) in path_so_far or maze[i][j] > 0:\n",
    "        return\n",
    "    if maze[end[0]][end[1]] > 0:\n",
    "        return\n",
    "    \n",
    "    path_so_far.append((i, j))\n",
    "    counter += 1\n",
    "    maze[i][j] = counter\n",
    "    \n",
    "    if (i, j) == (end[0], end[1]):\n",
    "        print(\"Found!\", path_so_far)\n",
    "        path_so_far.pop()\n",
    "        return\n",
    "    else:\n",
    "        make_step(i - 1, j)  # check top\n",
    "        make_step(i + 1, j)  # check bottom\n",
    "        make_step(i, j + 1)  # check right\n",
    "        make_step(i, j - 1)  # check left\n",
    "    path_so_far.pop()\n",
    "    \n",
    "    return"
   ]
  },
  {
   "cell_type": "code",
   "execution_count": 17,
   "id": "0feb2caf-21b4-40a2-8520-538b50e81f96",
   "metadata": {},
   "outputs": [
    {
     "name": "stdout",
     "output_type": "stream",
     "text": [
      "Found! [(1, 1), (2, 1), (3, 1), (4, 1), (5, 1), (6, 1), (6, 2), (6, 3), (5, 3), (4, 3), (4, 4), (5, 4), (6, 4), (7, 4), (8, 4), (8, 5), (7, 5), (6, 5), (5, 5), (4, 5), (4, 6), (5, 6), (6, 6), (7, 6), (8, 6), (8, 7), (7, 7), (7, 8), (6, 8), (5, 8), (4, 8), (3, 8), (2, 8), (1, 8), (1, 7), (2, 7), (2, 6), (1, 6), (1, 5), (2, 5)]\n"
     ]
    }
   ],
   "source": [
    "make_step(start[0], start[1])"
   ]
  },
  {
   "cell_type": "code",
   "execution_count": 18,
   "id": "17eb7602-30fa-4a14-a4d6-54c92bd71449",
   "metadata": {},
   "outputs": [
    {
     "data": {
      "text/plain": [
       "array([[ 1,  1,  1,  1,  1,  1,  1,  1,  1,  1],\n",
       "       [ 1,  1,  1, 15,  1, 44, 43, 40, 39,  1],\n",
       "       [ 1,  2,  1, 14,  1, 45, 42, 41, 38,  1],\n",
       "       [ 1,  3,  1, 13,  1,  1,  1,  1, 37,  1],\n",
       "       [ 1,  4,  1, 12, 16, 25, 26,  1, 36,  1],\n",
       "       [ 1,  5,  1, 11, 17, 24, 27,  1, 35,  1],\n",
       "       [ 1,  6,  9, 10, 18, 23, 28,  1, 34,  1],\n",
       "       [ 1,  7,  1,  0, 19, 22, 29, 32, 33,  1],\n",
       "       [ 1,  8,  1,  0, 20, 21, 30, 31,  0,  1],\n",
       "       [ 1,  1,  1,  1,  1,  1,  1,  1,  1,  1]])"
      ]
     },
     "execution_count": 18,
     "metadata": {},
     "output_type": "execute_result"
    }
   ],
   "source": [
    "maze"
   ]
  },
  {
   "cell_type": "code",
   "execution_count": null,
   "id": "06e72f6c-14ff-4385-b386-bdee67966271",
   "metadata": {},
   "outputs": [],
   "source": []
  }
 ],
 "metadata": {
  "kernelspec": {
   "display_name": "Python 3 (ipykernel)",
   "language": "python",
   "name": "python3"
  },
  "language_info": {
   "codemirror_mode": {
    "name": "ipython",
    "version": 3
   },
   "file_extension": ".py",
   "mimetype": "text/x-python",
   "name": "python",
   "nbconvert_exporter": "python",
   "pygments_lexer": "ipython3",
   "version": "3.10.13"
  }
 },
 "nbformat": 4,
 "nbformat_minor": 5
}
