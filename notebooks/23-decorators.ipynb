{
 "cells": [
  {
   "cell_type": "markdown",
   "id": "bdacb395-70a0-447a-8973-bc09d925b474",
   "metadata": {},
   "source": [
    "# Decorator"
   ]
  },
  {
   "cell_type": "code",
   "execution_count": 1,
   "id": "5886174b-2216-4a5e-8143-8d1ab1419120",
   "metadata": {},
   "outputs": [],
   "source": [
    "def say_hello(func):\n",
    "    def decorator():\n",
    "        print(\"Hello\")\n",
    "        func()\n",
    "        print(\"Goodbye\")\n",
    "        \n",
    "    return decorator"
   ]
  },
  {
   "cell_type": "code",
   "execution_count": 2,
   "id": "937d698c-aa6c-43e8-8227-3b4a5110262a",
   "metadata": {},
   "outputs": [
    {
     "name": "stdout",
     "output_type": "stream",
     "text": [
      "Hello\n",
      "N: 5, M: 4\n",
      "N*M: 20\n",
      "Goodbye\n"
     ]
    }
   ],
   "source": [
    "@say_hello\n",
    "def calculate():\n",
    "    n = 5\n",
    "    m = 4\n",
    "    print(f\"N: {n}, M: {m}\")\n",
    "    print(f\"N*M: {n * m}\")\n",
    "\n",
    "calculate()"
   ]
  },
  {
   "cell_type": "code",
   "execution_count": 22,
   "id": "4b1b84ba-c8c7-4f2d-a6bf-245a5ef78369",
   "metadata": {},
   "outputs": [
    {
     "name": "stdout",
     "output_type": "stream",
     "text": [
      "Starting...\n",
      "Hello World!\n",
      "Hello World!\n",
      "End of executions\n"
     ]
    }
   ],
   "source": [
    "import functools\n",
    "\n",
    "def run_multiple_times(func):\n",
    "    # @functools.wraps(func)\n",
    "    def decorator():\n",
    "        n = 2\n",
    "        print(\"Starting...\")\n",
    "        for i in range(n):\n",
    "            func()\n",
    "        print(\"End of executions\")\n",
    "        \n",
    "    return decorator\n",
    "\n",
    "\n",
    "@run_multiple_times\n",
    "def say_hello():\n",
    "    print(\"Hello World!\")\n",
    "\n",
    "@run_multiple_times\n",
    "def say_goodbye():\n",
    "    print(\"Goodbye\")\n",
    "\n",
    "          \n",
    "say_hello()\n",
    "          "
   ]
  },
  {
   "cell_type": "code",
   "execution_count": 23,
   "id": "a4b711da-75f1-4c65-8eda-caadef3e8352",
   "metadata": {},
   "outputs": [
    {
     "name": "stdout",
     "output_type": "stream",
     "text": [
      "Starting...\n",
      "Goodbye\n",
      "Goodbye\n",
      "End of executions\n"
     ]
    }
   ],
   "source": [
    "say_goodbye()"
   ]
  },
  {
   "cell_type": "code",
   "execution_count": 34,
   "id": "de5f7137-6672-4f18-899b-b8ecedb72a64",
   "metadata": {},
   "outputs": [
    {
     "name": "stdout",
     "output_type": "stream",
     "text": [
      "Starting say_hello...\n",
      "Hello World!\n",
      "Hello World!\n",
      "Hello World!\n",
      "End of executions\n"
     ]
    }
   ],
   "source": [
    "from functools import wraps\n",
    "\n",
    "def run_multiple_times(n = 2):\n",
    "    def decorator(func):\n",
    "        # @wraps(func)\n",
    "        def wrapper(*args, **kwargs):\n",
    "            print(f\"Starting {func.__name__}...\")\n",
    "            for i in range(n):\n",
    "                func()\n",
    "            print(\"End of executions\")\n",
    "        return wrapper        \n",
    "    return decorator\n",
    "\n",
    "\n",
    "@run_multiple_times(n=3)\n",
    "def say_hello():\n",
    "    print(\"Hello World!\")\n",
    "          \n",
    "say_hello()\n"
   ]
  },
  {
   "cell_type": "code",
   "execution_count": 35,
   "id": "c1b1a0bd-726f-4781-a5e3-3850a78dcb73",
   "metadata": {},
   "outputs": [
    {
     "data": {
      "text/plain": [
       "'wrapper'"
      ]
     },
     "execution_count": 35,
     "metadata": {},
     "output_type": "execute_result"
    }
   ],
   "source": [
    "say_hello.__name__"
   ]
  },
  {
   "cell_type": "code",
   "execution_count": 32,
   "id": "5688dc86-d36b-4b77-8365-b16a8c063bab",
   "metadata": {},
   "outputs": [
    {
     "name": "stdout",
     "output_type": "stream",
     "text": [
      "Hello World!\n",
      "Data\n",
      "It took 5.00473 sec\n",
      "5\n"
     ]
    }
   ],
   "source": [
    "from functools import wraps\n",
    "import time\n",
    "\n",
    "def timer():\n",
    "    def decorator(func):\n",
    "        @wraps(func)\n",
    "        def wrapper(*args, **kwargs):\n",
    "            t0 = time.time()\n",
    "            result = func(*args, **kwargs)\n",
    "            t1 = time.time()\n",
    "            print(f\"It took {t1 - t0:0.5f} sec\")\n",
    "            return result\n",
    "        return wrapper        \n",
    "    return decorator\n",
    "\n",
    "\n",
    "@timer()\n",
    "def say_hello(name=\"test\"):\n",
    "    print(\"Hello World!\")\n",
    "    time.sleep(5)\n",
    "    print(name)\n",
    "    return 5\n",
    "\n",
    "          \n",
    "result = say_hello(\"Data\")\n",
    "print(result)"
   ]
  },
  {
   "cell_type": "code",
   "execution_count": null,
   "id": "d39dea12-a338-4339-ac23-f0be075039ab",
   "metadata": {},
   "outputs": [],
   "source": []
  }
 ],
 "metadata": {
  "kernelspec": {
   "display_name": "Python 3 (ipykernel)",
   "language": "python",
   "name": "python3"
  },
  "language_info": {
   "codemirror_mode": {
    "name": "ipython",
    "version": 3
   },
   "file_extension": ".py",
   "mimetype": "text/x-python",
   "name": "python",
   "nbconvert_exporter": "python",
   "pygments_lexer": "ipython3",
   "version": "3.10.13"
  }
 },
 "nbformat": 4,
 "nbformat_minor": 5
}
