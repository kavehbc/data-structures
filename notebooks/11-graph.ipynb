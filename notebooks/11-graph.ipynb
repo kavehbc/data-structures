{
 "cells": [
  {
   "cell_type": "markdown",
   "id": "77554703-cb1d-47c7-8343-6c945be78c70",
   "metadata": {},
   "source": [
    "# Graph"
   ]
  },
  {
   "cell_type": "markdown",
   "id": "5f4c581e-7626-4fab-86fe-1db95cee936d",
   "metadata": {},
   "source": [
    "## Uni Directional Graph\n",
    "\n",
    "```mermaid\n",
    "graph TB\n",
    "    A((A))\n",
    "    B((B))\n",
    "    C((C))\n",
    "    D((D))\n",
    "    E((E))\n",
    "    F((F))\n",
    "    G((G))\n",
    "    A --> B & C\n",
    "    B --> D & E & F\n",
    "    C --> G\n",
    "```"
   ]
  },
  {
   "cell_type": "code",
   "execution_count": 1,
   "id": "4dcf2369-4514-4e52-8beb-a00de42b1f81",
   "metadata": {},
   "outputs": [
    {
     "data": {
      "text/plain": [
       "{'A': ['B', 'C'], 'B': ['D', 'E', 'F'], 'C': ['G']}"
      ]
     },
     "execution_count": 1,
     "metadata": {},
     "output_type": "execute_result"
    }
   ],
   "source": [
    "graph = {\"A\": [\"B\", \"C\"],\n",
    "         \"B\": [\"D\", \"E\", \"F\"],\n",
    "         \"C\": [\"G\"]\n",
    "        }\n",
    "graph"
   ]
  },
  {
   "cell_type": "markdown",
   "id": "90a29354-a51f-4ba1-868e-2ab5e4e75d18",
   "metadata": {},
   "source": [
    "### Depth First Search"
   ]
  },
  {
   "cell_type": "markdown",
   "id": "e191f421-dc29-4d5b-81cf-0a0046716d99",
   "metadata": {},
   "source": [
    "#### Without Goal"
   ]
  },
  {
   "cell_type": "code",
   "execution_count": 7,
   "id": "47d70a53-df35-4cdc-9e3d-a189d4648901",
   "metadata": {},
   "outputs": [
    {
     "name": "stdout",
     "output_type": "stream",
     "text": [
      "A\n",
      "B\n",
      "D\n",
      "E\n",
      "F\n",
      "C\n",
      "G\n"
     ]
    }
   ],
   "source": [
    "def dfs(graph, start):\n",
    "    print(start)\n",
    "    if start in graph.keys():\n",
    "        for node in graph[start]:\n",
    "            dfs(graph, node)\n",
    "        \n",
    "        \n",
    "dfs(graph, 'A')"
   ]
  },
  {
   "cell_type": "markdown",
   "id": "2fba3d66-0f58-430c-8495-e785537aea2b",
   "metadata": {},
   "source": [
    "#### With Goal"
   ]
  },
  {
   "cell_type": "code",
   "execution_count": 22,
   "id": "4c95abc2-6ab6-4a54-b492-206b954d4fe5",
   "metadata": {},
   "outputs": [
    {
     "name": "stdout",
     "output_type": "stream",
     "text": [
      "A\n",
      "B\n",
      "D\n",
      "E\n",
      "F\n"
     ]
    }
   ],
   "source": [
    "found = False\n",
    "def dfs(graph, start, goal):\n",
    "    global found\n",
    "    if found:\n",
    "        return\n",
    "    \n",
    "    print(start)\n",
    "    if start == goal:\n",
    "        found = True\n",
    "        return\n",
    "    if start not in graph.keys():\n",
    "        return\n",
    "    for node in graph[start]:\n",
    "        dfs(graph, node, goal)\n",
    "        \n",
    "        \n",
    "dfs(graph, 'A', 'F')"
   ]
  },
  {
   "cell_type": "markdown",
   "id": "31f4709b-9148-447d-b201-6e4bfb8f0f87",
   "metadata": {},
   "source": [
    "## Bidirectional Graph\n",
    "\n",
    "```mermaid\n",
    "graph TB\n",
    "    A((A))\n",
    "    B((B))\n",
    "    C((C))\n",
    "    D((D))\n",
    "    E((E))\n",
    "    F((F))\n",
    "    G((G))\n",
    "    A --> B & C\n",
    "    B --> D & E & F & A\n",
    "    C --> G & A\n",
    "    E --> B\n",
    "```"
   ]
  },
  {
   "cell_type": "code",
   "execution_count": 32,
   "id": "b8a63710-0054-4ce6-9d75-19ac1f4bc23d",
   "metadata": {},
   "outputs": [
    {
     "data": {
      "text/plain": [
       "{'A': ['B', 'C'], 'B': ['D', 'E', 'F', 'A'], 'C': ['G', 'A'], 'E': ['B']}"
      ]
     },
     "execution_count": 32,
     "metadata": {},
     "output_type": "execute_result"
    }
   ],
   "source": [
    "dgraph = {\"A\": [\"B\", \"C\"],\n",
    "          \"B\": [\"D\", \"E\", \"F\", \"A\"],\n",
    "          \"C\": [\"G\", \"A\"],\n",
    "          \"E\": [\"B\"]\n",
    "        }\n",
    "dgraph"
   ]
  },
  {
   "cell_type": "markdown",
   "id": "bc0b2bea-2044-4be9-aa7d-3359ad3a9e97",
   "metadata": {},
   "source": [
    "### Depth First Search"
   ]
  },
  {
   "cell_type": "markdown",
   "id": "ccf0514b-59ee-48b5-a3ff-bb8c2fdee75a",
   "metadata": {},
   "source": [
    "#### Without Goal"
   ]
  },
  {
   "cell_type": "code",
   "execution_count": 33,
   "id": "5dadf382-8d4d-4d92-8234-6111625e43e6",
   "metadata": {},
   "outputs": [
    {
     "name": "stdout",
     "output_type": "stream",
     "text": [
      "A\n",
      "B\n",
      "D\n",
      "E\n",
      "F\n",
      "C\n",
      "G\n"
     ]
    }
   ],
   "source": [
    "def dfs(graph, start, visited=[]):\n",
    "    print(start)\n",
    "    visited.append(start)\n",
    "    \n",
    "    if start not in graph.keys():\n",
    "        return\n",
    "    for node in graph[start]:\n",
    "        if node in visited:\n",
    "            return\n",
    "        dfs(graph, node, visited)\n",
    "        \n",
    "        \n",
    "dfs(graph, 'A')"
   ]
  },
  {
   "cell_type": "markdown",
   "id": "2e53464f-50eb-40fa-8737-58ddf013591c",
   "metadata": {},
   "source": [
    "### Breadth First Search"
   ]
  },
  {
   "cell_type": "markdown",
   "id": "f130b66e-2bdf-48f6-8675-9ffcd6dc114c",
   "metadata": {},
   "source": [
    "#### Without Goal"
   ]
  },
  {
   "cell_type": "code",
   "execution_count": 34,
   "id": "494c45d4-5152-4400-84b5-eadc63ca60e9",
   "metadata": {},
   "outputs": [
    {
     "name": "stdout",
     "output_type": "stream",
     "text": [
      "A\n",
      "B\n",
      "C\n",
      "D\n",
      "E\n",
      "F\n",
      "G\n"
     ]
    }
   ],
   "source": [
    "def bfs(graph, start):\n",
    "    queue = []\n",
    "    visited = []\n",
    "    \n",
    "    queue.append(start)\n",
    "    \n",
    "    while len(queue) > 0:\n",
    "        node = queue.pop(0)\n",
    "        visited.append(node)\n",
    "        print(node)\n",
    "        \n",
    "        if node in graph.keys():\n",
    "            for child in graph[node]:\n",
    "                if child not in visited:\n",
    "                    queue.append(child)\n",
    "\n",
    "bfs(dgraph, 'A')"
   ]
  },
  {
   "cell_type": "markdown",
   "id": "bf3ee8df-a6ae-4dd1-b8ac-532d75b693fe",
   "metadata": {},
   "source": [
    "## Graph with costs\n",
    "\n",
    "```mermaid\n",
    "graph TB\n",
    "    A((A))\n",
    "    B((B))\n",
    "    C((C))\n",
    "    D((D))\n",
    "    E((E))\n",
    "    F((F))\n",
    "    G((G))\n",
    "    A --> |5| B\n",
    "    A --> |7| C\n",
    "    B --> D & E\n",
    "    C --> F & G & A\n",
    "    E --> B\n",
    "    F --> C\n",
    "```"
   ]
  },
  {
   "cell_type": "code",
   "execution_count": 2,
   "id": "08c2e663-5909-4c13-8786-266cc601fa3e",
   "metadata": {},
   "outputs": [
    {
     "data": {
      "text/plain": [
       "{'A': [('B', 5), ('C', 7)],\n",
       " 'B': ['D', 'E'],\n",
       " 'C': ['F', 'G', 'A'],\n",
       " 'E': ['B'],\n",
       " 'F': ['C']}"
      ]
     },
     "execution_count": 2,
     "metadata": {},
     "output_type": "execute_result"
    }
   ],
   "source": [
    "graph = {\"A\": [(\"B\", 5), (\"C\", 7)],\n",
    "         \"B\": [\"D\", \"E\"],\n",
    "         \"C\": [\"F\", \"G\", \"A\"],\n",
    "         \"E\": [\"B\"],\n",
    "         \"F\": [\"C\"]}\n",
    "graph"
   ]
  },
  {
   "cell_type": "code",
   "execution_count": null,
   "id": "0d25d64b-ee9c-4614-9a2d-a6a93f474df7",
   "metadata": {},
   "outputs": [],
   "source": []
  }
 ],
 "metadata": {
  "kernelspec": {
   "display_name": "Python 3 (ipykernel)",
   "language": "python",
   "name": "python3"
  },
  "language_info": {
   "codemirror_mode": {
    "name": "ipython",
    "version": 3
   },
   "file_extension": ".py",
   "mimetype": "text/x-python",
   "name": "python",
   "nbconvert_exporter": "python",
   "pygments_lexer": "ipython3",
   "version": "3.10.13"
  }
 },
 "nbformat": 4,
 "nbformat_minor": 5
}
