{
 "cells": [
  {
   "cell_type": "markdown",
   "id": "407f8f3d-5c5a-439d-a34d-27e637e1adc3",
   "metadata": {},
   "source": [
    "# Finding Max"
   ]
  },
  {
   "cell_type": "markdown",
   "id": "71d00be3-029c-4d7e-9db8-e1eb2e527113",
   "metadata": {},
   "source": [
    "https://www.hackerrank.com/challenges/flipping-the-matrix/problem"
   ]
  },
  {
   "cell_type": "code",
   "execution_count": 52,
   "id": "c0b9c9cc-20d0-46ab-94bf-b51867e5001e",
   "metadata": {},
   "outputs": [],
   "source": [
    "import numpy as np"
   ]
  },
  {
   "cell_type": "code",
   "execution_count": 63,
   "id": "bc213a18-eb08-4c5d-87ee-d180bdecd300",
   "metadata": {},
   "outputs": [
    {
     "data": {
      "text/plain": [
       "[[112, 42, 83, 119], [56, 125, 56, 49], [15, 78, 101, 43], [62, 98, 114, 108]]"
      ]
     },
     "execution_count": 63,
     "metadata": {},
     "output_type": "execute_result"
    }
   ],
   "source": [
    "matrix = [[112, 42, 83, 119],\n",
    "          [56, 125, 56, 49],\n",
    "          [15, 78, 101, 43],\n",
    "          [62, 98, 114, 108]]\n",
    "matrix"
   ]
  },
  {
   "cell_type": "code",
   "execution_count": 67,
   "id": "6f3430dc-bb11-4e0a-86c7-63a885b545ca",
   "metadata": {},
   "outputs": [
    {
     "name": "stdout",
     "output_type": "stream",
     "text": [
      "[[112  42  83 119]\n",
      " [ 56 125  56  49]\n",
      " [ 15  78 101  43]\n",
      " [ 62  98 114 108]]\n",
      "\n"
     ]
    },
    {
     "data": {
      "text/plain": [
       "414"
      ]
     },
     "execution_count": 67,
     "metadata": {},
     "output_type": "execute_result"
    }
   ],
   "source": [
    "print(np.array(matrix))\n",
    "print(\"\")\n",
    "\n",
    "mid_point = len(matrix) // 2\n",
    "\n",
    "sum_value = 0\n",
    "for x, row in enumerate(matrix[:mid_point]):\n",
    "    for y, col in enumerate(row):\n",
    "        if y < mid_point:\n",
    "            m = len(matrix) - 1\n",
    "            sum_value += max(matrix[x][y],\n",
    "                           matrix[x][m-y],\n",
    "                           matrix[m-x][y],\n",
    "                           matrix[m-x][m-y])\n",
    "sum_value"
   ]
  },
  {
   "cell_type": "code",
   "execution_count": null,
   "id": "4ad74acc-1063-4ee2-9272-13cceb8566f6",
   "metadata": {},
   "outputs": [],
   "source": []
  }
 ],
 "metadata": {
  "kernelspec": {
   "display_name": "Python 3 (ipykernel)",
   "language": "python",
   "name": "python3"
  },
  "language_info": {
   "codemirror_mode": {
    "name": "ipython",
    "version": 3
   },
   "file_extension": ".py",
   "mimetype": "text/x-python",
   "name": "python",
   "nbconvert_exporter": "python",
   "pygments_lexer": "ipython3",
   "version": "3.10.13"
  }
 },
 "nbformat": 4,
 "nbformat_minor": 5
}
