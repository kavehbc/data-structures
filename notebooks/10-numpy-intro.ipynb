{
 "cells": [
  {
   "cell_type": "markdown",
   "id": "e56fd7ba-72f1-470f-b04b-4975232ccc96",
   "metadata": {},
   "source": [
    "# Numpy vs List"
   ]
  },
  {
   "cell_type": "code",
   "execution_count": 1,
   "id": "ec980091-8f07-41d3-af74-e0cb335048a0",
   "metadata": {},
   "outputs": [],
   "source": [
    "import numpy as np\n",
    "import sys\n",
    "import time"
   ]
  },
  {
   "cell_type": "code",
   "execution_count": 2,
   "id": "5ee8bcb3-b9b5-4976-9be6-c8fe122e3fc0",
   "metadata": {},
   "outputs": [
    {
     "data": {
      "text/plain": [
       "'1.26.4'"
      ]
     },
     "execution_count": 2,
     "metadata": {},
     "output_type": "execute_result"
    }
   ],
   "source": [
    "np.__version__"
   ]
  },
  {
   "cell_type": "markdown",
   "id": "66e403af-53f4-4ffb-b260-31bd321b0deb",
   "metadata": {},
   "source": [
    "## List"
   ]
  },
  {
   "cell_type": "code",
   "execution_count": 8,
   "id": "2582ef80-891d-4a54-9957-4fa0014d3a9f",
   "metadata": {},
   "outputs": [
    {
     "data": {
      "text/plain": [
       "[1, 2, 3, 4, 5]"
      ]
     },
     "execution_count": 8,
     "metadata": {},
     "output_type": "execute_result"
    }
   ],
   "source": [
    "# start with list\n",
    "\n",
    "list1 = [1, 2, 3, 4, 5]\n",
    "list1"
   ]
  },
  {
   "cell_type": "code",
   "execution_count": 4,
   "id": "da8a943a-99f7-45fd-b703-20402d4f343f",
   "metadata": {},
   "outputs": [
    {
     "ename": "TypeError",
     "evalue": "can only concatenate list (not \"int\") to list",
     "output_type": "error",
     "traceback": [
      "\u001b[0;31m---------------------------------------------------------------------------\u001b[0m",
      "\u001b[0;31mTypeError\u001b[0m                                 Traceback (most recent call last)",
      "Input \u001b[0;32mIn [4]\u001b[0m, in \u001b[0;36m<cell line: 1>\u001b[0;34m()\u001b[0m\n\u001b[0;32m----> 1\u001b[0m list2 \u001b[38;5;241m=\u001b[39m \u001b[43mlist1\u001b[49m\u001b[43m \u001b[49m\u001b[38;5;241;43m+\u001b[39;49m\u001b[43m \u001b[49m\u001b[38;5;241;43m10\u001b[39;49m\n",
      "\u001b[0;31mTypeError\u001b[0m: can only concatenate list (not \"int\") to list"
     ]
    }
   ],
   "source": [
    "# adding an integer to a list raises an exception\n",
    "\n",
    "list2 = list1 + 10"
   ]
  },
  {
   "cell_type": "code",
   "execution_count": 10,
   "id": "1907caa1-4d9d-4723-be58-1057866eafd6",
   "metadata": {},
   "outputs": [
    {
     "data": {
      "text/plain": [
       "[11, 12, 13, 14, 15]"
      ]
     },
     "execution_count": 10,
     "metadata": {},
     "output_type": "execute_result"
    }
   ],
   "source": [
    "# in order to add an integer to each item in the list,\n",
    "# we should use a loop\n",
    "\n",
    "list2 = []\n",
    "for i in list1:\n",
    "    list2.append(i + 10)\n",
    "    \n",
    "list2"
   ]
  },
  {
   "cell_type": "code",
   "execution_count": 5,
   "id": "0dcc68db-687b-4ecb-93d4-96064ec27c3a",
   "metadata": {},
   "outputs": [
    {
     "data": {
      "text/plain": [
       "[1, 2, 3, 4, 5, 1, 2, 3, 4, 5]"
      ]
     },
     "execution_count": 5,
     "metadata": {},
     "output_type": "execute_result"
    }
   ],
   "source": [
    "# multiplying an integer to a list would duplicate the list\n",
    "\n",
    "list2 = list1 * 2\n",
    "list2"
   ]
  },
  {
   "cell_type": "code",
   "execution_count": 23,
   "id": "6aa6053f-6e88-4078-9c06-a2b32682f250",
   "metadata": {},
   "outputs": [
    {
     "ename": "TypeError",
     "evalue": "unsupported operand type(s) for /: 'list' and 'int'",
     "output_type": "error",
     "traceback": [
      "\u001b[0;31m---------------------------------------------------------------------------\u001b[0m",
      "\u001b[0;31mTypeError\u001b[0m                                 Traceback (most recent call last)",
      "Input \u001b[0;32mIn [23]\u001b[0m, in \u001b[0;36m<cell line: 1>\u001b[0;34m()\u001b[0m\n\u001b[0;32m----> 1\u001b[0m list2 \u001b[38;5;241m=\u001b[39m \u001b[43mlist1\u001b[49m\u001b[43m \u001b[49m\u001b[38;5;241;43m/\u001b[39;49m\u001b[43m \u001b[49m\u001b[38;5;241;43m2\u001b[39;49m\n\u001b[1;32m      2\u001b[0m list2\n",
      "\u001b[0;31mTypeError\u001b[0m: unsupported operand type(s) for /: 'list' and 'int'"
     ]
    }
   ],
   "source": [
    "# eventhough multipling will duplicate the list, division raises an error\n",
    "\n",
    "list2 = list1 / 2\n",
    "list2"
   ]
  },
  {
   "cell_type": "code",
   "execution_count": 11,
   "id": "6820dd0e-7532-42c6-9e1e-b01026b55d88",
   "metadata": {},
   "outputs": [
    {
     "data": {
      "text/plain": [
       "[2, 4, 6, 8, 10]"
      ]
     },
     "execution_count": 11,
     "metadata": {},
     "output_type": "execute_result"
    }
   ],
   "source": [
    "# again to multiply an integer to all the items of the list, we should use a loop\n",
    "\n",
    "list2 = []\n",
    "for i in list1:\n",
    "    list2.append(i * 2)\n",
    "    \n",
    "list2"
   ]
  },
  {
   "cell_type": "code",
   "execution_count": 6,
   "id": "2f23b800-ca88-4e29-a058-f3af1cf88497",
   "metadata": {},
   "outputs": [
    {
     "ename": "TypeError",
     "evalue": "can't multiply sequence by non-int of type 'list'",
     "output_type": "error",
     "traceback": [
      "\u001b[0;31m---------------------------------------------------------------------------\u001b[0m",
      "\u001b[0;31mTypeError\u001b[0m                                 Traceback (most recent call last)",
      "Input \u001b[0;32mIn [6]\u001b[0m, in \u001b[0;36m<cell line: 3>\u001b[0;34m()\u001b[0m\n\u001b[1;32m      1\u001b[0m list1 \u001b[38;5;241m=\u001b[39m [\u001b[38;5;241m1\u001b[39m, \u001b[38;5;241m2\u001b[39m, \u001b[38;5;241m3\u001b[39m, \u001b[38;5;241m4\u001b[39m, \u001b[38;5;241m5\u001b[39m]\n\u001b[1;32m      2\u001b[0m list2 \u001b[38;5;241m=\u001b[39m [\u001b[38;5;241m5\u001b[39m, \u001b[38;5;241m4\u001b[39m, \u001b[38;5;241m3\u001b[39m, \u001b[38;5;241m2\u001b[39m, \u001b[38;5;241m1\u001b[39m]\n\u001b[0;32m----> 3\u001b[0m list3 \u001b[38;5;241m=\u001b[39m \u001b[43mlist1\u001b[49m\u001b[43m \u001b[49m\u001b[38;5;241;43m*\u001b[39;49m\u001b[43m \u001b[49m\u001b[43mlist2\u001b[49m\n",
      "\u001b[0;31mTypeError\u001b[0m: can't multiply sequence by non-int of type 'list'"
     ]
    }
   ],
   "source": [
    "# multiplying two list raises an exception/error\n",
    "\n",
    "list1 = [1, 2, 3, 4, 5]\n",
    "list2 = [5, 4, 3, 2, 1]\n",
    "list3 = list1 * list2"
   ]
  },
  {
   "cell_type": "markdown",
   "id": "705e0aa7-a337-4c67-b13b-73a5f3894fb9",
   "metadata": {},
   "source": [
    "## Numpy"
   ]
  },
  {
   "cell_type": "code",
   "execution_count": 7,
   "id": "45ba39e1-5c01-4031-ad5c-b7792834115a",
   "metadata": {},
   "outputs": [
    {
     "data": {
      "text/plain": [
       "numpy.ndarray"
      ]
     },
     "execution_count": 7,
     "metadata": {},
     "output_type": "execute_result"
    }
   ],
   "source": [
    "# initializing a numpy array\n",
    "\n",
    "array1 = np.array([1, 2, 3, 4, 5])\n",
    "type(array1)"
   ]
  },
  {
   "cell_type": "code",
   "execution_count": 8,
   "id": "1e7688bf-98dd-4aa9-8b03-b99c858d2518",
   "metadata": {},
   "outputs": [
    {
     "data": {
      "text/plain": [
       "array([1, 2, 3, 4, 5])"
      ]
     },
     "execution_count": 8,
     "metadata": {},
     "output_type": "execute_result"
    }
   ],
   "source": [
    "array1"
   ]
  },
  {
   "cell_type": "code",
   "execution_count": 9,
   "id": "3f9d53dc-9049-4b2f-a375-ce986833dc8f",
   "metadata": {},
   "outputs": [
    {
     "data": {
      "text/plain": [
       "(5,)"
      ]
     },
     "execution_count": 9,
     "metadata": {},
     "output_type": "execute_result"
    }
   ],
   "source": [
    "array1.shape"
   ]
  },
  {
   "cell_type": "code",
   "execution_count": 10,
   "id": "1365b899-adca-4a18-827e-52ae0d3b6574",
   "metadata": {},
   "outputs": [
    {
     "data": {
      "text/plain": [
       "array([[1, 2, 3],\n",
       "       [4, 5, 6]])"
      ]
     },
     "execution_count": 10,
     "metadata": {},
     "output_type": "execute_result"
    }
   ],
   "source": [
    "# initializing a muli-dimensional array\n",
    "\n",
    "n_array = np.array([(1, 2, 3),(4, 5, 6)])\n",
    "# n_array = np.array([[1, 2, 3],[4, 5, 6]])\n",
    "n_array"
   ]
  },
  {
   "cell_type": "code",
   "execution_count": 11,
   "id": "bb8432d7-c1d3-4930-a80e-f130796adcf8",
   "metadata": {},
   "outputs": [
    {
     "data": {
      "text/plain": [
       "(2, 3)"
      ]
     },
     "execution_count": 11,
     "metadata": {},
     "output_type": "execute_result"
    }
   ],
   "source": [
    "n_array.shape"
   ]
  },
  {
   "cell_type": "code",
   "execution_count": 12,
   "id": "02b31961-24d9-401e-8d29-e25519d3df63",
   "metadata": {},
   "outputs": [
    {
     "data": {
      "text/plain": [
       "5"
      ]
     },
     "execution_count": 12,
     "metadata": {},
     "output_type": "execute_result"
    }
   ],
   "source": [
    "# getting access to an item in the 2nd row and 2nd column\n",
    "\n",
    "n_array[1, 1]\n",
    "\n",
    "# list1[1][1]"
   ]
  },
  {
   "cell_type": "code",
   "execution_count": 13,
   "id": "8fcc138f-16c3-40e2-885a-c3fc17e41d90",
   "metadata": {},
   "outputs": [
    {
     "data": {
      "text/plain": [
       "dtype('int32')"
      ]
     },
     "execution_count": 13,
     "metadata": {},
     "output_type": "execute_result"
    }
   ],
   "source": [
    "n_array.dtype"
   ]
  },
  {
   "cell_type": "code",
   "execution_count": 15,
   "id": "5972b6e3-7a72-4fa7-96db-4441d57f275f",
   "metadata": {},
   "outputs": [
    {
     "data": {
      "text/plain": [
       "numpy.int32"
      ]
     },
     "execution_count": 15,
     "metadata": {},
     "output_type": "execute_result"
    }
   ],
   "source": [
    "type(n_array[0][0])"
   ]
  },
  {
   "cell_type": "markdown",
   "id": "66dad1ed-fbee-4803-8c93-cc1685093497",
   "metadata": {},
   "source": [
    "### Oprations on Numpy"
   ]
  },
  {
   "cell_type": "code",
   "execution_count": 19,
   "id": "82130c9e-31fc-4c77-aa32-b575488e64d0",
   "metadata": {},
   "outputs": [],
   "source": [
    "array1 = np.array([1, 2, 3, 4, 5])"
   ]
  },
  {
   "cell_type": "code",
   "execution_count": 20,
   "id": "a12539cb-6a3e-42d8-bf0b-5a6011ddba13",
   "metadata": {},
   "outputs": [
    {
     "data": {
      "text/plain": [
       "array([11, 12, 13, 14, 15])"
      ]
     },
     "execution_count": 20,
     "metadata": {},
     "output_type": "execute_result"
    }
   ],
   "source": [
    "array2 = array1 + 10\n",
    "array2"
   ]
  },
  {
   "cell_type": "code",
   "execution_count": 21,
   "id": "324dd15f-8c81-4dc3-a31a-68072cc77ddc",
   "metadata": {},
   "outputs": [
    {
     "data": {
      "text/plain": [
       "array([ 2,  4,  6,  8, 10])"
      ]
     },
     "execution_count": 21,
     "metadata": {},
     "output_type": "execute_result"
    }
   ],
   "source": [
    "array2 = array1 * 2\n",
    "array2"
   ]
  },
  {
   "cell_type": "code",
   "execution_count": 24,
   "id": "a941989a-c627-457d-bc80-93e731fdada8",
   "metadata": {},
   "outputs": [
    {
     "data": {
      "text/plain": [
       "array([0.5, 1. , 1.5, 2. , 2.5])"
      ]
     },
     "execution_count": 24,
     "metadata": {},
     "output_type": "execute_result"
    }
   ],
   "source": [
    "array2 = array1 / 2\n",
    "array2"
   ]
  },
  {
   "cell_type": "code",
   "execution_count": 22,
   "id": "219512e2-54f6-4b14-8206-c42b4470c0fd",
   "metadata": {},
   "outputs": [
    {
     "data": {
      "text/plain": [
       "array([5, 8, 9, 8, 5])"
      ]
     },
     "execution_count": 22,
     "metadata": {},
     "output_type": "execute_result"
    }
   ],
   "source": [
    "array1 = np.array([1, 2, 3, 4, 5])\n",
    "array2 = np.array([5, 4, 3, 2, 1])\n",
    "\n",
    "array3 = array1 * array2\n",
    "array3"
   ]
  },
  {
   "cell_type": "code",
   "execution_count": 43,
   "id": "ff435450-4f23-42e0-bbf8-84fddefc3d69",
   "metadata": {},
   "outputs": [],
   "source": [
    "array1 = np.array([{\"name\":\"DS\"}, 2, [7, 9], 4.5, 5], dtype='object')"
   ]
  },
  {
   "cell_type": "code",
   "execution_count": 44,
   "id": "b7453db9-fb23-4bcd-921f-6a4632ab75a7",
   "metadata": {},
   "outputs": [
    {
     "data": {
      "text/plain": [
       "array([{'name': 'DS'}, 2, list([7, 9]), 4.5, 5], dtype=object)"
      ]
     },
     "execution_count": 44,
     "metadata": {},
     "output_type": "execute_result"
    }
   ],
   "source": [
    "array1"
   ]
  },
  {
   "cell_type": "code",
   "execution_count": 45,
   "id": "75f7a62d-6e3e-4b22-8287-a9ede048feec",
   "metadata": {},
   "outputs": [
    {
     "data": {
      "text/plain": [
       "{'name': 'DS'}"
      ]
     },
     "execution_count": 45,
     "metadata": {},
     "output_type": "execute_result"
    }
   ],
   "source": [
    "array1[0]"
   ]
  },
  {
   "cell_type": "code",
   "execution_count": 46,
   "id": "843913d4-f78f-49ff-aca9-cd7f060bfb26",
   "metadata": {},
   "outputs": [
    {
     "data": {
      "text/plain": [
       "'DS'"
      ]
     },
     "execution_count": 46,
     "metadata": {},
     "output_type": "execute_result"
    }
   ],
   "source": [
    "array1[0][\"name\"]"
   ]
  },
  {
   "cell_type": "code",
   "execution_count": 47,
   "id": "a096a74b-6440-48e3-9243-552c9e468afc",
   "metadata": {},
   "outputs": [
    {
     "data": {
      "text/plain": [
       "[7, 9]"
      ]
     },
     "execution_count": 47,
     "metadata": {},
     "output_type": "execute_result"
    }
   ],
   "source": [
    "array1[2]"
   ]
  },
  {
   "cell_type": "markdown",
   "id": "511e8878-1eb9-4dd4-a423-42da3ce62fd8",
   "metadata": {},
   "source": [
    "### Numpy vs List: Memory Consumption"
   ]
  },
  {
   "cell_type": "code",
   "execution_count": 29,
   "id": "d528f1f4-835b-417e-82a8-ed7e14fcb4f3",
   "metadata": {},
   "outputs": [
    {
     "name": "stdout",
     "output_type": "stream",
     "text": [
      "Size of each element of the list in bytes: 48\n",
      "Size of the whole list in bytes: 48000\n"
     ]
    }
   ],
   "source": [
    "list1 = range(1000)\n",
    "\n",
    "print(f\"Size of each element of the list in bytes: {sys.getsizeof(list1)}\")\n",
    "print(f\"Size of the whole list in bytes: {sys.getsizeof(list1) * len(list1)}\")"
   ]
  },
  {
   "cell_type": "code",
   "execution_count": 32,
   "id": "0902b378-5b0b-4005-a5ad-681de77007d8",
   "metadata": {},
   "outputs": [
    {
     "name": "stdout",
     "output_type": "stream",
     "text": [
      "Size of each element of the list in bytes: 8\n",
      "Size of the whole list in bytes: 8000\n"
     ]
    }
   ],
   "source": [
    "array1 = np.arange(1000)\n",
    "\n",
    "print(f\"Size of each element of the list in bytes: {array1.itemsize}\")\n",
    "print(f\"Size of the whole list in bytes: {array1.itemsize * array1.size}\")"
   ]
  },
  {
   "cell_type": "markdown",
   "id": "b0229f2e-8bca-42fa-8ac1-2ca617a5061c",
   "metadata": {},
   "source": [
    "### Numpy vs List: Computational Time"
   ]
  },
  {
   "cell_type": "code",
   "execution_count": 3,
   "id": "7b1331a0-492c-4668-9c59-54484df6e0ad",
   "metadata": {},
   "outputs": [],
   "source": [
    "size = 1000000\n",
    "\n",
    "list1 = range(size)\n",
    "list2 = range(size)\n",
    "\n",
    "array1 = np.arange(size)\n",
    "array2 = np.arange(size)\n"
   ]
  },
  {
   "cell_type": "code",
   "execution_count": 5,
   "id": "e326d945-5ffd-4ab2-b208-c74dd8259862",
   "metadata": {},
   "outputs": [
    {
     "name": "stdout",
     "output_type": "stream",
     "text": [
      "CPU times: total: 172 ms\n",
      "Wall time: 223 ms\n"
     ]
    }
   ],
   "source": [
    "%%time\n",
    "\n",
    "output = [(a * b) for a, b in zip(list1, list2)]"
   ]
  },
  {
   "cell_type": "code",
   "execution_count": 6,
   "id": "9b1ccabe-bcad-4892-a76f-1057f83b491a",
   "metadata": {},
   "outputs": [
    {
     "name": "stdout",
     "output_type": "stream",
     "text": [
      "CPU times: total: 31.2 ms\n",
      "Wall time: 27 ms\n"
     ]
    }
   ],
   "source": [
    "%%time\n",
    "\n",
    "output = array1 * array2"
   ]
  }
 ],
 "metadata": {
  "kernelspec": {
   "display_name": "Python 3 (ipykernel)",
   "language": "python",
   "name": "python3"
  },
  "language_info": {
   "codemirror_mode": {
    "name": "ipython",
    "version": 3
   },
   "file_extension": ".py",
   "mimetype": "text/x-python",
   "name": "python",
   "nbconvert_exporter": "python",
   "pygments_lexer": "ipython3",
   "version": "3.10.13"
  }
 },
 "nbformat": 4,
 "nbformat_minor": 5
}
