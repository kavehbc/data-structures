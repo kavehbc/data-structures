{
 "cells": [
  {
   "cell_type": "markdown",
   "id": "ff144849-891f-4f60-8972-0588fdbb022d",
   "metadata": {},
   "source": [
    "# Dictionary"
   ]
  },
  {
   "cell_type": "code",
   "execution_count": 1,
   "id": "fc0b7c82-ab7a-40a0-a69e-c91575789dc4",
   "metadata": {
    "execution": {
     "iopub.execute_input": "2024-06-24T20:10:14.460569Z",
     "iopub.status.busy": "2024-06-24T20:10:14.460569Z",
     "iopub.status.idle": "2024-06-24T20:10:14.480909Z",
     "shell.execute_reply": "2024-06-24T20:10:14.479822Z",
     "shell.execute_reply.started": "2024-06-24T20:10:14.460569Z"
    }
   },
   "outputs": [],
   "source": [
    "my_dict = {\"key1\": \"value1\", \"key2\": \"value2\"}"
   ]
  },
  {
   "cell_type": "code",
   "execution_count": 2,
   "id": "fcf06a54-ae6a-4c3b-bf1f-6053b00b4409",
   "metadata": {
    "execution": {
     "iopub.execute_input": "2024-06-24T20:10:14.482933Z",
     "iopub.status.busy": "2024-06-24T20:10:14.482933Z",
     "iopub.status.idle": "2024-06-24T20:10:14.512155Z",
     "shell.execute_reply": "2024-06-24T20:10:14.510211Z",
     "shell.execute_reply.started": "2024-06-24T20:10:14.482933Z"
    }
   },
   "outputs": [
    {
     "data": {
      "text/plain": [
       "{'key1': 'value1', 'key2': 'value2'}"
      ]
     },
     "execution_count": 2,
     "metadata": {},
     "output_type": "execute_result"
    }
   ],
   "source": [
    "my_dict"
   ]
  },
  {
   "cell_type": "code",
   "execution_count": 3,
   "id": "1488fd20-f96c-4ddf-b2d0-e53f39f1d5e9",
   "metadata": {
    "execution": {
     "iopub.execute_input": "2024-06-24T20:10:14.514165Z",
     "iopub.status.busy": "2024-06-24T20:10:14.514165Z",
     "iopub.status.idle": "2024-06-24T20:10:14.527490Z",
     "shell.execute_reply": "2024-06-24T20:10:14.526375Z",
     "shell.execute_reply.started": "2024-06-24T20:10:14.514165Z"
    }
   },
   "outputs": [
    {
     "data": {
      "text/plain": [
       "'value1'"
      ]
     },
     "execution_count": 3,
     "metadata": {},
     "output_type": "execute_result"
    }
   ],
   "source": [
    "my_dict[\"key1\"]"
   ]
  },
  {
   "cell_type": "code",
   "execution_count": 4,
   "id": "82207644-45d6-4162-9ccc-0cc73cbe3879",
   "metadata": {
    "execution": {
     "iopub.execute_input": "2024-06-24T20:10:14.529501Z",
     "iopub.status.busy": "2024-06-24T20:10:14.528504Z",
     "iopub.status.idle": "2024-06-24T20:10:14.543508Z",
     "shell.execute_reply": "2024-06-24T20:10:14.541506Z",
     "shell.execute_reply.started": "2024-06-24T20:10:14.529501Z"
    }
   },
   "outputs": [
    {
     "data": {
      "text/plain": [
       "{'courses': [{'name': 'db', 'teacher': 'Kaveh'},\n",
       "  {'name': 'Python', 'teacher': 'Salar'},\n",
       "  {'name': 'OOP', 'teacher': 'Salar'}]}"
      ]
     },
     "execution_count": 4,
     "metadata": {},
     "output_type": "execute_result"
    }
   ],
   "source": [
    "my_courses = {\"courses\":\n",
    "              [{\"name\": \"db\", \"teacher\": \"Kaveh\"},\n",
    "               {\"name\": \"Python\", \"teacher\": \"Salar\"},\n",
    "               {\"name\": \"OOP\", \"teacher\": \"Salar\"}]}\n",
    "my_courses"
   ]
  },
  {
   "cell_type": "code",
   "execution_count": 5,
   "id": "27800f42-0e2b-45c8-bcf9-15c97cb0d893",
   "metadata": {
    "execution": {
     "iopub.execute_input": "2024-06-24T20:10:14.545503Z",
     "iopub.status.busy": "2024-06-24T20:10:14.545503Z",
     "iopub.status.idle": "2024-06-24T20:10:14.559502Z",
     "shell.execute_reply": "2024-06-24T20:10:14.557529Z",
     "shell.execute_reply.started": "2024-06-24T20:10:14.545503Z"
    }
   },
   "outputs": [
    {
     "data": {
      "text/plain": [
       "'Salar'"
      ]
     },
     "execution_count": 5,
     "metadata": {},
     "output_type": "execute_result"
    }
   ],
   "source": [
    "# finding the teacher of OOP course\n",
    "\n",
    "my_courses[\"courses\"][2][\"teacher\"]"
   ]
  },
  {
   "cell_type": "code",
   "execution_count": 6,
   "id": "e344f07e-bd83-4a34-afda-780e5cab6ba4",
   "metadata": {
    "execution": {
     "iopub.execute_input": "2024-06-24T20:10:14.563509Z",
     "iopub.status.busy": "2024-06-24T20:10:14.561502Z",
     "iopub.status.idle": "2024-06-24T20:10:14.573509Z",
     "shell.execute_reply": "2024-06-24T20:10:14.572504Z",
     "shell.execute_reply.started": "2024-06-24T20:10:14.563509Z"
    }
   },
   "outputs": [
    {
     "name": "stdout",
     "output_type": "stream",
     "text": [
      "Salar\n"
     ]
    }
   ],
   "source": [
    "for course in my_courses[\"courses\"]:\n",
    "    if course[\"name\"] == \"OOP\":\n",
    "        print(course[\"teacher\"])"
   ]
  },
  {
   "cell_type": "markdown",
   "id": "8bb43562-7452-4d49-b7b3-11dacd0754f9",
   "metadata": {},
   "source": [
    "## Starting with List"
   ]
  },
  {
   "cell_type": "code",
   "execution_count": 7,
   "id": "cefd9416-5465-4603-8b0b-8987b8c949a9",
   "metadata": {
    "execution": {
     "iopub.execute_input": "2024-06-24T20:10:14.576503Z",
     "iopub.status.busy": "2024-06-24T20:10:14.575502Z",
     "iopub.status.idle": "2024-06-24T20:10:14.605149Z",
     "shell.execute_reply": "2024-06-24T20:10:14.603980Z",
     "shell.execute_reply.started": "2024-06-24T20:10:14.576503Z"
    }
   },
   "outputs": [],
   "source": [
    "phone_book = [\n",
    "    {\"name\": \"Kaveh\",\n",
    "    \"email\": [{\"home\": \"kaveh@gmail.com\"}, {\"work\": \"kaveh@work.com\"}],\n",
    "     \"phone\": [{\"home\": \"1234567\"}, {\"work\": \"7654321\"}],\n",
    "     \"address\": [{\"type\": \"work\",\n",
    "                  \"address\": \"2000 Sainte-Catherine\",\n",
    "                  \"city\": \"Montreal\",\n",
    "                  \"state\": \"Quebec\",\n",
    "                  \"postal_code\": \"H3H1A1\",\n",
    "                  \"country\": \"Canada\"\n",
    "                 }]\n",
    "     \n",
    "    },\n",
    "    {\"name\": \"Salar\",\n",
    "    \"email\": [{\"home\": \"salar@gmail.com\"}, {\"work\": \"salar@work.com\"}],\n",
    "     \"phone\": [{\"home\": \"1234567\"}, {\"work\": \"7654321\"}],\n",
    "     \"address\": [{\"type\": \"work\",\n",
    "                  \"address\": \"2000 Sainte-Catherine\",\n",
    "                  \"city\": \"Montreal\",\n",
    "                  \"state\": \"Quebec\",\n",
    "                  \"postal_code\": \"H3H1A1\",\n",
    "                  \"country\": \"Canada\"\n",
    "                 }]\n",
    "     \n",
    "    }\n",
    "    ] "
   ]
  },
  {
   "cell_type": "code",
   "execution_count": 8,
   "id": "8bf83c0e-5744-474c-bfb9-8dd54eafcc60",
   "metadata": {
    "execution": {
     "iopub.execute_input": "2024-06-24T20:10:14.606164Z",
     "iopub.status.busy": "2024-06-24T20:10:14.606164Z",
     "iopub.status.idle": "2024-06-24T20:10:14.621162Z",
     "shell.execute_reply": "2024-06-24T20:10:14.619165Z",
     "shell.execute_reply.started": "2024-06-24T20:10:14.606164Z"
    }
   },
   "outputs": [
    {
     "data": {
      "text/plain": [
       "[{'name': 'Kaveh',\n",
       "  'email': [{'home': 'kaveh@gmail.com'}, {'work': 'kaveh@work.com'}],\n",
       "  'phone': [{'home': '1234567'}, {'work': '7654321'}],\n",
       "  'address': [{'type': 'work',\n",
       "    'address': '2000 Sainte-Catherine',\n",
       "    'city': 'Montreal',\n",
       "    'state': 'Quebec',\n",
       "    'postal_code': 'H3H1A1',\n",
       "    'country': 'Canada'}]},\n",
       " {'name': 'Salar',\n",
       "  'email': [{'home': 'salar@gmail.com'}, {'work': 'salar@work.com'}],\n",
       "  'phone': [{'home': '1234567'}, {'work': '7654321'}],\n",
       "  'address': [{'type': 'work',\n",
       "    'address': '2000 Sainte-Catherine',\n",
       "    'city': 'Montreal',\n",
       "    'state': 'Quebec',\n",
       "    'postal_code': 'H3H1A1',\n",
       "    'country': 'Canada'}]}]"
      ]
     },
     "execution_count": 8,
     "metadata": {},
     "output_type": "execute_result"
    }
   ],
   "source": [
    "phone_book"
   ]
  },
  {
   "cell_type": "code",
   "execution_count": 9,
   "id": "c2cf3436-4b36-48be-9acf-b1fb9edf4a35",
   "metadata": {
    "execution": {
     "iopub.execute_input": "2024-06-24T20:10:14.622162Z",
     "iopub.status.busy": "2024-06-24T20:10:14.622162Z",
     "iopub.status.idle": "2024-06-24T20:10:14.636159Z",
     "shell.execute_reply": "2024-06-24T20:10:14.635198Z",
     "shell.execute_reply.started": "2024-06-24T20:10:14.622162Z"
    }
   },
   "outputs": [
    {
     "name": "stdout",
     "output_type": "stream",
     "text": [
      "[{'home': 'kaveh@gmail.com'}, {'work': 'kaveh@work.com'}]\n"
     ]
    }
   ],
   "source": [
    "def looking(looking_for):\n",
    "    for person in phone_book:\n",
    "        if person[\"name\"] == looking_for:\n",
    "            print(person[\"email\"])\n",
    "            \n",
    "looking(\"Kaveh\")"
   ]
  },
  {
   "cell_type": "code",
   "execution_count": 10,
   "id": "dfa85ebe-4c84-44ee-8651-33c2e2e54503",
   "metadata": {
    "execution": {
     "iopub.execute_input": "2024-06-24T20:10:14.638165Z",
     "iopub.status.busy": "2024-06-24T20:10:14.637178Z",
     "iopub.status.idle": "2024-06-24T20:10:14.653164Z",
     "shell.execute_reply": "2024-06-24T20:10:14.651165Z",
     "shell.execute_reply.started": "2024-06-24T20:10:14.638165Z"
    }
   },
   "outputs": [
    {
     "data": {
      "text/plain": [
       "[{'name': 'Kaveh',\n",
       "  'email': [{'home': 'kaveh@gmail.com'}, {'work': 'kaveh@work.com'}],\n",
       "  'phone': [{'home': '1234567'}, {'work': '7654321'}],\n",
       "  'address': [{'type': 'work',\n",
       "    'address': '2000 Sainte-Catherine',\n",
       "    'city': 'Montreal',\n",
       "    'state': 'Quebec',\n",
       "    'postal_code': 'H3H1A1',\n",
       "    'country': 'Canada'}]},\n",
       " {'name': 'Salar',\n",
       "  'email': [{'home': 'salar@gmail.com'}, {'work': 'salar@work.com'}],\n",
       "  'phone': [{'home': '1234567'}, {'work': '7654321'}],\n",
       "  'address': [{'type': 'work',\n",
       "    'address': '2000 Sainte-Catherine',\n",
       "    'city': 'Montreal',\n",
       "    'state': 'Quebec',\n",
       "    'postal_code': 'H3H1A1',\n",
       "    'country': 'Canada'}]},\n",
       " {'name': 'Lucas',\n",
       "  'email': [{'home': 'lucas@gmail.com'}, {'work': 'lucas@work.com'}],\n",
       "  'phone': [{'home': '1234567'}, {'work': '7654321'}],\n",
       "  'address': [{'type': 'work',\n",
       "    'address': '2000 Sainte-Catherine',\n",
       "    'city': 'Montreal',\n",
       "    'state': 'Quebec',\n",
       "    'postal_code': 'H3H1A1',\n",
       "    'country': 'Canada'}]}]"
      ]
     },
     "execution_count": 10,
     "metadata": {},
     "output_type": "execute_result"
    }
   ],
   "source": [
    "new_person = {\"name\": \"Lucas\",\n",
    "    \"email\": [{\"home\": \"lucas@gmail.com\"}, {\"work\": \"lucas@work.com\"}],\n",
    "     \"phone\": [{\"home\": \"1234567\"}, {\"work\": \"7654321\"}],\n",
    "     \"address\": [{\"type\": \"work\",\n",
    "                  \"address\": \"2000 Sainte-Catherine\",\n",
    "                  \"city\": \"Montreal\",\n",
    "                  \"state\": \"Quebec\",\n",
    "                  \"postal_code\": \"H3H1A1\",\n",
    "                  \"country\": \"Canada\"\n",
    "                 }]\n",
    "    }\n",
    "\n",
    "phone_book.append(new_person)\n",
    "phone_book"
   ]
  },
  {
   "cell_type": "code",
   "execution_count": 11,
   "id": "a722049e-dddd-431c-ad25-118eb5a9b33b",
   "metadata": {
    "execution": {
     "iopub.execute_input": "2024-06-24T20:10:14.657165Z",
     "iopub.status.busy": "2024-06-24T20:10:14.656163Z",
     "iopub.status.idle": "2024-06-24T20:10:14.668166Z",
     "shell.execute_reply": "2024-06-24T20:10:14.667199Z",
     "shell.execute_reply.started": "2024-06-24T20:10:14.657165Z"
    }
   },
   "outputs": [
    {
     "name": "stdout",
     "output_type": "stream",
     "text": [
      "[{'home': 'lucas@gmail.com'}, {'work': 'lucas@work.com'}]\n"
     ]
    }
   ],
   "source": [
    "looking(\"Lucas\")"
   ]
  },
  {
   "cell_type": "markdown",
   "id": "1f593776-748d-45ed-9b3a-f2f4d7509ce9",
   "metadata": {},
   "source": [
    "## Starting with Dictionary"
   ]
  },
  {
   "cell_type": "code",
   "execution_count": 12,
   "id": "dcedf91b-9c82-4df3-a18b-d8b7ee07fada",
   "metadata": {
    "execution": {
     "iopub.execute_input": "2024-06-24T20:10:14.671166Z",
     "iopub.status.busy": "2024-06-24T20:10:14.670163Z",
     "iopub.status.idle": "2024-06-24T20:10:14.685171Z",
     "shell.execute_reply": "2024-06-24T20:10:14.683166Z",
     "shell.execute_reply.started": "2024-06-24T20:10:14.671166Z"
    }
   },
   "outputs": [],
   "source": [
    "phone_book = {\n",
    "            \"__comment__\" : \"This is my comment\",\n",
    "            \"Kaveh\": {\n",
    "                    \"email\": [{'home': 'kaveh@gmail.com'}, {'work': 'kaveh@work.com'}],\n",
    "                    \"phone\": [{'home': '1234567'}, {'work': '7654321'}],\n",
    "                    \"address\": [{'type': 'work',\n",
    "                                'address': '2000 Sainte-Catherine',\n",
    "                                'city': 'Montreal',\n",
    "                                'state': 'Quebec',\n",
    "                                'postal_code': 'H3H1A1',\n",
    "                                'country': 'Canada'}],\n",
    "                    \"gender\": None,\n",
    "                },\n",
    "              \"Salar\": {\n",
    "                    \"email\": [{'home': 'salar@gmail.com'}, {'work': 'salar@work.com'}],\n",
    "                    \"phone\": [{'home': '1234567'}, {'work': '7654321'}],\n",
    "                    \"address\": [{'type': 'work',\n",
    "                                'address': '2000 Sainte-Catherine',\n",
    "                                'city': 'Montreal',\n",
    "                                'state': 'Quebec',\n",
    "                                'postal_code': 'H3H1A1',\n",
    "                                'country': 'Canada'}],\n",
    "                    \"gender\": True\n",
    "                }\n",
    "             }"
   ]
  },
  {
   "cell_type": "code",
   "execution_count": 13,
   "id": "b27516e9-f272-4220-ae80-7dcfbd5b7e6a",
   "metadata": {
    "execution": {
     "iopub.execute_input": "2024-06-24T20:10:14.688161Z",
     "iopub.status.busy": "2024-06-24T20:10:14.687196Z",
     "iopub.status.idle": "2024-06-24T20:10:14.701171Z",
     "shell.execute_reply": "2024-06-24T20:10:14.698166Z",
     "shell.execute_reply.started": "2024-06-24T20:10:14.688161Z"
    }
   },
   "outputs": [
    {
     "data": {
      "text/plain": [
       "{'__comment__': 'This is my comment',\n",
       " 'Kaveh': {'email': [{'home': 'kaveh@gmail.com'}, {'work': 'kaveh@work.com'}],\n",
       "  'phone': [{'home': '1234567'}, {'work': '7654321'}],\n",
       "  'address': [{'type': 'work',\n",
       "    'address': '2000 Sainte-Catherine',\n",
       "    'city': 'Montreal',\n",
       "    'state': 'Quebec',\n",
       "    'postal_code': 'H3H1A1',\n",
       "    'country': 'Canada'}],\n",
       "  'gender': None},\n",
       " 'Salar': {'email': [{'home': 'salar@gmail.com'}, {'work': 'salar@work.com'}],\n",
       "  'phone': [{'home': '1234567'}, {'work': '7654321'}],\n",
       "  'address': [{'type': 'work',\n",
       "    'address': '2000 Sainte-Catherine',\n",
       "    'city': 'Montreal',\n",
       "    'state': 'Quebec',\n",
       "    'postal_code': 'H3H1A1',\n",
       "    'country': 'Canada'}],\n",
       "  'gender': True}}"
      ]
     },
     "execution_count": 13,
     "metadata": {},
     "output_type": "execute_result"
    }
   ],
   "source": [
    "phone_book"
   ]
  },
  {
   "cell_type": "code",
   "execution_count": 14,
   "id": "5105839e-71a1-42a4-86c8-ab2804d492af",
   "metadata": {
    "execution": {
     "iopub.execute_input": "2024-06-24T20:10:14.705166Z",
     "iopub.status.busy": "2024-06-24T20:10:14.704160Z",
     "iopub.status.idle": "2024-06-24T20:10:14.729215Z",
     "shell.execute_reply": "2024-06-24T20:10:14.728181Z",
     "shell.execute_reply.started": "2024-06-24T20:10:14.704160Z"
    }
   },
   "outputs": [
    {
     "data": {
      "text/plain": [
       "[{'home': '1234567'}, {'work': '7654321'}]"
      ]
     },
     "execution_count": 14,
     "metadata": {},
     "output_type": "execute_result"
    }
   ],
   "source": [
    "phone_book[\"Kaveh\"][\"phone\"]"
   ]
  },
  {
   "cell_type": "markdown",
   "id": "0d622ef7-3699-4717-b66b-f7412a1ee714",
   "metadata": {},
   "source": [
    "## JSON"
   ]
  },
  {
   "cell_type": "code",
   "execution_count": 15,
   "id": "141fb9e5-b8fd-4eb2-ae6d-ad970fcf1d43",
   "metadata": {
    "execution": {
     "iopub.execute_input": "2024-06-24T20:10:14.731210Z",
     "iopub.status.busy": "2024-06-24T20:10:14.730210Z",
     "iopub.status.idle": "2024-06-24T20:10:14.749247Z",
     "shell.execute_reply": "2024-06-24T20:10:14.743319Z",
     "shell.execute_reply.started": "2024-06-24T20:10:14.731210Z"
    }
   },
   "outputs": [
    {
     "data": {
      "text/plain": [
       "'{\"__comment__\": \"This is my comment\", \"Kaveh\": {\"email\": [{\"home\": \"kaveh@gmail.com\"}, {\"work\": \"kaveh@work.com\"}], \"phone\": [{\"home\": \"1234567\"}, {\"work\": \"7654321\"}], \"address\": [{\"type\": \"work\", \"address\": \"2000 Sainte-Catherine\", \"city\": \"Montreal\", \"state\": \"Quebec\", \"postal_code\": \"H3H1A1\", \"country\": \"Canada\"}], \"gender\": null}, \"Salar\": {\"email\": [{\"home\": \"salar@gmail.com\"}, {\"work\": \"salar@work.com\"}], \"phone\": [{\"home\": \"1234567\"}, {\"work\": \"7654321\"}], \"address\": [{\"type\": \"work\", \"address\": \"2000 Sainte-Catherine\", \"city\": \"Montreal\", \"state\": \"Quebec\", \"postal_code\": \"H3H1A1\", \"country\": \"Canada\"}], \"gender\": true}}'"
      ]
     },
     "execution_count": 15,
     "metadata": {},
     "output_type": "execute_result"
    }
   ],
   "source": [
    "import json\n",
    "\n",
    "str_phone_book = json.dumps(phone_book)\n",
    "str_phone_book"
   ]
  },
  {
   "cell_type": "code",
   "execution_count": 16,
   "id": "0791f10c-905f-45c5-a755-32e5a0015ea1",
   "metadata": {
    "execution": {
     "iopub.execute_input": "2024-06-24T20:10:14.759314Z",
     "iopub.status.busy": "2024-06-24T20:10:14.757288Z",
     "iopub.status.idle": "2024-06-24T20:10:14.779215Z",
     "shell.execute_reply": "2024-06-24T20:10:14.775217Z",
     "shell.execute_reply.started": "2024-06-24T20:10:14.759314Z"
    }
   },
   "outputs": [
    {
     "data": {
      "text/plain": [
       "str"
      ]
     },
     "execution_count": 16,
     "metadata": {},
     "output_type": "execute_result"
    }
   ],
   "source": [
    "type(str_phone_book)"
   ]
  },
  {
   "cell_type": "code",
   "execution_count": 17,
   "id": "83027d77-37e7-4c0b-82fd-00d9cc22b0ac",
   "metadata": {
    "execution": {
     "iopub.execute_input": "2024-06-24T20:10:14.783213Z",
     "iopub.status.busy": "2024-06-24T20:10:14.782214Z",
     "iopub.status.idle": "2024-06-24T20:10:14.793214Z",
     "shell.execute_reply": "2024-06-24T20:10:14.791217Z",
     "shell.execute_reply.started": "2024-06-24T20:10:14.783213Z"
    }
   },
   "outputs": [],
   "source": [
    "with open('../objects/phonebook.json', 'w', encoding='utf-8') as f:\n",
    "    f.write(str_phone_book)"
   ]
  },
  {
   "cell_type": "code",
   "execution_count": 18,
   "id": "5865c178-7b48-407c-a7a9-091483d8447b",
   "metadata": {
    "execution": {
     "iopub.execute_input": "2024-06-24T20:10:14.795211Z",
     "iopub.status.busy": "2024-06-24T20:10:14.795211Z",
     "iopub.status.idle": "2024-06-24T20:10:14.807230Z",
     "shell.execute_reply": "2024-06-24T20:10:14.806212Z",
     "shell.execute_reply.started": "2024-06-24T20:10:14.795211Z"
    }
   },
   "outputs": [],
   "source": [
    "f = open('../objects/phonebook.json', 'r', encoding='utf-8')\n",
    "phone_book = json.load(f)\n",
    "f.close()"
   ]
  },
  {
   "cell_type": "code",
   "execution_count": 19,
   "id": "54b29d13-d322-4b6d-926a-61211d1a0976",
   "metadata": {
    "execution": {
     "iopub.execute_input": "2024-06-24T20:10:14.810209Z",
     "iopub.status.busy": "2024-06-24T20:10:14.809213Z",
     "iopub.status.idle": "2024-06-24T20:10:14.823214Z",
     "shell.execute_reply": "2024-06-24T20:10:14.822328Z",
     "shell.execute_reply.started": "2024-06-24T20:10:14.810209Z"
    }
   },
   "outputs": [
    {
     "data": {
      "text/plain": [
       "dict"
      ]
     },
     "execution_count": 19,
     "metadata": {},
     "output_type": "execute_result"
    }
   ],
   "source": [
    "type(phone_book)"
   ]
  },
  {
   "cell_type": "code",
   "execution_count": 20,
   "id": "6c5e58df-870c-4c1c-9520-731d46874144",
   "metadata": {
    "execution": {
     "iopub.execute_input": "2024-06-24T20:10:14.824212Z",
     "iopub.status.busy": "2024-06-24T20:10:14.824212Z",
     "iopub.status.idle": "2024-06-24T20:10:14.839214Z",
     "shell.execute_reply": "2024-06-24T20:10:14.837247Z",
     "shell.execute_reply.started": "2024-06-24T20:10:14.824212Z"
    }
   },
   "outputs": [
    {
     "data": {
      "text/plain": [
       "{'__comment__': 'This is my comment',\n",
       " 'Kaveh': {'email': [{'home': 'kaveh@gmail.com'}, {'work': 'kaveh@work.com'}],\n",
       "  'phone': [{'home': '1234567'}, {'work': '7654321'}],\n",
       "  'address': [{'type': 'work',\n",
       "    'address': '2000 Sainte-Catherine',\n",
       "    'city': 'Montreal',\n",
       "    'state': 'Quebec',\n",
       "    'postal_code': 'H3H1A1',\n",
       "    'country': 'Canada'}],\n",
       "  'gender': None},\n",
       " 'Salar': {'email': [{'home': 'salar@gmail.com'}, {'work': 'salar@work.com'}],\n",
       "  'phone': [{'home': '1234567'}, {'work': '7654321'}],\n",
       "  'address': [{'type': 'work',\n",
       "    'address': '2000 Sainte-Catherine',\n",
       "    'city': 'Montreal',\n",
       "    'state': 'Quebec',\n",
       "    'postal_code': 'H3H1A1',\n",
       "    'country': 'Canada'}],\n",
       "  'gender': True}}"
      ]
     },
     "execution_count": 20,
     "metadata": {},
     "output_type": "execute_result"
    }
   ],
   "source": [
    "phone_book"
   ]
  },
  {
   "cell_type": "markdown",
   "id": "836b1ed6-58c5-43da-936b-236f0c510d1c",
   "metadata": {},
   "source": [
    "## Pickle"
   ]
  },
  {
   "cell_type": "code",
   "execution_count": 21,
   "id": "e0d4e5e8-0b6d-4038-898b-0dc6cfff7556",
   "metadata": {
    "execution": {
     "iopub.execute_input": "2024-06-24T20:10:14.842212Z",
     "iopub.status.busy": "2024-06-24T20:10:14.841219Z",
     "iopub.status.idle": "2024-06-24T20:10:14.855216Z",
     "shell.execute_reply": "2024-06-24T20:10:14.853229Z",
     "shell.execute_reply.started": "2024-06-24T20:10:14.842212Z"
    }
   },
   "outputs": [],
   "source": [
    "import pickle"
   ]
  },
  {
   "cell_type": "code",
   "execution_count": 22,
   "id": "508f9745-ede5-4258-a52b-3b151e8b4360",
   "metadata": {
    "execution": {
     "iopub.execute_input": "2024-06-24T20:10:14.857216Z",
     "iopub.status.busy": "2024-06-24T20:10:14.857216Z",
     "iopub.status.idle": "2024-06-24T20:10:14.870211Z",
     "shell.execute_reply": "2024-06-24T20:10:14.869212Z",
     "shell.execute_reply.started": "2024-06-24T20:10:14.857216Z"
    }
   },
   "outputs": [],
   "source": [
    "with open('../objects/phonebook.pickle', 'wb') as f:\n",
    "    pickle.dump(phone_book, f)\n"
   ]
  },
  {
   "cell_type": "code",
   "execution_count": 23,
   "id": "8026be37-e4d0-4f32-ace8-9e28d4eb98e2",
   "metadata": {
    "execution": {
     "iopub.execute_input": "2024-06-24T20:10:14.874218Z",
     "iopub.status.busy": "2024-06-24T20:10:14.873216Z",
     "iopub.status.idle": "2024-06-24T20:10:14.902212Z",
     "shell.execute_reply": "2024-06-24T20:10:14.901210Z",
     "shell.execute_reply.started": "2024-06-24T20:10:14.874218Z"
    }
   },
   "outputs": [
    {
     "data": {
      "text/plain": [
       "{'__comment__': 'This is my comment',\n",
       " 'Kaveh': {'email': [{'home': 'kaveh@gmail.com'}, {'work': 'kaveh@work.com'}],\n",
       "  'phone': [{'home': '1234567'}, {'work': '7654321'}],\n",
       "  'address': [{'type': 'work',\n",
       "    'address': '2000 Sainte-Catherine',\n",
       "    'city': 'Montreal',\n",
       "    'state': 'Quebec',\n",
       "    'postal_code': 'H3H1A1',\n",
       "    'country': 'Canada'}],\n",
       "  'gender': None},\n",
       " 'Salar': {'email': [{'home': 'salar@gmail.com'}, {'work': 'salar@work.com'}],\n",
       "  'phone': [{'home': '1234567'}, {'work': '7654321'}],\n",
       "  'address': [{'type': 'work',\n",
       "    'address': '2000 Sainte-Catherine',\n",
       "    'city': 'Montreal',\n",
       "    'state': 'Quebec',\n",
       "    'postal_code': 'H3H1A1',\n",
       "    'country': 'Canada'}],\n",
       "  'gender': True}}"
      ]
     },
     "execution_count": 23,
     "metadata": {},
     "output_type": "execute_result"
    }
   ],
   "source": [
    "with open('../objects/phonebook.pickle', 'rb') as f:\n",
    "    from_pickle = pickle.load(f)\n",
    "\n",
    "from_pickle"
   ]
  }
 ],
 "metadata": {
  "kernelspec": {
   "display_name": "Python 3 (ipykernel)",
   "language": "python",
   "name": "python3"
  },
  "language_info": {
   "codemirror_mode": {
    "name": "ipython",
    "version": 3
   },
   "file_extension": ".py",
   "mimetype": "text/x-python",
   "name": "python",
   "nbconvert_exporter": "python",
   "pygments_lexer": "ipython3",
   "version": "3.10.13"
  }
 },
 "nbformat": 4,
 "nbformat_minor": 5
}
