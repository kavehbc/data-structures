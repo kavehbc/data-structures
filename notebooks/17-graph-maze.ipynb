{
 "cells": [
  {
   "cell_type": "markdown",
   "id": "ed2fd509-bc0c-4c8a-a08c-23e90a58b65a",
   "metadata": {},
   "source": [
    "# Solving Maze"
   ]
  },
  {
   "cell_type": "code",
   "execution_count": 14,
   "id": "8747df56-a375-40a5-a010-446eb25e1b86",
   "metadata": {},
   "outputs": [],
   "source": [
    "import numpy as np"
   ]
  },
  {
   "cell_type": "code",
   "execution_count": 15,
   "id": "cd563b43-a855-44df-a236-3090261b875f",
   "metadata": {},
   "outputs": [
    {
     "data": {
      "text/plain": [
       "array([[1, 1, 1, 1, 1, 1, 1, 1, 1, 1],\n",
       "       [1, 0, 1, 0, 1, 0, 0, 0, 0, 1],\n",
       "       [1, 0, 1, 0, 1, 0, 0, 0, 0, 1],\n",
       "       [1, 0, 1, 0, 1, 1, 1, 1, 0, 1],\n",
       "       [1, 0, 1, 0, 0, 0, 0, 1, 0, 1],\n",
       "       [1, 0, 1, 0, 0, 0, 0, 1, 0, 1],\n",
       "       [1, 0, 0, 0, 0, 0, 0, 1, 0, 1],\n",
       "       [1, 0, 1, 0, 0, 0, 0, 0, 0, 1],\n",
       "       [1, 0, 1, 0, 0, 0, 0, 0, 0, 1],\n",
       "       [1, 1, 1, 1, 1, 1, 1, 1, 1, 1]])"
      ]
     },
     "execution_count": 15,
     "metadata": {},
     "output_type": "execute_result"
    }
   ],
   "source": [
    "maze = np.array([\n",
    "    [1, 1, 1, 1, 1, 1, 1, 1, 1, 1],\n",
    "    [1, 0, 1, 0, 1, 0, 0, 0, 0, 1],\n",
    "    [1, 0, 1, 0, 1, 0, 0, 0, 0, 1],\n",
    "    [1, 0, 1, 0, 1, 1, 1, 1, 0, 1],\n",
    "    [1, 0, 1, 0, 0, 0, 0, 1, 0, 1],\n",
    "    [1, 0, 1, 0, 0, 0, 0, 1, 0, 1],\n",
    "    [1, 0, 0, 0, 0, 0, 0, 1, 0, 1],\n",
    "    [1, 0, 1, 0, 0, 0, 0, 0, 0, 1],\n",
    "    [1, 0, 1, 0, 0, 0, 0, 0, 0, 1],\n",
    "    [1, 1, 1, 1, 1, 1, 1, 1, 1, 1]\n",
    "                ])\n",
    "maze"
   ]
  },
  {
   "cell_type": "code",
   "execution_count": 16,
   "id": "dc8dd760-2f1c-4447-9333-4f2bbc3b4af6",
   "metadata": {},
   "outputs": [
    {
     "data": {
      "text/plain": [
       "array([[ 1,  1,  1,  1,  1,  1,  1,  1,  1,  1],\n",
       "       [ 1, 88,  1,  0,  1,  0,  0,  0,  0,  1],\n",
       "       [ 1,  0,  1,  0,  1, 99,  0,  0,  0,  1],\n",
       "       [ 1,  0,  1,  0,  1,  1,  1,  1,  0,  1],\n",
       "       [ 1,  0,  1,  0,  0,  0,  0,  1,  0,  1],\n",
       "       [ 1,  0,  1,  0,  0,  0,  0,  1,  0,  1],\n",
       "       [ 1,  0,  0,  0,  0,  0,  0,  1,  0,  1],\n",
       "       [ 1,  0,  1,  0,  0,  0,  0,  0,  0,  1],\n",
       "       [ 1,  0,  1,  0,  0,  0,  0,  0,  0,  1],\n",
       "       [ 1,  1,  1,  1,  1,  1,  1,  1,  1,  1]])"
      ]
     },
     "execution_count": 16,
     "metadata": {},
     "output_type": "execute_result"
    }
   ],
   "source": [
    "start = (1, 1)\n",
    "end = (2, 5)\n",
    "\n",
    "marked_maze = maze.copy()\n",
    "marked_maze[start] = 88\n",
    "marked_maze[end] = 99\n",
    "marked_maze"
   ]
  },
  {
   "cell_type": "code",
   "execution_count": 17,
   "id": "7e810bcd-b530-4ea1-9b10-4a5f11269c70",
   "metadata": {},
   "outputs": [
    {
     "data": {
      "text/plain": [
       "[[0, 0, 0, 0, 0, 0, 0, 0, 0, 0],\n",
       " [0, 0, 0, 0, 0, 0, 0, 0, 0, 0],\n",
       " [0, 0, 0, 0, 0, 0, 0, 0, 0, 0],\n",
       " [0, 0, 0, 0, 0, 0, 0, 0, 0, 0],\n",
       " [0, 0, 0, 0, 0, 0, 0, 0, 0, 0],\n",
       " [0, 0, 0, 0, 0, 0, 0, 0, 0, 0],\n",
       " [0, 0, 0, 0, 0, 0, 0, 0, 0, 0],\n",
       " [0, 0, 0, 0, 0, 0, 0, 0, 0, 0],\n",
       " [0, 0, 0, 0, 0, 0, 0, 0, 0, 0],\n",
       " [0, 0, 0, 0, 0, 0, 0, 0, 0, 0]]"
      ]
     },
     "execution_count": 17,
     "metadata": {},
     "output_type": "execute_result"
    }
   ],
   "source": [
    "m = []\n",
    "for i in range(len(maze)):\n",
    "    m.append([])\n",
    "    for j in range(len(maze[i])):\n",
    "        m[-1].append(0)\n",
    "m"
   ]
  },
  {
   "cell_type": "code",
   "execution_count": 18,
   "id": "a12fa1cb-9dc6-4c7c-9861-cd2b39ca7d55",
   "metadata": {},
   "outputs": [
    {
     "data": {
      "text/plain": [
       "[[0, 0, 0, 0, 0, 0, 0, 0, 0, 0],\n",
       " [0, 1, 0, 0, 0, 0, 0, 0, 0, 0],\n",
       " [0, 0, 0, 0, 0, 0, 0, 0, 0, 0],\n",
       " [0, 0, 0, 0, 0, 0, 0, 0, 0, 0],\n",
       " [0, 0, 0, 0, 0, 0, 0, 0, 0, 0],\n",
       " [0, 0, 0, 0, 0, 0, 0, 0, 0, 0],\n",
       " [0, 0, 0, 0, 0, 0, 0, 0, 0, 0],\n",
       " [0, 0, 0, 0, 0, 0, 0, 0, 0, 0],\n",
       " [0, 0, 0, 0, 0, 0, 0, 0, 0, 0],\n",
       " [0, 0, 0, 0, 0, 0, 0, 0, 0, 0]]"
      ]
     },
     "execution_count": 18,
     "metadata": {},
     "output_type": "execute_result"
    }
   ],
   "source": [
    "i, j = start\n",
    "m[i][j] = 1\n",
    "m"
   ]
  },
  {
   "cell_type": "markdown",
   "id": "43abd139-6d03-404c-b9bb-4334d699b519",
   "metadata": {},
   "source": [
    "## Breadth Frist Search"
   ]
  },
  {
   "cell_type": "code",
   "execution_count": 19,
   "id": "6c22402c-3325-487b-ae01-c4f65518cb76",
   "metadata": {},
   "outputs": [],
   "source": [
    "def make_step(k):\n",
    "    for i in range(len(m)):\n",
    "        for j in range(len(m[i])):\n",
    "            if m[i][j] == k:\n",
    "                # checking top position\n",
    "                if i > 0 and m[i-1][j] == 0 and maze[i-1][j] == 0:\n",
    "                    m[i-1][j] = k + 1\n",
    "                # checking left position\n",
    "                if j > 0 and m[i][j-1] == 0 and maze[i][j-1] == 0:\n",
    "                    m[i][j-1] = k + 1\n",
    "                # checking bottom position\n",
    "                if i < len(m) - 1 and m[i+1][j] == 0 and maze[i+1][j] == 0:\n",
    "                    m[i+1][j] = k + 1\n",
    "                # checking right position\n",
    "                if j < len(m[i]) - 1 and m[i][j+1] == 0 and maze[i][j+1] == 0:\n",
    "                    m[i][j+1] = k + 1"
   ]
  },
  {
   "cell_type": "code",
   "execution_count": 20,
   "id": "0feb2caf-21b4-40a2-8520-538b50e81f96",
   "metadata": {},
   "outputs": [
    {
     "data": {
      "text/plain": [
       "[[0, 0, 0, 0, 0, 0, 0, 0, 0, 0],\n",
       " [0, 1, 0, 13, 0, 0, 22, 21, 20, 0],\n",
       " [0, 2, 0, 12, 0, 22, 21, 20, 19, 0],\n",
       " [0, 3, 0, 11, 0, 0, 0, 0, 18, 0],\n",
       " [0, 4, 0, 10, 11, 12, 13, 0, 17, 0],\n",
       " [0, 5, 0, 9, 10, 11, 12, 0, 16, 0],\n",
       " [0, 6, 7, 8, 9, 10, 11, 0, 15, 0],\n",
       " [0, 7, 0, 9, 10, 11, 12, 13, 14, 0],\n",
       " [0, 8, 0, 10, 11, 12, 13, 14, 15, 0],\n",
       " [0, 0, 0, 0, 0, 0, 0, 0, 0, 0]]"
      ]
     },
     "execution_count": 20,
     "metadata": {},
     "output_type": "execute_result"
    }
   ],
   "source": [
    "k = 0\n",
    "while m[end[0]][end[1]] == 0:\n",
    "    k += 1\n",
    "    make_step(k)\n",
    "    \n",
    "m"
   ]
  },
  {
   "cell_type": "code",
   "execution_count": 24,
   "id": "330f32fb-c1ab-4bdb-90e0-2c47831fd8b0",
   "metadata": {},
   "outputs": [
    {
     "data": {
      "text/plain": [
       "[(2, 5),\n",
       " (2, 6),\n",
       " (2, 7),\n",
       " (2, 8),\n",
       " (3, 8),\n",
       " (4, 8),\n",
       " (5, 8),\n",
       " (6, 8),\n",
       " (7, 8),\n",
       " (7, 7),\n",
       " (7, 6),\n",
       " (6, 6),\n",
       " (6, 5),\n",
       " (6, 4),\n",
       " (6, 3),\n",
       " (6, 2),\n",
       " (6, 1),\n",
       " (5, 1),\n",
       " (4, 1),\n",
       " (3, 1),\n",
       " (2, 1),\n",
       " (1, 1)]"
      ]
     },
     "execution_count": 24,
     "metadata": {},
     "output_type": "execute_result"
    }
   ],
   "source": [
    "i, j = end\n",
    "k = m[i][j]\n",
    "the_path = [(i, j)]\n",
    "while k > 1:\n",
    "    # checking top position\n",
    "    if i > 0 and m[i-1][j] == k - 1:\n",
    "        i, j = i-1, j\n",
    "    # checking left position\n",
    "    elif j > 0 and m[i][j-1] == k - 1:\n",
    "        i, j = i, j-1\n",
    "    # checking bottom position\n",
    "    elif i < len(m) - 1 and m[i+1][j] == k - 1:\n",
    "        i, j = i+1, j\n",
    "    # checking right position\n",
    "    elif j < len(m[i]) - 1 and m[i][j+1] == k - 1:\n",
    "        i, j = i, j+1\n",
    "        \n",
    "    the_path.append((i, j))\n",
    "    k -= 1\n",
    "\n",
    "the_path"
   ]
  },
  {
   "cell_type": "code",
   "execution_count": null,
   "id": "1f32d46e-4363-462a-8e45-81ae24de9652",
   "metadata": {},
   "outputs": [],
   "source": []
  }
 ],
 "metadata": {
  "kernelspec": {
   "display_name": "Python 3 (ipykernel)",
   "language": "python",
   "name": "python3"
  },
  "language_info": {
   "codemirror_mode": {
    "name": "ipython",
    "version": 3
   },
   "file_extension": ".py",
   "mimetype": "text/x-python",
   "name": "python",
   "nbconvert_exporter": "python",
   "pygments_lexer": "ipython3",
   "version": "3.10.13"
  }
 },
 "nbformat": 4,
 "nbformat_minor": 5
}
