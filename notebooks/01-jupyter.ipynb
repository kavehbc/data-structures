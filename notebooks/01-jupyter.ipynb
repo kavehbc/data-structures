{
 "cells": [
  {
   "cell_type": "markdown",
   "id": "9688be93-4245-4a9a-8bcc-81b316cc28aa",
   "metadata": {},
   "source": [
    "# Intro to Jupyter Notebooks"
   ]
  },
  {
   "cell_type": "markdown",
   "id": "5e97729c-6f2c-4895-8d4f-2ee382a20ede",
   "metadata": {},
   "source": [
    "## Markdown\n",
    "\n",
    "This is a **jupyter notebook** explaining *Data Structures* using Python and [Markdown language](https://www.markdownguide.org/cheat-sheet/)\n",
    "\n",
    "\n",
    "Presenting the danger of using **Jupyter Notebooks**, *Italic*, ***Bold and Italic***.\n",
    "\n",
    "---\n",
    "\n",
    "Here is the hello world sample code:\n",
    "\n",
    "Python Code:\n",
    "\n",
    "```python\n",
    "print(\"hello world!\")\n",
    "```\n",
    "\n",
    "Java Code:\n",
    "\n",
    "```java\n",
    "if (a == 2){\n",
    "    Console.print(\"Hello World!\");\n",
    "}\n",
    "```\n",
    "---\n",
    "\n",
    "Here $\\LaTeX$:\n",
    "\n",
    "$\\lim_{h\\to 0}\\frac{f(x+h)-f(x)}{h}$\n",
    "\n",
    "$\\int_a^bu\\frac{d^2v}{dx^2}\\,dx\n",
    "        =\\left.u\\frac{dv}{dx}\\right|_a^b\n",
    "        -\\int_a^b\\frac{du}{dx}\\frac{dv}{dx}\\,dx.$\n",
    "\n",
    "        \n",
    "---\n",
    "\n",
    "This is my [personal website](http://kaveh.me).\n",
    "\n",
    "---\n",
    "\n",
    "> This is a quotation.\n",
    "\n",
    "---\n",
    "\n",
    "Bullet list:\n",
    "- Item 1\n",
    "- Item 2\n",
    "- Item 3\n"
   ]
  },
  {
   "cell_type": "markdown",
   "id": "c141c88b-86a1-4a7a-86c0-de8c14131262",
   "metadata": {},
   "source": [
    "## Code"
   ]
  },
  {
   "cell_type": "code",
   "execution_count": 2,
   "id": "c0c789e8-6528-423b-adcb-42b678b1bb66",
   "metadata": {},
   "outputs": [
    {
     "data": {
      "text/plain": [
       "9"
      ]
     },
     "execution_count": 2,
     "metadata": {},
     "output_type": "execute_result"
    }
   ],
   "source": [
    "a = 5\n",
    "b = 4\n",
    "c = a + b\n",
    "c"
   ]
  },
  {
   "cell_type": "code",
   "execution_count": 3,
   "id": "3c8dcfd4-dfe6-4e49-992f-0db648b010e8",
   "metadata": {},
   "outputs": [
    {
     "data": {
      "text/plain": [
       "11"
      ]
     },
     "execution_count": 3,
     "metadata": {},
     "output_type": "execute_result"
    }
   ],
   "source": [
    "b = 6\n",
    "c = a + b\n",
    "c"
   ]
  },
  {
   "cell_type": "code",
   "execution_count": 4,
   "id": "0481fa80-1659-4398-9ddd-dfe86f2c94d7",
   "metadata": {},
   "outputs": [
    {
     "ename": "NameError",
     "evalue": "name 'e' is not defined",
     "output_type": "error",
     "traceback": [
      "\u001b[1;31m---------------------------------------------------------------------------\u001b[0m",
      "\u001b[1;31mNameError\u001b[0m                                 Traceback (most recent call last)",
      "Cell \u001b[1;32mIn[4], line 3\u001b[0m\n\u001b[0;32m      1\u001b[0m a \u001b[38;5;241m=\u001b[39m \u001b[38;5;241m3\u001b[39m\n\u001b[0;32m      2\u001b[0m c \u001b[38;5;241m=\u001b[39m a \u001b[38;5;241m+\u001b[39m b\n\u001b[1;32m----> 3\u001b[0m \u001b[38;5;28mprint\u001b[39m(\u001b[43me\u001b[49m)\n",
      "\u001b[1;31mNameError\u001b[0m: name 'e' is not defined"
     ]
    }
   ],
   "source": [
    "a = 3\n",
    "c = a + b\n",
    "print(e)"
   ]
  },
  {
   "cell_type": "code",
   "execution_count": 5,
   "id": "a3c2d965-840b-4fe2-88d9-8bc2b4633a44",
   "metadata": {},
   "outputs": [],
   "source": [
    "e = 20"
   ]
  },
  {
   "cell_type": "markdown",
   "id": "dc9feb3c-39f9-4fc6-ae1d-0eb15e05c880",
   "metadata": {},
   "source": [
    "## Processing Time"
   ]
  },
  {
   "cell_type": "code",
   "execution_count": 6,
   "id": "fcdd3c5b-dca0-412b-8fac-e33108a7945b",
   "metadata": {},
   "outputs": [
    {
     "name": "stdout",
     "output_type": "stream",
     "text": [
      "3 6 9\n",
      "Processing Time: 0.00096\n"
     ]
    }
   ],
   "source": [
    "import time\n",
    "\n",
    "t0 = time.time()\n",
    "\n",
    "print(a, b, c)\n",
    "\n",
    "t1 = time.time()\n",
    "print(f\"Processing Time: {t1 - t0:.5f}\")"
   ]
  },
  {
   "cell_type": "code",
   "execution_count": 7,
   "id": "ff833306-73bb-40c7-b2c0-9b218ed0c645",
   "metadata": {},
   "outputs": [
    {
     "name": "stdout",
     "output_type": "stream",
     "text": [
      "CPU times: total: 0 ns\n",
      "Wall time: 0 ns\n"
     ]
    },
    {
     "data": {
      "text/plain": [
       "(3, 6, 9)"
      ]
     },
     "execution_count": 7,
     "metadata": {},
     "output_type": "execute_result"
    }
   ],
   "source": [
    "%%time\n",
    "\n",
    "a, b, c"
   ]
  },
  {
   "cell_type": "markdown",
   "id": "5df944d1-1f2f-4ad6-a87c-3fd3f2ad147d",
   "metadata": {},
   "source": [
    "### List"
   ]
  },
  {
   "cell_type": "code",
   "execution_count": 8,
   "id": "9c607c5f-de21-4749-8b33-4c1082ebfd51",
   "metadata": {},
   "outputs": [],
   "source": [
    "# age = \n",
    "# lst_ages\n",
    "# dic_ages\n",
    "# df_ages\n",
    "# asdasdasd asd asd as"
   ]
  },
  {
   "cell_type": "code",
   "execution_count": 9,
   "id": "6af22e8f-3f2a-45ef-9504-96b51b9758af",
   "metadata": {},
   "outputs": [
    {
     "name": "stdout",
     "output_type": "stream",
     "text": [
      "['Ali', 'John', 'Mary']\n"
     ]
    }
   ],
   "source": [
    "lst_names = [\"Ali\", \"John\", \"Mary\"]\n",
    "print(lst_names)"
   ]
  },
  {
   "cell_type": "code",
   "execution_count": 10,
   "id": "2d24980e-d934-471c-a683-9499771b86fa",
   "metadata": {},
   "outputs": [
    {
     "name": "stdout",
     "output_type": "stream",
     "text": [
      "Ali\n"
     ]
    }
   ],
   "source": [
    "print(lst_names[0])"
   ]
  },
  {
   "cell_type": "markdown",
   "id": "4cb431b6-7bbe-4acc-8dc6-8f379348860c",
   "metadata": {},
   "source": [
    "## Raw Cell"
   ]
  },
  {
   "cell_type": "raw",
   "id": "c157e8bb-945d-4b32-88f7-5a6af70c4f35",
   "metadata": {},
   "source": [
    "print(\"Hello World!!!!\")\n",
    "print(\"Hello again!\")"
   ]
  },
  {
   "cell_type": "markdown",
   "id": "b969371e-5ffb-453d-bac0-ed59c4ed71f6",
   "metadata": {},
   "source": [
    "## Command Lines"
   ]
  },
  {
   "cell_type": "code",
   "execution_count": 1,
   "id": "c2d4fc5f-0355-4429-9f25-19181ad682a2",
   "metadata": {},
   "outputs": [
    {
     "name": "stdout",
     "output_type": "stream",
     "text": [
      " Volume in drive C is Windows\n",
      " Volume Serial Number is 4CA1-FD39\n",
      "\n",
      " Directory of C:\\[Personal]\\data-structures\\notebooks\n",
      "\n",
      "04/16/2025  07:22 AM    <DIR>          .\n",
      "11/07/2024  11:57 AM    <DIR>          ..\n",
      "04/16/2025  07:22 AM    <DIR>          .ipynb_checkpoints\n",
      "04/16/2025  07:03 AM            11,475 01-jupyter.ipynb\n",
      "04/16/2025  07:10 AM             6,661 02-01-exercise.ipynb\n",
      "04/16/2025  07:08 AM            22,426 02-list-tuple.ipynb\n",
      "11/07/2024  11:57 AM            26,612 03-dictionary.ipynb\n",
      "11/07/2024  11:57 AM            16,585 04-set.ipynb\n",
      "04/16/2025  07:12 AM             8,995 05-nested-list.ipynb\n",
      "04/16/2025  07:14 AM             9,379 06-queue-stack.ipynb\n",
      "11/07/2024  11:57 AM            22,233 07-sorting.ipynb\n",
      "11/07/2024  11:57 AM            16,761 08-numpy-intro.ipynb\n",
      "04/16/2025  07:18 AM            31,050 09-numpy.ipynb\n",
      "04/16/2025  07:21 AM         2,628,057 10-numpy-image.ipynb\n",
      "04/16/2025  07:22 AM             6,908 11-graph.ipynb\n",
      "04/16/2025  07:16 AM             5,294 12-roulette.ipynb\n",
      "11/07/2024  11:57 AM             5,389 13-spiral-array.ipynb\n",
      "11/07/2024  11:57 AM             6,716 14-graph-maze-dfs.ipynb\n",
      "11/07/2024  11:57 AM             9,032 15-graph-maze.ipynb\n",
      "04/16/2025  07:08 AM             6,254 16-exercise.ipynb\n",
      "11/07/2024  11:57 AM            22,483 17-linked-list.ipynb\n",
      "11/07/2024  11:57 AM             7,587 18-search.ipynb\n",
      "04/16/2025  07:08 AM            14,783 19-Exercise.ipynb\n",
      "11/07/2024  11:57 AM            10,201 20-password-manager.ipynb\n",
      "11/07/2024  11:57 AM             4,810 21-decorators.ipynb\n",
      "11/07/2024  11:57 AM             2,942 22-finding-max.ipynb\n",
      "              23 File(s)      2,902,633 bytes\n",
      "               3 Dir(s)  215,755,771,904 bytes free\n"
     ]
    }
   ],
   "source": [
    "!dir"
   ]
  },
  {
   "cell_type": "code",
   "execution_count": 11,
   "id": "f3ae0c27-b55e-451f-89bd-927074f943f0",
   "metadata": {},
   "outputs": [
    {
     "name": "stdout",
     "output_type": "stream",
     "text": [
      "Collecting jumpy\n",
      "  Downloading jumpy-0.2.4-py3-none-any.whl.metadata (870 bytes)\n",
      "Collecting Cython (from jumpy)\n",
      "  Downloading Cython-3.0.12-cp310-cp310-win_amd64.whl.metadata (3.6 kB)\n",
      "Requirement already satisfied: numpy in c:\\users\\kaveh\\miniconda3\\envs\\ai\\lib\\site-packages (from jumpy) (1.26.4)\n",
      "Collecting pyjnius (from jumpy)\n",
      "  Downloading pyjnius-1.6.1-cp310-cp310-win_amd64.whl.metadata (10 kB)\n",
      "Downloading jumpy-0.2.4-py3-none-any.whl (16 kB)\n",
      "Downloading Cython-3.0.12-cp310-cp310-win_amd64.whl (2.8 MB)\n",
      "   ---------------------------------------- 0.0/2.8 MB ? eta -:--:--\n",
      "   ---------------------------------------- 2.8/2.8 MB 20.1 MB/s eta 0:00:00\n",
      "Downloading pyjnius-1.6.1-cp310-cp310-win_amd64.whl (222 kB)\n",
      "Installing collected packages: pyjnius, Cython, jumpy\n",
      "Successfully installed Cython-3.0.12 jumpy-0.2.4 pyjnius-1.6.1\n"
     ]
    }
   ],
   "source": [
    "!pip install jumpy"
   ]
  },
  {
   "cell_type": "markdown",
   "id": "5e0a5e11-ea57-4369-af6a-5585ed4c2c1e",
   "metadata": {},
   "source": [
    "## Table of Contents"
   ]
  },
  {
   "cell_type": "code",
   "execution_count": 1,
   "id": "a4b2310e-91e0-4678-af16-c403c644efde",
   "metadata": {
    "execution": {
     "iopub.execute_input": "2024-06-24T19:34:55.737334Z",
     "iopub.status.busy": "2024-06-24T19:34:55.736334Z",
     "iopub.status.idle": "2024-06-24T19:34:55.776375Z",
     "shell.execute_reply": "2024-06-24T19:34:55.774371Z",
     "shell.execute_reply.started": "2024-06-24T19:34:55.737334Z"
    }
   },
   "outputs": [],
   "source": [
    "import urllib\n",
    "import json\n",
    "\n",
    "def generate_toc(notebook_path, indent_char=\" \"):\n",
    "    is_markdown = lambda it: \"markdown\" == it[\"cell_type\"]\n",
    "    is_title = lambda it: it.strip().startswith(\"#\") and it.strip().lstrip(\"#\").lstrip()\n",
    "    with open(notebook_path, 'r') as in_f:\n",
    "        nb_json = json.load(in_f)\n",
    "\n",
    "    toc_numbers = []  # Lista para llevar el conteo de los números de contenido en cada nivel\n",
    "    \n",
    "    for cell in filter(is_markdown, nb_json[\"cells\"]):\n",
    "        for line in filter(is_title, cell[\"source\"]):\n",
    "            line = line.strip()\n",
    "            title = line.lstrip(\"#\").lstrip()\n",
    "    \n",
    "            level = line.count(\"#\")  # Nivel del título según la cantidad de \"#\"\n",
    "    \n",
    "            if level > len(toc_numbers):\n",
    "                toc_numbers.append(1)  # Agregar un nuevo nivel con numeración inicial en 1\n",
    "            else:\n",
    "                toc_numbers[level - 1] += 1  # Incrementar el número de contenido en el nivel actual\n",
    "                toc_numbers[level:] = [1] * (len(toc_numbers) - level)  # Reiniciar numeración en niveles inferiores\n",
    "    \n",
    "            toc_number_str = \".\".join(str(num) for num in toc_numbers[:level])\n",
    "            indent = indent_char * level\n",
    "            url = urllib.parse.quote(title.replace(\" \", \"-\"))\n",
    "            out_line = f\"{indent}{toc_number_str} [{title}](#{url})<br>\\n\"\n",
    "            print(out_line, end=\"\")"
   ]
  },
  {
   "cell_type": "code",
   "execution_count": 2,
   "id": "5c85f3af-f9b8-4dd0-b752-dcee43b311d7",
   "metadata": {
    "execution": {
     "iopub.execute_input": "2024-06-24T19:35:09.390463Z",
     "iopub.status.busy": "2024-06-24T19:35:09.389462Z",
     "iopub.status.idle": "2024-06-24T19:35:09.408462Z",
     "shell.execute_reply": "2024-06-24T19:35:09.406467Z",
     "shell.execute_reply.started": "2024-06-24T19:35:09.389462Z"
    }
   },
   "outputs": [
    {
     "name": "stdout",
     "output_type": "stream",
     "text": [
      " 1 [Intro to Jupyter Notebooks](#Intro-to-Jupyter-Notebooks)<br>\n",
      "  1.1 [Markdown](#Markdown)<br>\n",
      "  1.2 [Code](#Code)<br>\n",
      "   1.2.1 [List](#List)<br>\n",
      "  1.3 [Raw Cell](#Raw-Cell)<br>\n",
      "  1.4 [Command Lines](#Command-Lines)<br>\n"
     ]
    }
   ],
   "source": [
    "generate_toc(\"01-jupyter.ipynb\", indent_char=\" \")"
   ]
  },
  {
   "cell_type": "markdown",
   "id": "4d9554a8-49df-462b-aeb4-62c5e87705d7",
   "metadata": {},
   "source": [
    "1 [Intro to Jupyter Notebooks](#Intro-to-Jupyter-Notebooks)<br>\n",
    "  1.1 [Markdown](#Markdown)<br>\n",
    "  1.2 [Code](#Code)<br>\n",
    "   1.2.1 [List](#List)<br>\n",
    "  1.3 [Raw Cell](#Raw-Cell)<br>\n",
    "  1.4 [Command Lines](#Command-Lines)<br>"
   ]
  },
  {
   "cell_type": "code",
   "execution_count": null,
   "id": "1a345748-a1cd-4bb8-8d00-cafd3edae87e",
   "metadata": {},
   "outputs": [],
   "source": []
  }
 ],
 "metadata": {
  "kernelspec": {
   "display_name": "Python 3 (ipykernel)",
   "language": "python",
   "name": "python3"
  },
  "language_info": {
   "codemirror_mode": {
    "name": "ipython",
    "version": 3
   },
   "file_extension": ".py",
   "mimetype": "text/x-python",
   "name": "python",
   "nbconvert_exporter": "python",
   "pygments_lexer": "ipython3",
   "version": "3.10.13"
  }
 },
 "nbformat": 4,
 "nbformat_minor": 5
}
