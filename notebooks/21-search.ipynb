{
 "cells": [
  {
   "cell_type": "markdown",
   "id": "f3d8d13d-8e16-4ee9-a4e7-2d2cf2280fbd",
   "metadata": {},
   "source": [
    "# Linear Search"
   ]
  },
  {
   "cell_type": "code",
   "execution_count": 20,
   "id": "921bc2a9-a37a-4206-9a48-3fc5191ddb1c",
   "metadata": {},
   "outputs": [],
   "source": [
    "my_list = [7, 6, 1, 9, 8]"
   ]
  },
  {
   "cell_type": "markdown",
   "id": "ecb13f4a-89ac-4543-8b0c-945daf0ab0dd",
   "metadata": {},
   "source": [
    "## Iterative Algorithm"
   ]
  },
  {
   "cell_type": "code",
   "execution_count": 21,
   "id": "b49b52f8-5636-4a56-9762-3c624f253b17",
   "metadata": {},
   "outputs": [],
   "source": [
    "def iter_linear_search(my_list, query):\n",
    "    for index, item in enumerate(my_list):\n",
    "        if item == query:\n",
    "            return index\n",
    "    return -1"
   ]
  },
  {
   "cell_type": "code",
   "execution_count": 22,
   "id": "328e7b14-1136-4abd-82b1-1204c995cc59",
   "metadata": {},
   "outputs": [
    {
     "data": {
      "text/plain": [
       "1"
      ]
     },
     "execution_count": 22,
     "metadata": {},
     "output_type": "execute_result"
    }
   ],
   "source": [
    "iter_linear_search(my_list, 6)"
   ]
  },
  {
   "cell_type": "markdown",
   "id": "fb1b9c4b-597c-4ce8-9723-f0642e4cafe3",
   "metadata": {},
   "source": [
    "## Recursive Algorithm"
   ]
  },
  {
   "cell_type": "code",
   "execution_count": 23,
   "id": "a50a35d1-f007-4016-9ac7-01ebab786848",
   "metadata": {},
   "outputs": [],
   "source": [
    "def recursive_linear_search(my_list, query, current_index = None):\n",
    "    if current_index is None:\n",
    "        current_index = len(my_list) - 1\n",
    "    if current_index == -1:\n",
    "        return -1\n",
    "    if my_list[current_index] == query:\n",
    "        return current_index\n",
    "    return recursive_linear_search(my_list, query, current_index - 1)\n",
    "    "
   ]
  },
  {
   "cell_type": "code",
   "execution_count": 24,
   "id": "361d5613-038e-428d-abc3-5e97eac5be78",
   "metadata": {},
   "outputs": [
    {
     "data": {
      "text/plain": [
       "-1"
      ]
     },
     "execution_count": 24,
     "metadata": {},
     "output_type": "execute_result"
    }
   ],
   "source": [
    "recursive_linear_search(my_list, 10)"
   ]
  },
  {
   "cell_type": "markdown",
   "id": "17e961e0-67ae-4e2f-a920-ae22009abcb1",
   "metadata": {},
   "source": [
    "## Big O"
   ]
  },
  {
   "cell_type": "markdown",
   "id": "d932451e-5c8a-46f6-a820-aca0d23eefdb",
   "metadata": {},
   "source": [
    "### Time Complexity\n",
    "\n",
    "Best case scenario, we can find our element in the first position which comes with the complexity of O(1) and the worst case, it needs to traverse the whole list which has the complexity of **O(n)**.\n",
    "\n",
    "### Memory Complexity\n",
    "\n",
    "The **iterative** algorithm only store one set of variable at each iteration: **O(1)**\n",
    "\n",
    "And the **recursive** algorithm holds the process of each execution until the object is found: **O(n)** \n"
   ]
  },
  {
   "cell_type": "markdown",
   "id": "dbcbef77-51ca-4605-92f0-24fa236451ae",
   "metadata": {},
   "source": [
    "# Binary Search"
   ]
  },
  {
   "cell_type": "code",
   "execution_count": 25,
   "id": "c47b7a55-89e3-4cf5-b6de-e7d63ad6cdcc",
   "metadata": {},
   "outputs": [],
   "source": [
    "# For binary search, we must have a sorted list\n",
    "\n",
    "my_list = [1, 3, 4, 6, 7, 8, 10, 15, 20, 21, 25, 27]"
   ]
  },
  {
   "cell_type": "markdown",
   "id": "7c588723-1c41-4a25-a649-c5f5a231ae51",
   "metadata": {},
   "source": [
    "## Iterative Algorithm"
   ]
  },
  {
   "cell_type": "code",
   "execution_count": 29,
   "id": "6450f9c7-79b8-4bdb-93ed-6318019cb6f5",
   "metadata": {},
   "outputs": [],
   "source": [
    "def iter_binary_search(my_list, query):\n",
    "    low = 0\n",
    "    high = len(my_list) - 1\n",
    "    mid = 0\n",
    "    \n",
    "    while low <= high:\n",
    "    \n",
    "        mid = (low + high) // 2\n",
    "        if my_list[mid] == query:\n",
    "            return mid\n",
    "        elif my_list[mid] > query:\n",
    "            high = mid - 1\n",
    "        elif my_list[mid] < query:\n",
    "            low = mid + 1\n",
    "    \n",
    "    return -1\n"
   ]
  },
  {
   "cell_type": "code",
   "execution_count": 34,
   "id": "821a2308-6a95-4ed7-94b4-431eab1cd4a3",
   "metadata": {},
   "outputs": [
    {
     "data": {
      "text/plain": [
       "5"
      ]
     },
     "execution_count": 34,
     "metadata": {},
     "output_type": "execute_result"
    }
   ],
   "source": [
    "iter_binary_search(my_list, 8)"
   ]
  },
  {
   "cell_type": "markdown",
   "id": "e540a9e5-3c16-4829-a372-ae718a516239",
   "metadata": {},
   "source": [
    "## Recursive Algorithm"
   ]
  },
  {
   "cell_type": "code",
   "execution_count": 41,
   "id": "8807309b-8380-40f4-9aee-22481f163fbc",
   "metadata": {},
   "outputs": [],
   "source": [
    "def recursive_binary_search(my_list, query, low=0, high=None):\n",
    "    if high is None:\n",
    "        high = len(my_list) - 1\n",
    "    \n",
    "    if low > high:\n",
    "        return -1\n",
    "    \n",
    "    mid = (low + high) // 2\n",
    "    \n",
    "    if my_list[mid] == query:\n",
    "        return mid\n",
    "    if my_list[mid] > query:\n",
    "        high = mid - 1\n",
    "    if my_list[mid] < query:\n",
    "        low = mid + 1\n",
    "        \n",
    "    return recursive_binary_search(my_list, query, low, high)\n",
    "        "
   ]
  },
  {
   "cell_type": "code",
   "execution_count": 44,
   "id": "d7298694-388b-4af5-b0a6-ae4484c721aa",
   "metadata": {},
   "outputs": [
    {
     "data": {
      "text/plain": [
       "9"
      ]
     },
     "execution_count": 44,
     "metadata": {},
     "output_type": "execute_result"
    }
   ],
   "source": [
    "recursive_binary_search(my_list, 21)"
   ]
  },
  {
   "cell_type": "markdown",
   "id": "4d5a63d7-9f6e-467b-a0fb-46b516bc3e08",
   "metadata": {},
   "source": [
    "## Big O"
   ]
  },
  {
   "cell_type": "markdown",
   "id": "33f59c3d-a522-4172-b499-9f1bbad5b9cc",
   "metadata": {},
   "source": [
    "### Time Complexity\n",
    "\n",
    "The time complexity of this algorithm is **O(log n)**.\n",
    "\n",
    "### Memory Complexity\n",
    "\n",
    "The **iterative** algorithm only store one set of variable at each iteration: **O(1)**\n",
    "\n",
    "And the **recursive** algorithm holds the process of each execution until the object is found: **O(log n)** \n"
   ]
  },
  {
   "cell_type": "code",
   "execution_count": null,
   "id": "25e4ec73-54e1-4619-8f8e-0706174a09ce",
   "metadata": {},
   "outputs": [],
   "source": []
  }
 ],
 "metadata": {
  "kernelspec": {
   "display_name": "Python 3 (ipykernel)",
   "language": "python",
   "name": "python3"
  },
  "language_info": {
   "codemirror_mode": {
    "name": "ipython",
    "version": 3
   },
   "file_extension": ".py",
   "mimetype": "text/x-python",
   "name": "python",
   "nbconvert_exporter": "python",
   "pygments_lexer": "ipython3",
   "version": "3.10.13"
  }
 },
 "nbformat": 4,
 "nbformat_minor": 5
}
