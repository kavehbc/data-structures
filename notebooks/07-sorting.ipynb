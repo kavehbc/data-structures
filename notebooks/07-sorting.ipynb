{
 "cells": [
  {
   "cell_type": "markdown",
   "id": "330e74d4-7c09-4fe8-9946-112f648bb53d",
   "metadata": {},
   "source": [
    "# Sorting Algorithms"
   ]
  },
  {
   "cell_type": "markdown",
   "id": "e6eff7b4-c6a6-4162-affb-e697e218286d",
   "metadata": {},
   "source": [
    "## Profiling Method\n",
    "\n",
    "This is just for the profiling purpose and you can ignore the source code in details"
   ]
  },
  {
   "cell_type": "code",
   "execution_count": 1,
   "id": "20cee0a9-4cd3-4b93-abd8-e42d92070efe",
   "metadata": {},
   "outputs": [],
   "source": [
    "import os\n",
    "import psutil\n",
    "\n",
    "# inner psutil function\n",
    "def process_memory():\n",
    "    process = psutil.Process(os.getpid())\n",
    "    mem_info = process.memory_info()\n",
    "    return mem_info.rss\n",
    "\n",
    "# decorator function\n",
    "def profile(func):\n",
    "    def wrapper(*args, **kwargs):\n",
    "\n",
    "        mem_before = process_memory()\n",
    "        result = func(*args, **kwargs)\n",
    "        mem_after = process_memory()\n",
    "        print(\"{}:consumed memory: {:,}\".format(\n",
    "            func.__name__,\n",
    "            mem_before, mem_after, mem_after - mem_before))\n",
    "\n",
    "        return result\n",
    "    return wrapper\n"
   ]
  },
  {
   "cell_type": "markdown",
   "id": "878e6ea5-8935-4764-af72-5dee9f589047",
   "metadata": {},
   "source": [
    "## Calculating Factorial"
   ]
  },
  {
   "cell_type": "raw",
   "id": "2e989c4e-573b-4b2f-8b22-85ce2b337f83",
   "metadata": {},
   "source": [
    "f(5) -> 5 * 24\n",
    "f(4) -> 4 * 6\n",
    "f(3) -> 3 * 2\n",
    "f(2) -> 2 * 1\n",
    "f(1) = 1"
   ]
  },
  {
   "cell_type": "code",
   "execution_count": 3,
   "id": "fd6d28a3-5637-4918-910d-d8b2f16615a9",
   "metadata": {},
   "outputs": [
    {
     "name": "stdout",
     "output_type": "stream",
     "text": [
      "120\n"
     ]
    }
   ],
   "source": [
    "print(5 * 4 * 3 * 2 * 1)"
   ]
  },
  {
   "cell_type": "markdown",
   "id": "2d9f6ba7-d00f-4000-8b0e-9c04b6ecb6ed",
   "metadata": {
    "tags": []
   },
   "source": [
    "### Non-Recursive Function"
   ]
  },
  {
   "cell_type": "code",
   "execution_count": 2,
   "id": "88c2cb2d-3df9-4b94-a056-596544475fd7",
   "metadata": {},
   "outputs": [
    {
     "name": "stdout",
     "output_type": "stream",
     "text": [
      "f:consumed memory: 66,138,112\n"
     ]
    },
    {
     "data": {
      "text/plain": [
       "120"
      ]
     },
     "execution_count": 2,
     "metadata": {},
     "output_type": "execute_result"
    }
   ],
   "source": [
    "# the idea is to calculate n!\n",
    "@profile\n",
    "def f(n):\n",
    "    result = 1\n",
    "    while n > 1:\n",
    "        result *= n\n",
    "        n -= 1\n",
    "    return result\n",
    "\n",
    "f(5)"
   ]
  },
  {
   "cell_type": "markdown",
   "id": "fbdc5ae8-3223-4482-ae1a-36daff7d5397",
   "metadata": {},
   "source": [
    "### Recursive Function"
   ]
  },
  {
   "cell_type": "code",
   "execution_count": 5,
   "id": "6bc28655-35da-4cb5-bba7-82529cfe0f79",
   "metadata": {},
   "outputs": [
    {
     "name": "stdout",
     "output_type": "stream",
     "text": [
      "f:consumed memory: 66,187,264\n",
      "f:consumed memory: 66,187,264\n",
      "f:consumed memory: 66,187,264\n",
      "f:consumed memory: 66,187,264\n",
      "f:consumed memory: 66,187,264\n"
     ]
    },
    {
     "data": {
      "text/plain": [
       "120"
      ]
     },
     "execution_count": 5,
     "metadata": {},
     "output_type": "execute_result"
    }
   ],
   "source": [
    "# the idea is to calculate n!\n",
    "@profile\n",
    "def f(n):\n",
    "    if n == 1:\n",
    "        return 1\n",
    "    return n * f(n-1)\n",
    "\n",
    "f(5)"
   ]
  },
  {
   "cell_type": "markdown",
   "id": "dcea8433-841a-4c6f-98b7-949be603cb3b",
   "metadata": {},
   "source": [
    "## Sorting"
   ]
  },
  {
   "cell_type": "code",
   "execution_count": 7,
   "id": "5c77e7fd-ddd6-4da1-8db2-b5f6e5ab778a",
   "metadata": {},
   "outputs": [],
   "source": [
    "lst = [5, 7, 1, 3, 4, 9, 6]"
   ]
  },
  {
   "cell_type": "markdown",
   "id": "3f3ae82f-c4ea-4c86-a3ff-27138359bf85",
   "metadata": {},
   "source": [
    "## Selection Sort"
   ]
  },
  {
   "cell_type": "markdown",
   "id": "a679fa28-6fc8-40d9-8e6c-38a79d3b466f",
   "metadata": {},
   "source": [
    "lst = [5, 7, 3, 1, 4, 9, 6]\n",
    "\n",
    "We assume that the list is already unsorted.\n",
    "We have two parts. Sorted Part and Unsorted Part.\n",
    "\n",
    "Sorted Part = []\n",
    "Unsorted Part = [5, 7, 1, 3, 4, 9, 6]\n",
    "\n",
    "I look for the smallest value from Unsorted: 1\n",
    "I move the smallest value to Sorted:\n",
    "\n",
    "Sorted = [1]\n",
    "Unsorted = [5, 7, 3, 4, 9, 6]\n",
    "\n",
    "i=0\n",
    "lst = [1, 7, 5, 3, 4, 9, 6]\n",
    "\n",
    "\n",
    "Repeat:\n",
    "Sorted = [1, 3]\n",
    "Unsorted = [5, 7, 4, 9, 6]\n",
    "\n",
    "i=1\n",
    "lst = [1, 3, 5, 7, 4, 9, 6]\n",
    "\n",
    "Repeat:\n",
    "Sorted = [1, 3, 4]\n",
    "Unsorted = [5, 7, 9, 6]\n",
    "\n",
    "i=2\n",
    "lst = [1, 3, 4, 7, 5, 9, 6]\n",
    "\n",
    "i=3\n",
    "lst = [1, 3, 4, 7, 5, 9, 6]\n",
    "\n",
    "i=4\n",
    "lst = [1, 3, 4, 5, 6, 9, 7]\n",
    "\n",
    "i=5\n",
    "lst = [1, 3, 4, 5, 6, 7, 9]\n",
    "\n",
    "i=6\n",
    "lst = [1, 3, 4, 5, 6, 7, 9]\n",
    "\n",
    "\n",
    "Complexity = O(n * n-i) = O(n^2)"
   ]
  },
  {
   "cell_type": "code",
   "execution_count": 8,
   "id": "64147df7-99e6-4346-9fc6-6dbd8ef60c40",
   "metadata": {},
   "outputs": [
    {
     "data": {
      "text/plain": [
       "[1, 3, 4, 5, 6, 7, 9]"
      ]
     },
     "execution_count": 8,
     "metadata": {},
     "output_type": "execute_result"
    }
   ],
   "source": [
    "def selection_sort_1(lst):\n",
    "    for index in range(len(lst)):\n",
    "        # print(f\"Index: {index}\")\n",
    "\n",
    "        # finding minimum value\n",
    "        min_index = index\n",
    "        for index_2 in range(index, len(lst)):\n",
    "            # print(f\"Index 2: {index_2}\")\n",
    "            if lst[index_2] < lst[min_index]:\n",
    "                min_index = index_2\n",
    "\n",
    "        # swapping the minimum with the index\n",
    "        lst[index], lst[min_index] = lst[min_index], lst[index]\n",
    "    return lst\n",
    "\n",
    "selection_sort_1(lst.copy())"
   ]
  },
  {
   "cell_type": "code",
   "execution_count": 9,
   "id": "c4e45314-bfb6-4e49-bda3-bcd5cd245c8a",
   "metadata": {},
   "outputs": [
    {
     "data": {
      "text/plain": [
       "[1, 3, 4, 5, 6, 7, 9]"
      ]
     },
     "execution_count": 9,
     "metadata": {},
     "output_type": "execute_result"
    }
   ],
   "source": [
    "def selection_sort_2(lst):\n",
    "    sorted_list = []\n",
    "    while len(lst) > 0:\n",
    "        # finding minimum value\n",
    "        min_index = 0\n",
    "        for index in range(len(lst)):\n",
    "            # print(f\"Index 2: {index_2}\")\n",
    "            if lst[index] < lst[min_index]:\n",
    "                min_index = index\n",
    "\n",
    "        sorted_list.append(lst[min_index])\n",
    "        lst.pop(min_index)\n",
    "        \n",
    "    return sorted_list\n",
    "\n",
    "selection_sort_2(lst.copy())"
   ]
  },
  {
   "cell_type": "markdown",
   "id": "30a95bd5-9718-4e6a-be0c-19ae8fc300a1",
   "metadata": {},
   "source": [
    "### Insertion Sort\n",
    "\n",
    "O(n^2)"
   ]
  },
  {
   "cell_type": "code",
   "execution_count": 10,
   "id": "06be1cf7-a1bf-4bbf-9439-a1b32094bfb7",
   "metadata": {},
   "outputs": [
    {
     "data": {
      "text/plain": [
       "[1, 3, 4, 5, 6, 7, 9]"
      ]
     },
     "execution_count": 10,
     "metadata": {},
     "output_type": "execute_result"
    }
   ],
   "source": [
    "def insertion_sort(lst):\n",
    "    for i in range(1, len(lst)):\n",
    "\n",
    "        item = lst[i]\n",
    "        # print(f\"Picked: {item}\")\n",
    "\n",
    "        j = i - 1\n",
    "        while j >= 0 and j <= i and item < lst[j]:\n",
    "            lst[j+1] = lst[j]\n",
    "            # print(f\"Moving: {lst}\")\n",
    "            j -= 1\n",
    "\n",
    "        lst[j + 1] = item\n",
    "\n",
    "    return lst\n",
    "\n",
    "insertion_sort(lst.copy())"
   ]
  },
  {
   "cell_type": "markdown",
   "id": "6eb30919-e2dc-43c3-bde0-4c00230f3681",
   "metadata": {},
   "source": [
    "## Bubble Sort"
   ]
  },
  {
   "cell_type": "raw",
   "id": "9a005a29-abf0-4925-a360-adbacea78807",
   "metadata": {},
   "source": [
    "lst = [5, 1, 4, 2, 8]\n",
    "\n",
    "Every step we take two items of 5, 1 and we sort.\n",
    "[5, 1, 4, 2, 8]\n",
    "Then we go with 5, 4, and we sort them\n",
    "[1, 5, 4, 2, 8]\n",
    "Now, we continue with 5, 2\n",
    "[1, 4, 5, 2, 8]\n",
    "Last, we check 5, 8 combination, and since they are already sorted we do not swap them.\n",
    "[1, 4, 2, 5, 8]\n",
    "[1, 4, 2, 5, 8]\n",
    "\n",
    "We continue the same operation one more time from scratch.\n",
    "We repeat this process n times.\n",
    "\n",
    "[1, 4, 2, 5, 8]\n",
    "[1, 2, 4, 5, 8]\n",
    "[1, 2, 4, 5, 8]\n",
    "[1, 2, 4, 5, 8]\n",
    "\n",
    "[1, 2, 4, 5, 8]\n",
    "\n",
    "O(n^2)"
   ]
  },
  {
   "cell_type": "code",
   "execution_count": 11,
   "id": "a83c5100-24f5-4b75-8ff3-537eddbc487f",
   "metadata": {},
   "outputs": [
    {
     "data": {
      "text/plain": [
       "[1, 3, 4, 5, 6, 7, 9]"
      ]
     },
     "execution_count": 11,
     "metadata": {},
     "output_type": "execute_result"
    }
   ],
   "source": [
    "def bubble_sort(lst):\n",
    "    for i in range(len(lst)):\n",
    "        for j in range(len(lst) - i - 1):\n",
    "            if lst[j] > lst[j+1]:\n",
    "                lst[j], lst[j+1] = lst[j+1], lst[j]\n",
    "    return lst\n",
    "\n",
    "bubble_sort(lst.copy())"
   ]
  },
  {
   "cell_type": "code",
   "execution_count": 12,
   "id": "d7cf53a8-4a9c-4307-9b22-f423180d428c",
   "metadata": {},
   "outputs": [
    {
     "data": {
      "text/plain": [
       "[1, 3, 4, 5, 6, 7, 9]"
      ]
     },
     "execution_count": 12,
     "metadata": {},
     "output_type": "execute_result"
    }
   ],
   "source": [
    "def bubble_sort_2(lst):\n",
    "    aux = len(lst)\n",
    "    while aux > 0:\n",
    "        for i, _ in enumerate(lst[:aux -1]):\n",
    "            if lst[i] > lst[i + 1]:\n",
    "                lst[i], lst[i + 1] = lst[i + 1], lst[i]\n",
    "        aux -= 1\n",
    "    return lst\n",
    "\n",
    "bubble_sort_2(lst.copy())"
   ]
  },
  {
   "cell_type": "markdown",
   "id": "543b896a-2285-42ef-be34-8e2ff87ee262",
   "metadata": {},
   "source": [
    "### Merge Sort\n",
    "\n",
    "O(n log n)"
   ]
  },
  {
   "cell_type": "code",
   "execution_count": 13,
   "id": "4d094f59-5d4d-478e-90f0-55406089a2c5",
   "metadata": {},
   "outputs": [],
   "source": [
    "def merge_sort(lst):\n",
    "    if len(lst) > 1:\n",
    "        \n",
    "        mid = len(lst) // 2\n",
    "        # print(f\"Mid: {mid}\")\n",
    "        \n",
    "        L = lst[:mid]\n",
    "        R = lst[mid:]\n",
    "        # print(f\"Left: {L}\")\n",
    "        # print(f\"Right: {R}\")\n",
    "        # print(\"\")\n",
    "        \n",
    "        merge_sort(L)\n",
    "        merge_sort(R)\n",
    "        \n",
    "        i = j = k = 0\n",
    "        \n",
    "        # Copy data to temp arrays L[] and R[]\n",
    "        while i < len(L) and j < len(R):\n",
    "            if L[i] <= R[j]:\n",
    "                lst[k] = L[i]\n",
    "                i += 1\n",
    "            else:\n",
    "                lst[k] = R[j]\n",
    "                j += 1\n",
    "            k += 1\n",
    " \n",
    "        # Checking if any element was left\n",
    "        while i < len(L):\n",
    "            lst[k] = L[i]\n",
    "            i += 1\n",
    "            k += 1\n",
    " \n",
    "        while j < len(R):\n",
    "            lst[k] = R[j]\n",
    "            j += 1\n",
    "            k += 1\n",
    "            \n",
    "    return lst\n"
   ]
  },
  {
   "cell_type": "code",
   "execution_count": 14,
   "id": "073af37b-143d-4470-87f2-8aab814468cf",
   "metadata": {},
   "outputs": [
    {
     "data": {
      "text/plain": [
       "[1, 3, 4, 5, 6, 7, 9]"
      ]
     },
     "execution_count": 14,
     "metadata": {},
     "output_type": "execute_result"
    }
   ],
   "source": [
    "merge_sort(lst.copy())"
   ]
  },
  {
   "cell_type": "markdown",
   "id": "d9e1ad99-0bc2-4a0b-a7cc-769cc4cb8989",
   "metadata": {},
   "source": [
    "## Quick Sort"
   ]
  },
  {
   "cell_type": "raw",
   "id": "4b5c6c03-b39a-4999-ba87-ecad4ecbb398",
   "metadata": {},
   "source": [
    "A recursive sort similar to Merge Sort\n",
    "\n",
    "Worst case: O(n^2)\n",
    "Best case: O(n)\n",
    "Average: O(nlogn)\n",
    "\n",
    "lst = [2, 6, 5, 3, 8, 7, 1, 0]\n",
    "pivot = 3\n",
    "swap the pivot with the last item in the list\n",
    "\n",
    "[2, 6, 5, 0, 8, 7, 1, *3*]\n",
    "left ->      <- right\n",
    "\n",
    "selecting 2 items:\n",
    "1 item from left that is larger than pivot -> 6\n",
    "1 item from right that is smaller than pivot -> 1\n",
    "\n",
    "Now, we swap 6 and 1\n",
    "[2, 1, 5, 0, 8, 7, 6, *3*]\n",
    "\n",
    "Repeat:\n",
    "selecting 2 items:\n",
    "1 item from left that is larger than pivot -> 5\n",
    "1 item from right that is smaller than pivot -> 0\n",
    "Now, swap:\n",
    "\n",
    "[2, 1, 0, 5, 8, 7, 6, *3*]\n",
    "\n",
    "pivot = 5\n",
    "move the pivot to the end of the list\n",
    "[2, 1, 0, 3, 8, 7, 6, *5*]\n"
   ]
  },
  {
   "cell_type": "code",
   "execution_count": 35,
   "id": "badb9207-4087-454e-bad7-804993db1790",
   "metadata": {},
   "outputs": [],
   "source": [
    "def partition(lst, low, high):\n",
    "    pivot = lst[high]\n",
    "\n",
    "    i = low - 1\n",
    "    for j in range(low, high):\n",
    "        if lst[j] <= pivot:\n",
    "            i += 1\n",
    "            lst[i], lst[j] = lst[j], lst[i]\n",
    "            \n",
    "    lst[i + 1], lst[high] = lst[high], lst[i+1]\n",
    "    return i + 1\n",
    "\n",
    "def quick_sort(lst, low = 0, high = len(lst) - 1):\n",
    "    if low < high:\n",
    "        \n",
    "        # find pivot element\n",
    "        # element smaller than pivot from left\n",
    "        # element greater than pivot from right\n",
    "        pi = partition(lst, low, high)\n",
    "        \n",
    "        # recursively call on left of pivot\n",
    "        quick_sort(lst, low, pi - 1)\n",
    "        \n",
    "        # recursively call on right of pivot\n",
    "        quick_sort(lst, pi + 1, high)\n",
    "    \n",
    "    # return lst"
   ]
  },
  {
   "cell_type": "code",
   "execution_count": 41,
   "id": "350d981c-fde5-4c69-81da-55903fd8555d",
   "metadata": {},
   "outputs": [],
   "source": [
    "# Python program for implementation of Quicksort Sort\n",
    " \n",
    "# This implementation utilizes pivot as the last element in the nums list\n",
    "# It has a pointer to keep track of the elements smaller than the pivot\n",
    "# At the very end of partition() function, the pointer is swapped with the pivot\n",
    "# to come up with a \"sorted\" nums relative to the pivot\n",
    " \n",
    " \n",
    "# Function to find the partition position\n",
    "def partition(array, low, high):\n",
    " \n",
    "    # choose the rightmost element as pivot\n",
    "    pivot = array[high]\n",
    " \n",
    "    # pointer for greater element\n",
    "    i = low - 1\n",
    " \n",
    "    # traverse through all elements\n",
    "    # compare each element with pivot\n",
    "    for j in range(low, high):\n",
    "        if array[j] <= pivot:\n",
    " \n",
    "            # If element smaller than pivot is found\n",
    "            # swap it with the greater element pointed by i\n",
    "            i = i + 1\n",
    " \n",
    "            # Swapping element at i with element at j\n",
    "            (array[i], array[j]) = (array[j], array[i])\n",
    " \n",
    "    # Swap the pivot element with the greater element specified by i\n",
    "    (array[i + 1], array[high]) = (array[high], array[i + 1])\n",
    " \n",
    "    # Return the position from where partition is done\n",
    "    return i + 1\n",
    " \n",
    "# function to perform quicksort\n",
    "\n",
    "def quickSort(array, low, high):\n",
    "    if low < high:\n",
    " \n",
    "        # Find pivot element such that\n",
    "        # element smaller than pivot are on the left\n",
    "        # element greater than pivot are on the right\n",
    "        pi = partition(array, low, high)\n",
    " \n",
    "        # Recursive call on the left of pivot\n",
    "        quickSort(array, low, pi - 1)\n",
    " \n",
    "        # Recursive call on the right of pivot\n",
    "        quickSort(array, pi + 1, high)\n",
    " "
   ]
  },
  {
   "cell_type": "code",
   "execution_count": 42,
   "id": "1bad7222-b5ba-4286-9fc2-30ed6e236c52",
   "metadata": {},
   "outputs": [
    {
     "data": {
      "text/plain": [
       "[1, 3, 4, 5, 6, 7, 9]"
      ]
     },
     "execution_count": 42,
     "metadata": {},
     "output_type": "execute_result"
    }
   ],
   "source": [
    "lst = [5, 7, 1, 3, 4, 9, 6]\n",
    "quick_sort(lst)\n",
    "lst"
   ]
  },
  {
   "cell_type": "code",
   "execution_count": 45,
   "id": "bc130c54-321d-4c31-a5af-4df31af95a71",
   "metadata": {},
   "outputs": [
    {
     "data": {
      "text/plain": [
       "[1, 3, 4, 5, 6, 7, 9]"
      ]
     },
     "execution_count": 45,
     "metadata": {},
     "output_type": "execute_result"
    }
   ],
   "source": [
    "lst = [5, 7, 1, 3, 4, 9, 6]\n",
    "quickSort(lst, 0, len(lst) - 1)\n",
    "lst\n"
   ]
  },
  {
   "cell_type": "markdown",
   "id": "30a10649-5d61-4ff0-9ed8-c915555136c6",
   "metadata": {},
   "source": [
    "## Comparison"
   ]
  },
  {
   "cell_type": "code",
   "execution_count": 16,
   "id": "c0a29cf4-b81d-4336-8736-37f29256669f",
   "metadata": {},
   "outputs": [
    {
     "data": {
      "text/plain": [
       "10000"
      ]
     },
     "execution_count": 16,
     "metadata": {},
     "output_type": "execute_result"
    }
   ],
   "source": [
    "import time\n",
    "import random\n",
    "\n",
    "big_list = random.sample(range(1, 100_000), 10_000)\n",
    "len(big_list)"
   ]
  },
  {
   "cell_type": "code",
   "execution_count": 17,
   "id": "fbe2ae6c-3109-459b-b74d-2c3835b5ea9e",
   "metadata": {},
   "outputs": [
    {
     "name": "stdout",
     "output_type": "stream",
     "text": [
      "Processing Time: 13.33161473274231 sec\n"
     ]
    }
   ],
   "source": [
    "t0 = time.time()\n",
    "\n",
    "new_list = selection_sort_1(big_list.copy())\n",
    "\n",
    "t1 = time.time()\n",
    "\n",
    "print(f\"Processing Time: {t1 - t0} sec\")"
   ]
  },
  {
   "cell_type": "code",
   "execution_count": 18,
   "id": "8ba755d5-3274-4ec2-9c7c-ff742cc08206",
   "metadata": {},
   "outputs": [
    {
     "name": "stdout",
     "output_type": "stream",
     "text": [
      "Processing Time: 12.269259452819824 sec\n"
     ]
    }
   ],
   "source": [
    "t0 = time.time()\n",
    "\n",
    "new_list = selection_sort_2(big_list.copy())\n",
    "\n",
    "t1 = time.time()\n",
    "\n",
    "print(f\"Processing Time: {t1 - t0} sec\")"
   ]
  },
  {
   "cell_type": "code",
   "execution_count": 19,
   "id": "c52373c1-cfa1-41e2-8480-720f60b488db",
   "metadata": {},
   "outputs": [
    {
     "name": "stdout",
     "output_type": "stream",
     "text": [
      "Processing Time: 15.957190752029419 sec\n"
     ]
    }
   ],
   "source": [
    "t0 = time.time()\n",
    "\n",
    "new_list = insertion_sort(big_list.copy())\n",
    "\n",
    "t1 = time.time()\n",
    "\n",
    "print(f\"Processing Time: {t1 - t0} sec\")"
   ]
  },
  {
   "cell_type": "code",
   "execution_count": 20,
   "id": "5fe435ab-3b7a-4bd1-8814-4875cb9e42fe",
   "metadata": {},
   "outputs": [
    {
     "name": "stdout",
     "output_type": "stream",
     "text": [
      "Processing Time: 29.37996244430542 sec\n"
     ]
    }
   ],
   "source": [
    "t0 = time.time()\n",
    "\n",
    "new_list = bubble_sort(big_list.copy())\n",
    "\n",
    "t1 = time.time()\n",
    "\n",
    "print(f\"Processing Time: {t1 - t0} sec\")"
   ]
  },
  {
   "cell_type": "code",
   "execution_count": 21,
   "id": "ba02757d-54b9-4c73-9985-7938fc3464b1",
   "metadata": {},
   "outputs": [
    {
     "name": "stdout",
     "output_type": "stream",
     "text": [
      "Processing Time: 30.749045610427856 sec\n"
     ]
    }
   ],
   "source": [
    "t0 = time.time()\n",
    "\n",
    "new_list = bubble_sort_2(big_list.copy())\n",
    "\n",
    "t1 = time.time()\n",
    "\n",
    "print(f\"Processing Time: {t1 - t0} sec\")"
   ]
  },
  {
   "cell_type": "code",
   "execution_count": 27,
   "id": "ea866529-6d08-4d61-8932-ce2ecbe22c70",
   "metadata": {},
   "outputs": [
    {
     "name": "stdout",
     "output_type": "stream",
     "text": [
      "Processing Time: 0.2598683834075928 sec\n"
     ]
    }
   ],
   "source": [
    "t0 = time.time()\n",
    "\n",
    "new_list = merge_sort(big_list.copy())\n",
    "\n",
    "t1 = time.time()\n",
    "\n",
    "print(f\"Processing Time: {t1 - t0} sec\")"
   ]
  },
  {
   "cell_type": "code",
   "execution_count": 46,
   "id": "69db1d66-e10a-4ac6-9e57-6370df287006",
   "metadata": {},
   "outputs": [
    {
     "name": "stdout",
     "output_type": "stream",
     "text": [
      "Processing Time: 0.10544276237487793 sec\n"
     ]
    }
   ],
   "source": [
    "t0 = time.time()\n",
    "\n",
    "new_list = big_list.copy()\n",
    "# quick_sort(new_list)\n",
    "quickSort(new_list, 0, len(new_list) - 1)\n",
    "\n",
    "t1 = time.time()\n",
    "\n",
    "print(f\"Processing Time: {t1 - t0} sec\")"
   ]
  },
  {
   "cell_type": "code",
   "execution_count": null,
   "id": "a68009db-3bd9-4a40-a906-71066f70348e",
   "metadata": {},
   "outputs": [],
   "source": []
  }
 ],
 "metadata": {
  "kernelspec": {
   "display_name": "Python 3 (ipykernel)",
   "language": "python",
   "name": "python3"
  },
  "language_info": {
   "codemirror_mode": {
    "name": "ipython",
    "version": 3
   },
   "file_extension": ".py",
   "mimetype": "text/x-python",
   "name": "python",
   "nbconvert_exporter": "python",
   "pygments_lexer": "ipython3",
   "version": "3.10.13"
  }
 },
 "nbformat": 4,
 "nbformat_minor": 5
}
