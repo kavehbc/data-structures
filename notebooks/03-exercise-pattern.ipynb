{
 "cells": [
  {
   "cell_type": "markdown",
   "id": "f5dc368a-4e36-4e40-bb56-6e749f835746",
   "metadata": {},
   "source": [
    "# Exercise 1"
   ]
  },
  {
   "cell_type": "raw",
   "id": "3d3acfde-531a-424a-92ff-1e056ff83ead",
   "metadata": {},
   "source": [
    "define `n` with an integer value,\n",
    "and print the following pattern based on `n`\n",
    "\n",
    "for example:\n",
    "\n",
    "n = 5\n",
    "\n",
    "*\n",
    "**\n",
    "***\n",
    "****\n",
    "***** # 5\n",
    "****\n",
    "***\n",
    "**\n",
    "*"
   ]
  },
  {
   "cell_type": "code",
   "execution_count": 1,
   "id": "338f3e57-1b34-4188-8165-1cd5b2694c50",
   "metadata": {},
   "outputs": [
    {
     "name": "stdout",
     "output_type": "stream",
     "text": [
      "\n",
      "*\n",
      "**\n",
      "***\n",
      "****\n",
      "*****\n",
      "****\n",
      "***\n",
      "**\n",
      "*\n",
      "\n"
     ]
    }
   ],
   "source": [
    "n = 5\n",
    "\n",
    "for i in range(n + 1):\n",
    "    print(\"*\" * i)\n",
    "for i in reversed(range(n)):\n",
    "    print(\"*\" * i)\n"
   ]
  },
  {
   "cell_type": "markdown",
   "id": "08c0c577-fd9f-46fa-a608-8f376b78eb23",
   "metadata": {},
   "source": [
    "# Exercise 2"
   ]
  },
  {
   "cell_type": "raw",
   "id": "6044abe2-dd8d-443c-b31d-c732028e69e6",
   "metadata": {},
   "source": [
    "for example:\n",
    "\n",
    "n = 5\n",
    "\n",
    "01 02 03 04 05\n",
    "06 07 08 09 10\n",
    "11 12 13 14 15\n",
    "16 17 18 19 20\n",
    "21 22 23 24 25\n"
   ]
  },
  {
   "cell_type": "code",
   "execution_count": 3,
   "id": "8466d813-3349-410f-a64d-be631453af11",
   "metadata": {},
   "outputs": [
    {
     "name": "stdout",
     "output_type": "stream",
     "text": [
      "001 002 003 004 005 006 007 008 009 010 011 012 013 014 015 \n",
      "016 017 018 019 020 021 022 023 024 025 026 027 028 029 030 \n",
      "031 032 033 034 035 036 037 038 039 040 041 042 043 044 045 \n",
      "046 047 048 049 050 051 052 053 054 055 056 057 058 059 060 \n",
      "061 062 063 064 065 066 067 068 069 070 071 072 073 074 075 \n",
      "076 077 078 079 080 081 082 083 084 085 086 087 088 089 090 \n",
      "091 092 093 094 095 096 097 098 099 100 101 102 103 104 105 \n",
      "106 107 108 109 110 111 112 113 114 115 116 117 118 119 120 \n",
      "121 122 123 124 125 126 127 128 129 130 131 132 133 134 135 \n",
      "136 137 138 139 140 141 142 143 144 145 146 147 148 149 150 \n",
      "151 152 153 154 155 156 157 158 159 160 161 162 163 164 165 \n",
      "166 167 168 169 170 171 172 173 174 175 176 177 178 179 180 \n",
      "181 182 183 184 185 186 187 188 189 190 191 192 193 194 195 \n",
      "196 197 198 199 200 201 202 203 204 205 206 207 208 209 210 \n",
      "211 212 213 214 215 216 217 218 219 220 221 222 223 224 225 \n"
     ]
    }
   ],
   "source": [
    "n = 15\n",
    "\n",
    "lst = []\n",
    "row = []\n",
    "for i in range(1, (n*n)+1):\n",
    "    # print(i)\n",
    "    row.append(i)\n",
    "    if i % n == 0:\n",
    "        lst.append(row)\n",
    "        row = []\n",
    "\n",
    "# print the list\n",
    "for row in lst:\n",
    "    for item in row:\n",
    "        print(str(item).zfill(len(str(n*n))), end=' ')\n",
    "    print()"
   ]
  },
  {
   "cell_type": "markdown",
   "id": "5e7469da-ecc4-4230-9f8d-d948c93a7c72",
   "metadata": {},
   "source": [
    "# Exercise 3"
   ]
  },
  {
   "cell_type": "raw",
   "id": "bde3e3d8-61d0-46b2-92d8-6e8627d1457d",
   "metadata": {},
   "source": [
    "for example:\n",
    "\n",
    "n = 5\n",
    "\n",
    "01 02 03 04 05\n",
    "16 17 18 19 06\n",
    "15 24 25 20 07\n",
    "14 23 22 21 08\n",
    "13 12 11 10 09\n"
   ]
  },
  {
   "cell_type": "code",
   "execution_count": 4,
   "id": "2da49c21-4a8e-4d68-9c4b-69d5b1ab9715",
   "metadata": {},
   "outputs": [
    {
     "data": {
      "text/plain": [
       "[[0, 0, 0, 0, 0],\n",
       " [0, 0, 0, 0, 0],\n",
       " [0, 0, 0, 0, 0],\n",
       " [0, 0, 0, 0, 0],\n",
       " [0, 0, 0, 0, 0]]"
      ]
     },
     "execution_count": 4,
     "metadata": {},
     "output_type": "execute_result"
    }
   ],
   "source": [
    "# initializing the list\n",
    "n = 5\n",
    "\n",
    "lst = []\n",
    "for i in range(n):\n",
    "    lst.append([])\n",
    "    for j in range(n):\n",
    "        lst[i].append(0)\n",
    "lst"
   ]
  },
  {
   "cell_type": "code",
   "execution_count": 5,
   "id": "5462bcd6-dcce-4789-901c-5dc833f35b0c",
   "metadata": {},
   "outputs": [
    {
     "data": {
      "text/plain": [
       "[[1, 2, 3, 4, 5],\n",
       " [16, 17, 18, 19, 6],\n",
       " [15, 24, 25, 20, 7],\n",
       " [14, 23, 22, 21, 8],\n",
       " [13, 12, 11, 10, 9]]"
      ]
     },
     "execution_count": 5,
     "metadata": {},
     "output_type": "execute_result"
    }
   ],
   "source": [
    "# filling the list\n",
    "counter = 0\n",
    "i = 0\n",
    "r = 0 # rounds\n",
    "while counter < (n * n):\n",
    "    for j in range(0 + r, n - r):\n",
    "        counter += 1\n",
    "        lst[i][j] = counter\n",
    "    for i in range(1 + r, n - r):\n",
    "        counter += 1\n",
    "        lst[i][j] = counter\n",
    "    for j in reversed(range(0 + r, n - 1 - r)):\n",
    "        counter += 1\n",
    "        lst[i][j] = counter\n",
    "    for i in reversed(range(1 + r, n - 1 - r)):\n",
    "        counter += 1\n",
    "        lst[i][j] = counter\n",
    "    r += 1\n",
    "\n",
    "lst"
   ]
  },
  {
   "cell_type": "code",
   "execution_count": 6,
   "id": "4bd4ffde-5c1e-4e86-9b04-ee50f0cc6e33",
   "metadata": {},
   "outputs": [
    {
     "name": "stdout",
     "output_type": "stream",
     "text": [
      "01 02 03 04 05 \n",
      "16 17 18 19 06 \n",
      "15 24 25 20 07 \n",
      "14 23 22 21 08 \n",
      "13 12 11 10 09 \n"
     ]
    }
   ],
   "source": [
    "for row in lst:\n",
    "    for item in row:\n",
    "        print(str(item).zfill(len(str(n*n))), end=' ')\n",
    "    print()"
   ]
  },
  {
   "cell_type": "markdown",
   "id": "d104756d-726b-4889-9da8-b6b632bde62f",
   "metadata": {},
   "source": [
    "# Exercise 4"
   ]
  },
  {
   "cell_type": "raw",
   "id": "9debf5ae-847d-43c1-9779-e3ea4331573c",
   "metadata": {},
   "source": [
    "For a given value of n, print the following pattern:\n",
    "\n",
    "n = 9:\n",
    "\n",
    "....*....  # i = 1, s=4\n",
    "...***...  # i = 3, s=3\n",
    "..*****..  # i = 5, s=2\n",
    ".*******.  # i = 7, s=1\n",
    "*********  # n = 9, s=0\n"
   ]
  },
  {
   "cell_type": "code",
   "execution_count": 1,
   "id": "23e37d0c-1509-456c-a230-495f3d070cbd",
   "metadata": {},
   "outputs": [
    {
     "name": "stdout",
     "output_type": "stream",
     "text": [
      "       *\n",
      "      ***\n",
      "     *****\n",
      "    *******\n",
      "   *********\n",
      "  ***********\n",
      " *************\n",
      "***************\n"
     ]
    }
   ],
   "source": [
    "n = 15\n",
    "i = 1\n",
    "while i <= n:\n",
    "    spaces = \" \" * int((n - i) / 2)\n",
    "    stars = '*' * i\n",
    "    print(spaces + stars)\n",
    "    i += 2"
   ]
  }
 ],
 "metadata": {
  "kernelspec": {
   "display_name": "Python 3 (ipykernel)",
   "language": "python",
   "name": "python3"
  },
  "language_info": {
   "codemirror_mode": {
    "name": "ipython",
    "version": 3
   },
   "file_extension": ".py",
   "mimetype": "text/x-python",
   "name": "python",
   "nbconvert_exporter": "python",
   "pygments_lexer": "ipython3",
   "version": "3.10.13"
  }
 },
 "nbformat": 4,
 "nbformat_minor": 5
}
