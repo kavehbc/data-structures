{
 "cells": [
  {
   "cell_type": "markdown",
   "id": "b5ba112f-f28a-42c8-925c-493b95441b94",
   "metadata": {},
   "source": [
    "## Nested List"
   ]
  },
  {
   "cell_type": "code",
   "execution_count": 20,
   "id": "5ff0a230-f439-4d25-a21d-e8c4ffd8b05a",
   "metadata": {},
   "outputs": [
    {
     "data": {
      "text/plain": [
       "5"
      ]
     },
     "execution_count": 20,
     "metadata": {},
     "output_type": "execute_result"
    }
   ],
   "source": [
    "nested_list = [1, 5, [1, [9, 2], 5], 8, 3]\n",
    "len(nested_list)"
   ]
  },
  {
   "cell_type": "markdown",
   "id": "7f8b09c3-39be-4d96-9678-06181c4416dd",
   "metadata": {},
   "source": [
    "But the actual number of items in that list is 8.\n",
    "\n",
    "Let's create a function to count the number of items within nested list."
   ]
  },
  {
   "cell_type": "code",
   "execution_count": 21,
   "id": "c7307634-c006-456c-ba5f-311f8ade03ef",
   "metadata": {},
   "outputs": [],
   "source": [
    "def count_items1(nl):\n",
    "    counter = 0\n",
    "    for item1 in nl:\n",
    "        if isinstance(item1, list):\n",
    "            for item2 in item1:\n",
    "                if isinstance(item2, list):\n",
    "                    for item3 in item2:\n",
    "                        counter += 1\n",
    "                else:\n",
    "                    counter += 1                \n",
    "        else:\n",
    "            counter += 1\n",
    "    return counter"
   ]
  },
  {
   "cell_type": "code",
   "execution_count": 22,
   "id": "c9333036-f9f2-425e-9d34-e501fd89323d",
   "metadata": {},
   "outputs": [
    {
     "data": {
      "text/plain": [
       "8"
      ]
     },
     "execution_count": 22,
     "metadata": {},
     "output_type": "execute_result"
    }
   ],
   "source": [
    "count_items1(nested_list)"
   ]
  },
  {
   "cell_type": "code",
   "execution_count": 23,
   "id": "51333c41-a681-4e08-99c6-1a2c14f2cc06",
   "metadata": {},
   "outputs": [
    {
     "data": {
      "text/plain": [
       "8"
      ]
     },
     "execution_count": 23,
     "metadata": {},
     "output_type": "execute_result"
    }
   ],
   "source": [
    "def count_items3(nl):\n",
    "    nl = nl.copy()\n",
    "    counter=0\n",
    "    while len(nl) != 0:\n",
    "        if isinstance(nl[0], list):\n",
    "            nl.extend(nl[0])\n",
    "        else:\n",
    "            counter+=1\n",
    "        nl.pop(0)\n",
    "    return(counter)\n",
    " \n",
    "count_items3(nested_list)"
   ]
  },
  {
   "cell_type": "code",
   "execution_count": 24,
   "id": "2b263fa4-f7d1-40ee-a675-942e2b5db66e",
   "metadata": {},
   "outputs": [],
   "source": [
    "def count_items2(nl):\n",
    "    count = 0\n",
    "    stack = []\n",
    "    current_list = nl\n",
    "    i = 0\n",
    "    \n",
    "    while True:\n",
    "        if i == len(current_list):\n",
    "            if current_list == nl:\n",
    "                return count\n",
    "            else:\n",
    "                current_list, i = stack.pop()\n",
    "                i += 1\n",
    "                continue\n",
    "        \n",
    "        if isinstance(current_list[i], list):\n",
    "            stack.append([current_list, i])\n",
    "            current_list = current_list[i]\n",
    "            i = 0\n",
    "        else:\n",
    "            count += 1\n",
    "            i += 1"
   ]
  },
  {
   "cell_type": "code",
   "execution_count": 25,
   "id": "60424aa0-e848-45e6-9183-63500dca06c8",
   "metadata": {},
   "outputs": [
    {
     "data": {
      "text/plain": [
       "8"
      ]
     },
     "execution_count": 25,
     "metadata": {},
     "output_type": "execute_result"
    }
   ],
   "source": [
    "count_items2(nested_list)"
   ]
  },
  {
   "cell_type": "markdown",
   "id": "2358f52e-04da-44bc-8068-c8cb1dee2cec",
   "metadata": {},
   "source": [
    "Using recursive function"
   ]
  },
  {
   "cell_type": "code",
   "execution_count": 26,
   "id": "3198e79e-9d02-4436-a9f6-b6f005ba418e",
   "metadata": {},
   "outputs": [],
   "source": [
    "def count_items3(nl):\n",
    "    counter = 0\n",
    "    for item in nl:\n",
    "        if isinstance(item, list):\n",
    "            counter += count_items3(item)\n",
    "        else:\n",
    "            counter += 1\n",
    "    return counter\n",
    "    "
   ]
  },
  {
   "cell_type": "code",
   "execution_count": 27,
   "id": "e2fd37fe-0e7b-4c1b-8674-e7466ac43e10",
   "metadata": {},
   "outputs": [
    {
     "data": {
      "text/plain": [
       "8"
      ]
     },
     "execution_count": 27,
     "metadata": {},
     "output_type": "execute_result"
    }
   ],
   "source": [
    "count_items3(nested_list)"
   ]
  },
  {
   "cell_type": "markdown",
   "id": "ca885bb2-eaa9-41a9-b9a3-9794e5fa721f",
   "metadata": {},
   "source": [
    "## Challenge"
   ]
  },
  {
   "cell_type": "markdown",
   "id": "136ff4b7-9f91-41a3-aa7b-6d3754a1f014",
   "metadata": {},
   "source": [
    "There are two lists of `list_1` and `list_2`. `list_2` has empty spaces at the end with the size of `list_1`.\n",
    "Each of these lists are sorted.\n",
    "\n",
    "How can we combine these two lists so that the final result would also be sorted?"
   ]
  },
  {
   "cell_type": "code",
   "execution_count": null,
   "id": "8268f71f-dc34-491b-a3e8-bc5e0c73a389",
   "metadata": {},
   "outputs": [],
   "source": [
    "list_1 = [4, 6, 8, 9, 11]\n",
    "list_2 = [1, 2, 5, 7, 9, 10, 12, 15, None, None, None, None, None]"
   ]
  },
  {
   "cell_type": "code",
   "execution_count": null,
   "id": "cc47ed8d-c125-4cde-900d-c6ba4e4f20e6",
   "metadata": {},
   "outputs": [],
   "source": [
    "last_2 = len(list_2) - len(list_1) - 1\n",
    "last_none = -1\n",
    "\n",
    "while len(list_1) > 0:\n",
    "    if list_1[-1] > list_2[last_2]:\n",
    "        item = list_1.pop()\n",
    "        list_2[last_none] = item    \n",
    "    else:\n",
    "        list_2[last_none] = list_2[last_2]\n",
    "        list_2[last_2] = None\n",
    "        last_2 -= 1\n",
    "    \n",
    "    last_none -= 1\n",
    "\n",
    "print(list_2)"
   ]
  }
 ],
 "metadata": {
  "kernelspec": {
   "display_name": "Python 3 (ipykernel)",
   "language": "python",
   "name": "python3"
  },
  "language_info": {
   "codemirror_mode": {
    "name": "ipython",
    "version": 3
   },
   "file_extension": ".py",
   "mimetype": "text/x-python",
   "name": "python",
   "nbconvert_exporter": "python",
   "pygments_lexer": "ipython3",
   "version": "3.10.13"
  }
 },
 "nbformat": 4,
 "nbformat_minor": 5
}
