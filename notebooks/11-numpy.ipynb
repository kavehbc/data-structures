{
 "cells": [
  {
   "cell_type": "markdown",
   "id": "3ac6ecac-1a5d-46a8-9b2c-4ddc0d69e32f",
   "metadata": {},
   "source": [
    "# Numpy"
   ]
  },
  {
   "cell_type": "code",
   "execution_count": 1,
   "id": "4ca7ede8-d2d7-46fc-a540-bb60ccfaf711",
   "metadata": {
    "execution": {
     "iopub.execute_input": "2024-06-24T19:57:29.325139Z",
     "iopub.status.busy": "2024-06-24T19:57:29.324138Z",
     "iopub.status.idle": "2024-06-24T19:57:29.505486Z",
     "shell.execute_reply": "2024-06-24T19:57:29.502436Z",
     "shell.execute_reply.started": "2024-06-24T19:57:29.325139Z"
    }
   },
   "outputs": [],
   "source": [
    "import numpy as np"
   ]
  },
  {
   "cell_type": "markdown",
   "id": "2937a5a2-6a84-4a17-8e0a-967c0ac410a2",
   "metadata": {},
   "source": [
    "## Accessing elements"
   ]
  },
  {
   "cell_type": "code",
   "execution_count": 2,
   "id": "1aa469c8-7818-447c-af66-977ebc0dd4ec",
   "metadata": {
    "execution": {
     "iopub.execute_input": "2024-06-24T19:57:29.508436Z",
     "iopub.status.busy": "2024-06-24T19:57:29.507439Z",
     "iopub.status.idle": "2024-06-24T19:57:29.535429Z",
     "shell.execute_reply": "2024-06-24T19:57:29.534466Z",
     "shell.execute_reply.started": "2024-06-24T19:57:29.508436Z"
    }
   },
   "outputs": [
    {
     "data": {
      "text/plain": [
       "array([9, 8, 7, 6, 5, 4, 3, 2, 1])"
      ]
     },
     "execution_count": 2,
     "metadata": {},
     "output_type": "execute_result"
    }
   ],
   "source": [
    "arr = np.array([9, 8, 7, 6, 5, 4, 3, 2, 1])\n",
    "arr"
   ]
  },
  {
   "cell_type": "code",
   "execution_count": 3,
   "id": "147301b2-ad10-4147-a034-6cc2a8d28207",
   "metadata": {
    "execution": {
     "iopub.execute_input": "2024-06-24T19:57:29.537444Z",
     "iopub.status.busy": "2024-06-24T19:57:29.537444Z",
     "iopub.status.idle": "2024-06-24T19:57:29.551427Z",
     "shell.execute_reply": "2024-06-24T19:57:29.550430Z",
     "shell.execute_reply.started": "2024-06-24T19:57:29.537444Z"
    }
   },
   "outputs": [
    {
     "data": {
      "text/plain": [
       "(9,)"
      ]
     },
     "execution_count": 3,
     "metadata": {},
     "output_type": "execute_result"
    }
   ],
   "source": [
    "arr.shape"
   ]
  },
  {
   "cell_type": "code",
   "execution_count": 4,
   "id": "c3a6e373-a1c1-4dd8-a309-0a4f230f8d1a",
   "metadata": {
    "execution": {
     "iopub.execute_input": "2024-06-24T19:57:29.554426Z",
     "iopub.status.busy": "2024-06-24T19:57:29.554426Z",
     "iopub.status.idle": "2024-06-24T19:57:29.567463Z",
     "shell.execute_reply": "2024-06-24T19:57:29.566462Z",
     "shell.execute_reply.started": "2024-06-24T19:57:29.554426Z"
    }
   },
   "outputs": [
    {
     "data": {
      "text/plain": [
       "9"
      ]
     },
     "execution_count": 4,
     "metadata": {},
     "output_type": "execute_result"
    }
   ],
   "source": [
    "arr.shape[0]"
   ]
  },
  {
   "cell_type": "code",
   "execution_count": 5,
   "id": "085fabc4-e030-4549-8dbb-c1e1eb90291f",
   "metadata": {
    "execution": {
     "iopub.execute_input": "2024-06-24T19:57:29.569429Z",
     "iopub.status.busy": "2024-06-24T19:57:29.569429Z",
     "iopub.status.idle": "2024-06-24T19:57:29.583430Z",
     "shell.execute_reply": "2024-06-24T19:57:29.582475Z",
     "shell.execute_reply.started": "2024-06-24T19:57:29.569429Z"
    }
   },
   "outputs": [
    {
     "data": {
      "text/plain": [
       "7"
      ]
     },
     "execution_count": 5,
     "metadata": {},
     "output_type": "execute_result"
    }
   ],
   "source": [
    "arr[2]"
   ]
  },
  {
   "cell_type": "code",
   "execution_count": 6,
   "id": "0d924f6c-80a5-4f0d-8c5b-2da2da6bd2c6",
   "metadata": {
    "execution": {
     "iopub.execute_input": "2024-06-24T19:57:29.584429Z",
     "iopub.status.busy": "2024-06-24T19:57:29.584429Z",
     "iopub.status.idle": "2024-06-24T19:57:29.600443Z",
     "shell.execute_reply": "2024-06-24T19:57:29.598426Z",
     "shell.execute_reply.started": "2024-06-24T19:57:29.584429Z"
    }
   },
   "outputs": [
    {
     "data": {
      "text/plain": [
       "array([8, 6, 4, 2])"
      ]
     },
     "execution_count": 6,
     "metadata": {},
     "output_type": "execute_result"
    }
   ],
   "source": [
    "start = 1\n",
    "end = 9\n",
    "step = 2\n",
    "\n",
    "# slicing\n",
    "x = arr[start:end:step]\n",
    "x"
   ]
  },
  {
   "cell_type": "markdown",
   "id": "04e11dcc-fa83-4177-a6b6-4954dac59103",
   "metadata": {},
   "source": [
    "## 2D"
   ]
  },
  {
   "cell_type": "code",
   "execution_count": 7,
   "id": "0c0d2159-ebb7-4708-b1fb-1e0b7fdb7c98",
   "metadata": {
    "execution": {
     "iopub.execute_input": "2024-06-24T19:57:29.602429Z",
     "iopub.status.busy": "2024-06-24T19:57:29.601434Z",
     "iopub.status.idle": "2024-06-24T19:57:29.617433Z",
     "shell.execute_reply": "2024-06-24T19:57:29.614435Z",
     "shell.execute_reply.started": "2024-06-24T19:57:29.602429Z"
    }
   },
   "outputs": [
    {
     "data": {
      "text/plain": [
       "array([[1, 2, 3],\n",
       "       [4, 5, 6],\n",
       "       [7, 8, 9]])"
      ]
     },
     "execution_count": 7,
     "metadata": {},
     "output_type": "execute_result"
    }
   ],
   "source": [
    "arr2d = np.array([[1, 2, 3],[4, 5, 6],[7, 8, 9]])\n",
    "arr2d"
   ]
  },
  {
   "cell_type": "code",
   "execution_count": 8,
   "id": "e9cf6068-0170-4b2d-ac3c-a0d5d5a3510f",
   "metadata": {
    "execution": {
     "iopub.execute_input": "2024-06-24T19:57:29.619488Z",
     "iopub.status.busy": "2024-06-24T19:57:29.618432Z",
     "iopub.status.idle": "2024-06-24T19:57:29.632443Z",
     "shell.execute_reply": "2024-06-24T19:57:29.630467Z",
     "shell.execute_reply.started": "2024-06-24T19:57:29.619488Z"
    }
   },
   "outputs": [
    {
     "data": {
      "text/plain": [
       "3"
      ]
     },
     "execution_count": 8,
     "metadata": {},
     "output_type": "execute_result"
    }
   ],
   "source": [
    "len(arr2d)"
   ]
  },
  {
   "cell_type": "code",
   "execution_count": 9,
   "id": "a134636d-e0dc-4ab4-b437-27ef00ee18ef",
   "metadata": {
    "execution": {
     "iopub.execute_input": "2024-06-24T19:57:29.639425Z",
     "iopub.status.busy": "2024-06-24T19:57:29.638442Z",
     "iopub.status.idle": "2024-06-24T19:57:29.664432Z",
     "shell.execute_reply": "2024-06-24T19:57:29.662433Z",
     "shell.execute_reply.started": "2024-06-24T19:57:29.639425Z"
    }
   },
   "outputs": [
    {
     "data": {
      "text/plain": [
       "array([1, 2, 3])"
      ]
     },
     "execution_count": 9,
     "metadata": {},
     "output_type": "execute_result"
    }
   ],
   "source": [
    "arr2d[0]"
   ]
  },
  {
   "cell_type": "code",
   "execution_count": 10,
   "id": "71c64056-877e-4e54-b278-d7867fa2d4fc",
   "metadata": {
    "execution": {
     "iopub.execute_input": "2024-06-24T19:57:29.666431Z",
     "iopub.status.busy": "2024-06-24T19:57:29.666431Z",
     "iopub.status.idle": "2024-06-24T19:57:29.681431Z",
     "shell.execute_reply": "2024-06-24T19:57:29.678430Z",
     "shell.execute_reply.started": "2024-06-24T19:57:29.666431Z"
    }
   },
   "outputs": [
    {
     "data": {
      "text/plain": [
       "1"
      ]
     },
     "execution_count": 10,
     "metadata": {},
     "output_type": "execute_result"
    }
   ],
   "source": [
    "arr2d[0][0]"
   ]
  },
  {
   "cell_type": "code",
   "execution_count": 11,
   "id": "d67a29ce-6a9a-4a73-a68c-54529780309e",
   "metadata": {
    "execution": {
     "iopub.execute_input": "2024-06-24T19:57:29.683430Z",
     "iopub.status.busy": "2024-06-24T19:57:29.682449Z",
     "iopub.status.idle": "2024-06-24T19:57:29.695432Z",
     "shell.execute_reply": "2024-06-24T19:57:29.693428Z",
     "shell.execute_reply.started": "2024-06-24T19:57:29.683430Z"
    }
   },
   "outputs": [
    {
     "data": {
      "text/plain": [
       "1"
      ]
     },
     "execution_count": 11,
     "metadata": {},
     "output_type": "execute_result"
    }
   ],
   "source": [
    "arr2d[0, 0]"
   ]
  },
  {
   "cell_type": "code",
   "execution_count": 12,
   "id": "6abce180-2c47-448a-9c11-6f430ee25a7a",
   "metadata": {
    "execution": {
     "iopub.execute_input": "2024-06-24T19:57:29.698436Z",
     "iopub.status.busy": "2024-06-24T19:57:29.697430Z",
     "iopub.status.idle": "2024-06-24T19:57:29.711429Z",
     "shell.execute_reply": "2024-06-24T19:57:29.709428Z",
     "shell.execute_reply.started": "2024-06-24T19:57:29.698436Z"
    }
   },
   "outputs": [
    {
     "data": {
      "text/plain": [
       "array([[2, 3],\n",
       "       [5, 6]])"
      ]
     },
     "execution_count": 12,
     "metadata": {},
     "output_type": "execute_result"
    }
   ],
   "source": [
    "arr2d[0:2, 1:3]"
   ]
  },
  {
   "cell_type": "code",
   "execution_count": 13,
   "id": "b8e58c34-fe30-4bc2-b977-4d2e8d3ab1f1",
   "metadata": {
    "execution": {
     "iopub.execute_input": "2024-06-24T19:57:29.715427Z",
     "iopub.status.busy": "2024-06-24T19:57:29.714432Z",
     "iopub.status.idle": "2024-06-24T19:57:29.725425Z",
     "shell.execute_reply": "2024-06-24T19:57:29.724425Z",
     "shell.execute_reply.started": "2024-06-24T19:57:29.715427Z"
    }
   },
   "outputs": [
    {
     "data": {
      "text/plain": [
       "array([[2, 3],\n",
       "       [5, 6],\n",
       "       [8, 9]])"
      ]
     },
     "execution_count": 13,
     "metadata": {},
     "output_type": "execute_result"
    }
   ],
   "source": [
    "x = arr2d[:, 1:3]\n",
    "x"
   ]
  },
  {
   "cell_type": "code",
   "execution_count": 14,
   "id": "b276fe3c-ef6b-47f2-8892-58ddb7c9555d",
   "metadata": {
    "execution": {
     "iopub.execute_input": "2024-06-24T19:57:29.727426Z",
     "iopub.status.busy": "2024-06-24T19:57:29.726425Z",
     "iopub.status.idle": "2024-06-24T19:57:29.740427Z",
     "shell.execute_reply": "2024-06-24T19:57:29.739429Z",
     "shell.execute_reply.started": "2024-06-24T19:57:29.727426Z"
    }
   },
   "outputs": [
    {
     "data": {
      "text/plain": [
       "(3, 3)"
      ]
     },
     "execution_count": 14,
     "metadata": {},
     "output_type": "execute_result"
    }
   ],
   "source": [
    "arr2d.shape"
   ]
  },
  {
   "cell_type": "code",
   "execution_count": 15,
   "id": "87ed14d7-20b1-4a80-a433-e0f6c939afb6",
   "metadata": {
    "execution": {
     "iopub.execute_input": "2024-06-24T19:57:29.745428Z",
     "iopub.status.busy": "2024-06-24T19:57:29.743429Z",
     "iopub.status.idle": "2024-06-24T19:57:29.756431Z",
     "shell.execute_reply": "2024-06-24T19:57:29.755427Z",
     "shell.execute_reply.started": "2024-06-24T19:57:29.745428Z"
    }
   },
   "outputs": [
    {
     "data": {
      "text/plain": [
       "(3, 2)"
      ]
     },
     "execution_count": 15,
     "metadata": {},
     "output_type": "execute_result"
    }
   ],
   "source": [
    "x.shape"
   ]
  },
  {
   "cell_type": "markdown",
   "id": "557bca15-bc96-44d5-b213-8682c79dc10f",
   "metadata": {},
   "source": [
    "## 3D"
   ]
  },
  {
   "cell_type": "code",
   "execution_count": 16,
   "id": "ca2de49c-bd1a-4561-bd5c-45dac002b806",
   "metadata": {
    "execution": {
     "iopub.execute_input": "2024-06-24T19:57:29.758428Z",
     "iopub.status.busy": "2024-06-24T19:57:29.757426Z",
     "iopub.status.idle": "2024-06-24T19:57:29.771432Z",
     "shell.execute_reply": "2024-06-24T19:57:29.770429Z",
     "shell.execute_reply.started": "2024-06-24T19:57:29.758428Z"
    }
   },
   "outputs": [
    {
     "data": {
      "text/plain": [
       "array([[[ 1,  2,  3],\n",
       "        [ 4,  5,  6],\n",
       "        [ 7,  8,  9]],\n",
       "\n",
       "       [[10, 11, 12],\n",
       "        [13, 14, 15],\n",
       "        [16, 17, 18]],\n",
       "\n",
       "       [[19, 20, 21],\n",
       "        [22, 23, 24],\n",
       "        [25, 26, 27]]])"
      ]
     },
     "execution_count": 16,
     "metadata": {},
     "output_type": "execute_result"
    }
   ],
   "source": [
    "arr = np.array([\n",
    "                [[1, 2, 3],[4, 5, 6],[7, 8, 9]],\n",
    "                [[10, 11, 12],[13, 14, 15],[16, 17, 18]],\n",
    "                [[19, 20, 21],[22, 23, 24],[25, 26, 27]]\n",
    "               ])\n",
    "arr"
   ]
  },
  {
   "cell_type": "code",
   "execution_count": 17,
   "id": "a6e7af21-5aeb-470b-a411-536f14a3e30f",
   "metadata": {
    "execution": {
     "iopub.execute_input": "2024-06-24T19:57:29.773425Z",
     "iopub.status.busy": "2024-06-24T19:57:29.772428Z",
     "iopub.status.idle": "2024-06-24T19:57:29.787429Z",
     "shell.execute_reply": "2024-06-24T19:57:29.786430Z",
     "shell.execute_reply.started": "2024-06-24T19:57:29.773425Z"
    }
   },
   "outputs": [
    {
     "data": {
      "text/plain": [
       "(3, 3, 3)"
      ]
     },
     "execution_count": 17,
     "metadata": {},
     "output_type": "execute_result"
    }
   ],
   "source": [
    "arr.shape"
   ]
  },
  {
   "cell_type": "code",
   "execution_count": 18,
   "id": "5b624139-1426-43db-b8bf-a0e2849995d1",
   "metadata": {
    "execution": {
     "iopub.execute_input": "2024-06-24T19:57:29.789441Z",
     "iopub.status.busy": "2024-06-24T19:57:29.789441Z",
     "iopub.status.idle": "2024-06-24T19:57:29.803427Z",
     "shell.execute_reply": "2024-06-24T19:57:29.802428Z",
     "shell.execute_reply.started": "2024-06-24T19:57:29.789441Z"
    }
   },
   "outputs": [
    {
     "data": {
      "text/plain": [
       "27"
      ]
     },
     "execution_count": 18,
     "metadata": {},
     "output_type": "execute_result"
    }
   ],
   "source": [
    "arr.size"
   ]
  },
  {
   "cell_type": "code",
   "execution_count": 19,
   "id": "31034ea1-8758-42c1-856f-94bbcc2e7b9e",
   "metadata": {
    "execution": {
     "iopub.execute_input": "2024-06-24T19:57:29.805428Z",
     "iopub.status.busy": "2024-06-24T19:57:29.805428Z",
     "iopub.status.idle": "2024-06-24T19:57:29.819430Z",
     "shell.execute_reply": "2024-06-24T19:57:29.818425Z",
     "shell.execute_reply.started": "2024-06-24T19:57:29.805428Z"
    }
   },
   "outputs": [
    {
     "data": {
      "text/plain": [
       "array([[14, 15],\n",
       "       [17, 18]])"
      ]
     },
     "execution_count": 19,
     "metadata": {},
     "output_type": "execute_result"
    }
   ],
   "source": [
    "arr[1, 1:, 1:]"
   ]
  },
  {
   "cell_type": "code",
   "execution_count": 20,
   "id": "a25c56f8-2c20-4a80-a071-3afbe5ab04bc",
   "metadata": {
    "execution": {
     "iopub.execute_input": "2024-06-24T19:57:29.821429Z",
     "iopub.status.busy": "2024-06-24T19:57:29.820426Z",
     "iopub.status.idle": "2024-06-24T19:57:29.835427Z",
     "shell.execute_reply": "2024-06-24T19:57:29.834426Z",
     "shell.execute_reply.started": "2024-06-24T19:57:29.821429Z"
    }
   },
   "outputs": [
    {
     "data": {
      "text/plain": [
       "array([[[ 5,  6],\n",
       "        [ 8,  9]],\n",
       "\n",
       "       [[23, 24],\n",
       "        [26, 27]]])"
      ]
     },
     "execution_count": 20,
     "metadata": {},
     "output_type": "execute_result"
    }
   ],
   "source": [
    "arr[::2, 1:, 1:]"
   ]
  },
  {
   "cell_type": "code",
   "execution_count": 21,
   "id": "78b9d44c-cbc1-48d3-a37d-d86075d88cea",
   "metadata": {
    "execution": {
     "iopub.execute_input": "2024-06-24T19:57:29.836429Z",
     "iopub.status.busy": "2024-06-24T19:57:29.836429Z",
     "iopub.status.idle": "2024-06-24T19:57:29.851430Z",
     "shell.execute_reply": "2024-06-24T19:57:29.850427Z",
     "shell.execute_reply.started": "2024-06-24T19:57:29.836429Z"
    }
   },
   "outputs": [
    {
     "data": {
      "text/plain": [
       "array([ 1,  2,  3,  4,  5,  6,  7,  8,  9, 10, 11, 12, 13, 14, 15, 16, 17,\n",
       "       18, 19, 20, 21, 22, 23, 24, 25, 26, 27])"
      ]
     },
     "execution_count": 21,
     "metadata": {},
     "output_type": "execute_result"
    }
   ],
   "source": [
    "arr.reshape((27,))"
   ]
  },
  {
   "cell_type": "code",
   "execution_count": 22,
   "id": "f6b86d9a-46b3-4630-b149-bb98f57b55b9",
   "metadata": {
    "execution": {
     "iopub.execute_input": "2024-06-24T19:57:29.852430Z",
     "iopub.status.busy": "2024-06-24T19:57:29.852430Z",
     "iopub.status.idle": "2024-06-24T19:57:29.867427Z",
     "shell.execute_reply": "2024-06-24T19:57:29.866429Z",
     "shell.execute_reply.started": "2024-06-24T19:57:29.852430Z"
    }
   },
   "outputs": [
    {
     "data": {
      "text/plain": [
       "array([[ 1,  2,  3,  4,  5,  6,  7,  8,  9],\n",
       "       [10, 11, 12, 13, 14, 15, 16, 17, 18],\n",
       "       [19, 20, 21, 22, 23, 24, 25, 26, 27]])"
      ]
     },
     "execution_count": 22,
     "metadata": {},
     "output_type": "execute_result"
    }
   ],
   "source": [
    "arr.reshape((3,9))"
   ]
  },
  {
   "cell_type": "code",
   "execution_count": 23,
   "id": "5ca69c04-2ade-45d0-94af-0d5ad546bbc2",
   "metadata": {
    "execution": {
     "iopub.execute_input": "2024-06-24T19:57:29.869428Z",
     "iopub.status.busy": "2024-06-24T19:57:29.868429Z",
     "iopub.status.idle": "2024-06-24T19:57:29.883432Z",
     "shell.execute_reply": "2024-06-24T19:57:29.882424Z",
     "shell.execute_reply.started": "2024-06-24T19:57:29.869428Z"
    }
   },
   "outputs": [
    {
     "data": {
      "text/plain": [
       "array([[ 1,  2,  3],\n",
       "       [ 4,  5,  6],\n",
       "       [ 7,  8,  9],\n",
       "       [10, 11, 12],\n",
       "       [13, 14, 15],\n",
       "       [16, 17, 18],\n",
       "       [19, 20, 21],\n",
       "       [22, 23, 24],\n",
       "       [25, 26, 27]])"
      ]
     },
     "execution_count": 23,
     "metadata": {},
     "output_type": "execute_result"
    }
   ],
   "source": [
    "arr.reshape((9,3))"
   ]
  },
  {
   "cell_type": "code",
   "execution_count": 24,
   "id": "e804d54d-93fc-4666-8eb0-c96ae773bbbc",
   "metadata": {
    "execution": {
     "iopub.execute_input": "2024-06-24T19:57:29.884430Z",
     "iopub.status.busy": "2024-06-24T19:57:29.884430Z",
     "iopub.status.idle": "2024-06-24T19:57:30.642443Z",
     "shell.execute_reply": "2024-06-24T19:57:30.640423Z",
     "shell.execute_reply.started": "2024-06-24T19:57:29.884430Z"
    }
   },
   "outputs": [
    {
     "ename": "ValueError",
     "evalue": "cannot reshape array of size 27 into shape (3,10)",
     "output_type": "error",
     "traceback": [
      "\u001b[1;31m---------------------------------------------------------------------------\u001b[0m",
      "\u001b[1;31mValueError\u001b[0m                                Traceback (most recent call last)",
      "Cell \u001b[1;32mIn[24], line 1\u001b[0m\n\u001b[1;32m----> 1\u001b[0m \u001b[43marr\u001b[49m\u001b[38;5;241;43m.\u001b[39;49m\u001b[43mreshape\u001b[49m\u001b[43m(\u001b[49m\u001b[43m(\u001b[49m\u001b[38;5;241;43m3\u001b[39;49m\u001b[43m,\u001b[49m\u001b[38;5;241;43m10\u001b[39;49m\u001b[43m)\u001b[49m\u001b[43m)\u001b[49m\n",
      "\u001b[1;31mValueError\u001b[0m: cannot reshape array of size 27 into shape (3,10)"
     ]
    }
   ],
   "source": [
    "arr.reshape((3,10))"
   ]
  },
  {
   "cell_type": "code",
   "execution_count": 25,
   "id": "5bf25070-8314-4937-8bec-77e905dc5e84",
   "metadata": {
    "execution": {
     "iopub.execute_input": "2024-06-24T19:57:34.294460Z",
     "iopub.status.busy": "2024-06-24T19:57:34.293459Z",
     "iopub.status.idle": "2024-06-24T19:57:34.309389Z",
     "shell.execute_reply": "2024-06-24T19:57:34.307383Z",
     "shell.execute_reply.started": "2024-06-24T19:57:34.294460Z"
    }
   },
   "outputs": [
    {
     "name": "stdout",
     "output_type": "stream",
     "text": [
      "[[1 2 3]\n",
      " [4 5 6]\n",
      " [7 8 9]]\n",
      "---\n",
      "[1 2 3]\n",
      "====\n",
      "1\n",
      "****\n",
      "2\n",
      "****\n",
      "3\n",
      "****\n",
      "[4 5 6]\n",
      "====\n",
      "4\n",
      "****\n",
      "5\n",
      "****\n",
      "6\n",
      "****\n",
      "[7 8 9]\n",
      "====\n",
      "7\n",
      "****\n",
      "8\n",
      "****\n",
      "9\n",
      "****\n",
      "[[10 11 12]\n",
      " [13 14 15]\n",
      " [16 17 18]]\n",
      "---\n",
      "[10 11 12]\n",
      "====\n",
      "10\n",
      "****\n",
      "11\n",
      "****\n",
      "12\n",
      "****\n",
      "[13 14 15]\n",
      "====\n",
      "13\n",
      "****\n",
      "14\n",
      "****\n",
      "15\n",
      "****\n",
      "[16 17 18]\n",
      "====\n",
      "16\n",
      "****\n",
      "17\n",
      "****\n",
      "18\n",
      "****\n",
      "[[19 20 21]\n",
      " [22 23 24]\n",
      " [25 26 27]]\n",
      "---\n",
      "[19 20 21]\n",
      "====\n",
      "19\n",
      "****\n",
      "20\n",
      "****\n",
      "21\n",
      "****\n",
      "[22 23 24]\n",
      "====\n",
      "22\n",
      "****\n",
      "23\n",
      "****\n",
      "24\n",
      "****\n",
      "[25 26 27]\n",
      "====\n",
      "25\n",
      "****\n",
      "26\n",
      "****\n",
      "27\n",
      "****\n"
     ]
    }
   ],
   "source": [
    "for x in arr:\n",
    "    print(x)\n",
    "    print(\"---\")\n",
    "    for y in x:\n",
    "        print(y)\n",
    "        print(\"====\")\n",
    "        for z in y:\n",
    "            print(z)\n",
    "            print(\"****\")"
   ]
  },
  {
   "cell_type": "markdown",
   "id": "5a775fe4-dd8a-43f6-9442-ba95117431f9",
   "metadata": {},
   "source": [
    "## View vs Copy"
   ]
  },
  {
   "cell_type": "code",
   "execution_count": 26,
   "id": "2b4ff91a-2807-4e53-b240-1349fa2e6725",
   "metadata": {
    "execution": {
     "iopub.execute_input": "2024-06-24T19:57:35.446536Z",
     "iopub.status.busy": "2024-06-24T19:57:35.445512Z",
     "iopub.status.idle": "2024-06-24T19:57:35.467445Z",
     "shell.execute_reply": "2024-06-24T19:57:35.465484Z",
     "shell.execute_reply.started": "2024-06-24T19:57:35.446536Z"
    }
   },
   "outputs": [
    {
     "data": {
      "text/plain": [
       "array([[9, 8, 7, 6],\n",
       "       [5, 4, 3, 2]])"
      ]
     },
     "execution_count": 26,
     "metadata": {},
     "output_type": "execute_result"
    }
   ],
   "source": [
    "arr2d = np.array([[9, 8, 7, 6], [5, 4, 3, 2]])\n",
    "arr2d"
   ]
  },
  {
   "cell_type": "code",
   "execution_count": 27,
   "id": "0c1f829f-1131-49e4-a9e3-1a9b748835fc",
   "metadata": {
    "execution": {
     "iopub.execute_input": "2024-06-24T19:57:35.661451Z",
     "iopub.status.busy": "2024-06-24T19:57:35.661451Z",
     "iopub.status.idle": "2024-06-24T19:57:35.686455Z",
     "shell.execute_reply": "2024-06-24T19:57:35.685447Z",
     "shell.execute_reply.started": "2024-06-24T19:57:35.661451Z"
    }
   },
   "outputs": [
    {
     "name": "stdout",
     "output_type": "stream",
     "text": [
      "y:\n",
      "[[8 7]\n",
      " [4 3]]\n",
      "\n",
      "z:\n",
      "[[8 7]\n",
      " [4 3]]\n"
     ]
    }
   ],
   "source": [
    "y = arr2d[:, 1:3].view() # Default\n",
    "z = arr2d[:, 1:3].copy()\n",
    "print(\"y:\")\n",
    "print(y)\n",
    "\n",
    "print(\"\")\n",
    "print(\"z:\")\n",
    "print(z)"
   ]
  },
  {
   "cell_type": "code",
   "execution_count": 28,
   "id": "9423c68e-4e11-4118-9fbd-ea02e3c88f2b",
   "metadata": {
    "execution": {
     "iopub.execute_input": "2024-06-24T19:57:35.867541Z",
     "iopub.status.busy": "2024-06-24T19:57:35.866543Z",
     "iopub.status.idle": "2024-06-24T19:57:35.891550Z",
     "shell.execute_reply": "2024-06-24T19:57:35.888540Z",
     "shell.execute_reply.started": "2024-06-24T19:57:35.867541Z"
    }
   },
   "outputs": [
    {
     "data": {
      "text/plain": [
       "array([[ 9, 10,  7,  6],\n",
       "       [ 5,  4,  3,  2]])"
      ]
     },
     "execution_count": 28,
     "metadata": {},
     "output_type": "execute_result"
    }
   ],
   "source": [
    "arr2d[0, 1] = 10\n",
    "arr2d"
   ]
  },
  {
   "cell_type": "code",
   "execution_count": 29,
   "id": "766f277e-eeb1-4cca-a4c3-331ae58bcad2",
   "metadata": {
    "execution": {
     "iopub.execute_input": "2024-06-24T19:57:36.062420Z",
     "iopub.status.busy": "2024-06-24T19:57:36.062420Z",
     "iopub.status.idle": "2024-06-24T19:57:36.079397Z",
     "shell.execute_reply": "2024-06-24T19:57:36.077385Z",
     "shell.execute_reply.started": "2024-06-24T19:57:36.062420Z"
    }
   },
   "outputs": [
    {
     "data": {
      "text/plain": [
       "array([[10,  7],\n",
       "       [ 4,  3]])"
      ]
     },
     "execution_count": 29,
     "metadata": {},
     "output_type": "execute_result"
    }
   ],
   "source": [
    "y"
   ]
  },
  {
   "cell_type": "code",
   "execution_count": 30,
   "id": "48dcae0f-f915-4162-b04f-4481930917ce",
   "metadata": {
    "execution": {
     "iopub.execute_input": "2024-06-24T19:57:36.251966Z",
     "iopub.status.busy": "2024-06-24T19:57:36.251966Z",
     "iopub.status.idle": "2024-06-24T19:57:36.267967Z",
     "shell.execute_reply": "2024-06-24T19:57:36.266966Z",
     "shell.execute_reply.started": "2024-06-24T19:57:36.251966Z"
    }
   },
   "outputs": [
    {
     "data": {
      "text/plain": [
       "array([[8, 7],\n",
       "       [4, 3]])"
      ]
     },
     "execution_count": 30,
     "metadata": {},
     "output_type": "execute_result"
    }
   ],
   "source": [
    "z"
   ]
  },
  {
   "cell_type": "markdown",
   "id": "8dafe36d-2d93-447d-bb5b-9b61f00ae091",
   "metadata": {},
   "source": [
    "### Deep Copy"
   ]
  },
  {
   "cell_type": "code",
   "execution_count": 1,
   "id": "79d831e1-f955-4252-8ff9-1473d98759f2",
   "metadata": {},
   "outputs": [
    {
     "data": {
      "text/plain": [
       "[1, 2, [3, 4], 5]"
      ]
     },
     "execution_count": 1,
     "metadata": {},
     "output_type": "execute_result"
    }
   ],
   "source": [
    "import copy\n",
    "\n",
    "lst_1 = [1, 2, [3, 4], 5]\n",
    "lst_2 = copy.deepcopy(lst_1)\n",
    "lst_2"
   ]
  },
  {
   "cell_type": "code",
   "execution_count": 2,
   "id": "a116aa24-9c36-41f2-a140-9adc53ef44c4",
   "metadata": {},
   "outputs": [
    {
     "data": {
      "text/plain": [
       "[1, 15, [10, 4], 5]"
      ]
     },
     "execution_count": 2,
     "metadata": {},
     "output_type": "execute_result"
    }
   ],
   "source": [
    "lst_1[2][0] = 10\n",
    "lst_1[1] = 15\n",
    "lst_1"
   ]
  },
  {
   "cell_type": "code",
   "execution_count": 3,
   "id": "aacf1ddf-b610-49c2-aef5-c78a79449f5a",
   "metadata": {},
   "outputs": [
    {
     "data": {
      "text/plain": [
       "[1, 2, [3, 4], 5]"
      ]
     },
     "execution_count": 3,
     "metadata": {},
     "output_type": "execute_result"
    }
   ],
   "source": [
    "lst_2"
   ]
  },
  {
   "cell_type": "markdown",
   "id": "e06f2131-1e54-4236-88e1-240df695a306",
   "metadata": {},
   "source": [
    "## Iterating in Numpy"
   ]
  },
  {
   "cell_type": "code",
   "execution_count": 31,
   "id": "ea4840fe-7593-4b88-a871-74d14f0b8049",
   "metadata": {
    "execution": {
     "iopub.execute_input": "2024-06-24T19:57:36.604933Z",
     "iopub.status.busy": "2024-06-24T19:57:36.604933Z",
     "iopub.status.idle": "2024-06-24T19:57:36.614186Z",
     "shell.execute_reply": "2024-06-24T19:57:36.612089Z",
     "shell.execute_reply.started": "2024-06-24T19:57:36.604933Z"
    }
   },
   "outputs": [],
   "source": [
    "arr = np.array([[9, 8, 7, 6], [5, 4, 3, 2]])"
   ]
  },
  {
   "cell_type": "code",
   "execution_count": 32,
   "id": "9ed50054-c3f3-408b-8e1a-c46ca7735f1a",
   "metadata": {
    "execution": {
     "iopub.execute_input": "2024-06-24T19:57:36.773639Z",
     "iopub.status.busy": "2024-06-24T19:57:36.773639Z",
     "iopub.status.idle": "2024-06-24T19:57:36.786626Z",
     "shell.execute_reply": "2024-06-24T19:57:36.784638Z",
     "shell.execute_reply.started": "2024-06-24T19:57:36.773639Z"
    }
   },
   "outputs": [
    {
     "name": "stdout",
     "output_type": "stream",
     "text": [
      "9\n",
      "8\n",
      "7\n",
      "6\n",
      "5\n",
      "4\n",
      "3\n",
      "2\n"
     ]
    }
   ],
   "source": [
    "for x in arr:\n",
    "    for y in x:\n",
    "        print(y)"
   ]
  },
  {
   "cell_type": "code",
   "execution_count": 33,
   "id": "02a8ec43-5395-4c13-aa1d-9be095dba830",
   "metadata": {
    "execution": {
     "iopub.execute_input": "2024-06-24T19:57:36.986078Z",
     "iopub.status.busy": "2024-06-24T19:57:36.985069Z",
     "iopub.status.idle": "2024-06-24T19:57:37.006073Z",
     "shell.execute_reply": "2024-06-24T19:57:37.004074Z",
     "shell.execute_reply.started": "2024-06-24T19:57:36.986078Z"
    }
   },
   "outputs": [
    {
     "data": {
      "text/plain": [
       "array([[[ 9,  8,  7,  6],\n",
       "        [ 5,  4,  3,  2]],\n",
       "\n",
       "       [[10, 11, 12, 13],\n",
       "        [14, 15, 16, 17]]])"
      ]
     },
     "execution_count": 33,
     "metadata": {},
     "output_type": "execute_result"
    }
   ],
   "source": [
    "arr = np.array([[[9, 8, 7, 6], [5, 4, 3, 2]], [[10, 11, 12, 13], [14, 15, 16, 17]]])\n",
    "arr"
   ]
  },
  {
   "cell_type": "code",
   "execution_count": 34,
   "id": "7f339a0c-66bf-455b-a6a2-4e7e32ba6f70",
   "metadata": {
    "execution": {
     "iopub.execute_input": "2024-06-24T19:57:37.186919Z",
     "iopub.status.busy": "2024-06-24T19:57:37.186919Z",
     "iopub.status.idle": "2024-06-24T19:57:37.208870Z",
     "shell.execute_reply": "2024-06-24T19:57:37.206903Z",
     "shell.execute_reply.started": "2024-06-24T19:57:37.186919Z"
    }
   },
   "outputs": [
    {
     "data": {
      "text/plain": [
       "(2, 2, 4)"
      ]
     },
     "execution_count": 34,
     "metadata": {},
     "output_type": "execute_result"
    }
   ],
   "source": [
    "arr.shape"
   ]
  },
  {
   "cell_type": "code",
   "execution_count": 35,
   "id": "c873fd06-2c47-4709-b513-31624f3e4144",
   "metadata": {
    "execution": {
     "iopub.execute_input": "2024-06-24T19:57:37.683843Z",
     "iopub.status.busy": "2024-06-24T19:57:37.680895Z",
     "iopub.status.idle": "2024-06-24T19:57:37.709823Z",
     "shell.execute_reply": "2024-06-24T19:57:37.708817Z",
     "shell.execute_reply.started": "2024-06-24T19:57:37.683843Z"
    }
   },
   "outputs": [
    {
     "name": "stdout",
     "output_type": "stream",
     "text": [
      "9\n",
      "8\n",
      "7\n",
      "6\n",
      "5\n",
      "4\n",
      "3\n",
      "2\n",
      "10\n",
      "11\n",
      "12\n",
      "13\n",
      "14\n",
      "15\n",
      "16\n",
      "17\n"
     ]
    }
   ],
   "source": [
    "for x in arr:\n",
    "    for y in x:\n",
    "        for z in y:\n",
    "            print(z)"
   ]
  }
 ],
 "metadata": {
  "kernelspec": {
   "display_name": "Python 3 (ipykernel)",
   "language": "python",
   "name": "python3"
  },
  "language_info": {
   "codemirror_mode": {
    "name": "ipython",
    "version": 3
   },
   "file_extension": ".py",
   "mimetype": "text/x-python",
   "name": "python",
   "nbconvert_exporter": "python",
   "pygments_lexer": "ipython3",
   "version": "3.10.13"
  }
 },
 "nbformat": 4,
 "nbformat_minor": 5
}
