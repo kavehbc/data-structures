{
 "cells": [
  {
   "cell_type": "markdown",
   "id": "ee4ddc6c-fad2-40b7-bcd2-51ce936842d4",
   "metadata": {},
   "source": [
    "# Recursive Functions"
   ]
  },
  {
   "cell_type": "code",
   "execution_count": 1,
   "id": "7760666b-d65a-4db9-b72c-93ba202391e5",
   "metadata": {},
   "outputs": [],
   "source": [
    "import time"
   ]
  },
  {
   "cell_type": "markdown",
   "id": "d36143e8-fb68-4449-bb1e-03ad761c67e4",
   "metadata": {},
   "source": [
    "Developing a function to calculate factorial without using recursive functions\n",
    "\n",
    "n! = n * (n-1) * (n-2) * ... * 1\n",
    "\n",
    "For example:\n",
    "\n",
    "5! = 5 * 4 * 3 * 2 * 1"
   ]
  },
  {
   "cell_type": "code",
   "execution_count": 2,
   "id": "ba41b401-300a-4419-abea-ef002fe7dd98",
   "metadata": {},
   "outputs": [],
   "source": [
    "def factorial1(n):\n",
    "    result = 1\n",
    "    for i in range(1, n+1):\n",
    "        result *= i\n",
    "    return result"
   ]
  },
  {
   "cell_type": "code",
   "execution_count": 3,
   "id": "f2a2b393-bbc3-4881-8dd5-5eca10a04579",
   "metadata": {},
   "outputs": [
    {
     "name": "stdout",
     "output_type": "stream",
     "text": [
      "Processing time: 0.0022253990173339844 seconds.\n"
     ]
    }
   ],
   "source": [
    "t1 = time.time()\n",
    "\n",
    "factorial1(1000)\n",
    "\n",
    "t2 = time.time()\n",
    "print(f\"Processing time: {t2 - t1} seconds.\")"
   ]
  },
  {
   "cell_type": "markdown",
   "id": "8f3a0f12-3b59-46b4-a8e2-823144084ff9",
   "metadata": {},
   "source": [
    "Now, using a recursive function"
   ]
  },
  {
   "cell_type": "code",
   "execution_count": 4,
   "id": "f1caaf32-72fa-42eb-ada1-598c2e94702c",
   "metadata": {},
   "outputs": [],
   "source": [
    "def factorial2(n):\n",
    "    if n == 1:\n",
    "        return 1\n",
    "    else:\n",
    "        return n * factorial2(n-1)"
   ]
  },
  {
   "cell_type": "code",
   "execution_count": 5,
   "id": "c0400edb-da55-47e9-a642-f3dbe16fe489",
   "metadata": {},
   "outputs": [
    {
     "name": "stdout",
     "output_type": "stream",
     "text": [
      "Processing time: 0.004990100860595703 seconds.\n"
     ]
    }
   ],
   "source": [
    "t1 = time.time()\n",
    "\n",
    "factorial2(1000)\n",
    "\n",
    "t2 = time.time()\n",
    "print(f\"Processing time: {t2 - t1} seconds.\")"
   ]
  },
  {
   "cell_type": "code",
   "execution_count": null,
   "id": "70753d15-faa5-40d2-81c0-a3644b3a3dc9",
   "metadata": {},
   "outputs": [],
   "source": []
  }
 ],
 "metadata": {
  "kernelspec": {
   "display_name": "Python 3 (ipykernel)",
   "language": "python",
   "name": "python3"
  },
  "language_info": {
   "codemirror_mode": {
    "name": "ipython",
    "version": 3
   },
   "file_extension": ".py",
   "mimetype": "text/x-python",
   "name": "python",
   "nbconvert_exporter": "python",
   "pygments_lexer": "ipython3",
   "version": "3.10.13"
  }
 },
 "nbformat": 4,
 "nbformat_minor": 5
}
