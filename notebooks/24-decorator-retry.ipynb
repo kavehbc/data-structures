{
 "cells": [
  {
   "cell_type": "markdown",
   "id": "18b94b88-152d-4334-9cc3-7f46dfbf7414",
   "metadata": {},
   "source": [
    "# decorator / Retry"
   ]
  },
  {
   "cell_type": "code",
   "execution_count": 7,
   "id": "e3b1cdf4-edbd-4ce1-b085-c1edabeeee80",
   "metadata": {
    "execution": {
     "iopub.execute_input": "2024-07-08T15:23:43.135360Z",
     "iopub.status.busy": "2024-07-08T15:23:43.134324Z",
     "iopub.status.idle": "2024-07-08T15:23:43.151928Z",
     "shell.execute_reply": "2024-07-08T15:23:43.149795Z",
     "shell.execute_reply.started": "2024-07-08T15:23:43.134324Z"
    }
   },
   "outputs": [],
   "source": [
    "import time\n",
    "\n",
    "def retry(n=3, delay=1):\n",
    "    def decorator(func):\n",
    "        def wrapper(*args, **kwargs):\n",
    "            for i in range(n):\n",
    "                try:\n",
    "                    return func(*args, **kwargs)\n",
    "                except:\n",
    "                    print(f\"Attempt #{i} Failed\")\n",
    "                    time.sleep(i)\n",
    "        return wrapper\n",
    "    return decorator"
   ]
  },
  {
   "cell_type": "code",
   "execution_count": 8,
   "id": "7e06953a-14c7-4e71-b781-c6b16ccafaff",
   "metadata": {
    "execution": {
     "iopub.execute_input": "2024-07-08T15:23:45.240487Z",
     "iopub.status.busy": "2024-07-08T15:23:45.239386Z",
     "iopub.status.idle": "2024-07-08T15:23:48.300729Z",
     "shell.execute_reply": "2024-07-08T15:23:48.299168Z",
     "shell.execute_reply.started": "2024-07-08T15:23:45.240487Z"
    }
   },
   "outputs": [
    {
     "name": "stdout",
     "output_type": "stream",
     "text": [
      "Attempt #0 Failed\n",
      "Attempt #1 Failed\n",
      "Attempt #2 Failed\n"
     ]
    }
   ],
   "source": [
    "@retry(n=3)\n",
    "def fetch_data():\n",
    "    return 1/0\n",
    "\n",
    "fetch_data()"
   ]
  }
 ],
 "metadata": {
  "kernelspec": {
   "display_name": "Python 3 (ipykernel)",
   "language": "python",
   "name": "python3"
  },
  "language_info": {
   "codemirror_mode": {
    "name": "ipython",
    "version": 3
   },
   "file_extension": ".py",
   "mimetype": "text/x-python",
   "name": "python",
   "nbconvert_exporter": "python",
   "pygments_lexer": "ipython3",
   "version": "3.10.13"
  }
 },
 "nbformat": 4,
 "nbformat_minor": 5
}
