{
 "cells": [
  {
   "cell_type": "markdown",
   "id": "d2588fdf-9648-404a-8ab3-52f9325b0da9",
   "metadata": {},
   "source": [
    "# Password Manager"
   ]
  },
  {
   "cell_type": "markdown",
   "id": "4a154a37-9e27-4e7b-9d23-0d14ae6b2aa0",
   "metadata": {},
   "source": [
    "Developing a password manager with the followings:\n",
    "\n",
    "- Use Classes\n",
    "- Store data into a JSON file\n",
    "- Load data from a JSON file\n",
    "\n",
    "Each Jupyter Notebook cell represents a specific functionality, such as:\n",
    "\n",
    "- Insert new entry\n",
    "- Search for an entry\n",
    "- Delete an entry\n",
    "- Update an entry\n",
    "\n",
    "Each entry should have the following properties:\n",
    "\n",
    "- Title\n",
    "- Username\n",
    "- Password\n",
    "- URL\n",
    "- Tags/Keywords: list\n",
    "- Note"
   ]
  },
  {
   "cell_type": "code",
   "execution_count": 6,
   "id": "0776b837-f954-45b6-8ae3-0919ff51bf42",
   "metadata": {},
   "outputs": [],
   "source": [
    "# Initialization\n",
    "import json\n",
    "import pickle"
   ]
  },
  {
   "cell_type": "code",
   "execution_count": 7,
   "id": "1e95b80e-2631-4928-9631-9c82edf929f7",
   "metadata": {},
   "outputs": [],
   "source": [
    "class Entry:        \n",
    "    def __init__(self, title, username, password, url=\"\", tags: list=[None], note=\"\"):\n",
    "        self.entry = {\"title\": title,\n",
    "                     \"username\": username,\n",
    "                     \"password\": password,\n",
    "                     \"url\": url,\n",
    "                     \"tags\": [i for i in tags],\n",
    "                     \"note\": note}\n",
    "        \n",
    "    def get(self):\n",
    "        return self.entry\n"
   ]
  },
  {
   "cell_type": "code",
   "execution_count": 8,
   "id": "e0c61899-3309-48f8-982f-e08b057db9a3",
   "metadata": {},
   "outputs": [],
   "source": [
    "class PM:\n",
    "    def __init__(self):\n",
    "        self.db = []\n",
    "        \n",
    "    def show_all(self):\n",
    "        return self.db\n",
    "    \n",
    "    def add(self, entry: Entry):\n",
    "        self.db.append(entry.get())\n",
    "        \n",
    "    def delete(self, title):\n",
    "        for entry in self.db:\n",
    "            if entry[\"title\"] == title:\n",
    "                self.db.remove(entry)\n",
    "                return True\n",
    "        return False\n",
    "    \n",
    "    def update(self, entry: Entry, index):\n",
    "        self.db[index] = entry.get()\n",
    "    \n",
    "    def search(self, title=\"\", tag=\"\"):\n",
    "        output = []\n",
    "        index = -1\n",
    "        for entry in self.db:\n",
    "            index += 1\n",
    "            appended = False\n",
    "            if entry[\"title\"] == title:\n",
    "                output.append(entry)\n",
    "                appended = True\n",
    "            if isinstance(entry[\"tags\"], list) and not appended:\n",
    "                for db_tag in entry[\"tags\"]:\n",
    "                    if db_tag == tag:\n",
    "                        output.append(entry)\n",
    "        return output, index\n",
    "    \n",
    "    def save_json(self, file_path=\"../data/password-manager_notebook.json\"):\n",
    "        str_db = json.dumps(self.db)\n",
    "        \n",
    "        with open(file_path, 'w') as f:\n",
    "            f.write(str_db)\n",
    "            \n",
    "        # f = open(file_path, 'w')\n",
    "        # f.write(str_db)\n",
    "        # f.close()\n",
    "            \n",
    "    def load_json(self, file_path=\"../data/password-manager_notebook.json\"):\n",
    "        f = open(file_path, 'r')\n",
    "        self.db = json.load(f)\n",
    "        \n",
    "    def save_pickle(self, file_path=\"../data/password-manager_notebook.pkl\"):\n",
    "        with open(file_path, 'wb') as pickle_file:\n",
    "            pickle.dump(self.db, pickle_file)\n",
    "            \n",
    "    def load_pickle(self, file_path=\"../data/password-manager_notebook.pkl\"):\n",
    "        with open(file_path, 'rb') as pickle_file:\n",
    "            self.db = pickle.load(pickle_file)\n",
    "    "
   ]
  },
  {
   "cell_type": "code",
   "execution_count": 9,
   "id": "a66bfe69-d534-41dc-ac41-6ecc3f5d3466",
   "metadata": {},
   "outputs": [
    {
     "name": "stdout",
     "output_type": "stream",
     "text": [
      "****\n",
      "[{'title': 'Facebook', 'username': 'kaveh', 'password': '12345', 'url': 'https://fb.com', 'tags': ['social media', 'friends'], 'note': ''}, {'title': 'Gmail', 'username': 'kaveh', 'password': '54321', 'url': 'https://gmail.com', 'tags': [None], 'note': ''}, {'title': 'Gmail', 'username': 'lasalle', 'password': '54321', 'url': 'https://gmail.com', 'tags': [None], 'note': ''}]\n",
      "****\n",
      "[{'title': 'Facebook', 'username': 'kaveh', 'password': '12345', 'url': 'https://fb.com', 'tags': ['social media', 'friends'], 'note': ''}, {'title': 'Gmail', 'username': 'lasalle', 'password': '54321', 'url': 'https://gmail.com', 'tags': [None], 'note': ''}]\n"
     ]
    }
   ],
   "source": [
    "fb = Entry(\"Facebook\", \"kaveh\", \"12345\", \"https://fb.com\", [\"social media\", \"friends\"])\n",
    "gmail1 = Entry(\"Gmail\", \"kaveh\", \"54321\", \"https://gmail.com\")\n",
    "gmail2 = Entry(\"Gmail\", \"lasalle\", \"54321\", \"https://gmail.com\")\n",
    "\n",
    "pm = PM()\n",
    "pm.add(fb)\n",
    "pm.add(gmail1)\n",
    "pm.add(gmail2)\n",
    "\n",
    "print(\"****\")\n",
    "print(pm.show_all())\n",
    "pm.delete('Gmail')\n",
    "\n",
    "print(\"****\")\n",
    "print(pm.show_all())"
   ]
  },
  {
   "cell_type": "code",
   "execution_count": 11,
   "id": "fe2e2d00-cf16-4d93-bd65-f3c8a3590b4a",
   "metadata": {},
   "outputs": [
    {
     "name": "stdout",
     "output_type": "stream",
     "text": [
      "([{'title': 'Gmail', 'username': 'lasalle', 'password': '54321', 'url': 'https://gmail.com', 'tags': [None], 'note': ''}], 1)\n"
     ]
    }
   ],
   "source": [
    "print(pm.search('Gmail'))"
   ]
  },
  {
   "cell_type": "code",
   "execution_count": 12,
   "id": "88c8eb2f-2bd6-4301-a7eb-b710d339c113",
   "metadata": {},
   "outputs": [],
   "source": [
    "pm.save_json()\n",
    "pm.save_pickle()"
   ]
  },
  {
   "cell_type": "code",
   "execution_count": 13,
   "id": "ad9d70e7-e49d-48d6-8b74-06645f4d153e",
   "metadata": {},
   "outputs": [
    {
     "name": "stdout",
     "output_type": "stream",
     "text": [
      "[]\n"
     ]
    }
   ],
   "source": [
    "pm2 = PM()\n",
    "print(pm2.show_all())"
   ]
  },
  {
   "cell_type": "code",
   "execution_count": 14,
   "id": "842c85ff-8718-45cb-9965-1743d2487138",
   "metadata": {},
   "outputs": [
    {
     "name": "stdout",
     "output_type": "stream",
     "text": [
      "[{'title': 'Facebook', 'username': 'kaveh', 'password': '12345', 'url': 'https://fb.com', 'tags': ['social media', 'friends'], 'note': ''}, {'title': 'Gmail', 'username': 'lasalle', 'password': '54321', 'url': 'https://gmail.com', 'tags': [None], 'note': ''}]\n"
     ]
    }
   ],
   "source": [
    "pm2.load_json()\n",
    "print(pm2.show_all())"
   ]
  },
  {
   "cell_type": "code",
   "execution_count": 15,
   "id": "9db2d15c-696f-45e7-a200-58faa623395d",
   "metadata": {},
   "outputs": [
    {
     "name": "stdout",
     "output_type": "stream",
     "text": [
      "[{'title': 'Facebook', 'username': 'kaveh', 'password': '12345', 'url': 'https://fb.com', 'tags': ['social media', 'friends'], 'note': ''}, {'title': 'Gmail', 'username': 'lasalle', 'password': '54321', 'url': 'https://gmail.com', 'tags': [None], 'note': ''}]\n"
     ]
    }
   ],
   "source": [
    "pm3 = PM()\n",
    "pm3.load_pickle()\n",
    "print(pm3.show_all())"
   ]
  },
  {
   "cell_type": "markdown",
   "id": "1f4d2faf-ccac-4944-ab43-f7a41a80f456",
   "metadata": {},
   "source": [
    "## Update"
   ]
  },
  {
   "cell_type": "code",
   "execution_count": 18,
   "id": "f60f67ab-beab-4f3d-b120-8b08a059d64a",
   "metadata": {},
   "outputs": [
    {
     "name": "stdout",
     "output_type": "stream",
     "text": [
      "Entry:  [{'title': 'Gmail', 'username': 'lasalle', 'password': '54321', 'url': 'https://gmail.com', 'tags': [None], 'note': ''}]\n",
      "Index:  1\n"
     ]
    }
   ],
   "source": [
    "old_entry, old_index = pm3.search(title=\"Gmail\")\n",
    "print(\"Entry: \", old_entry)\n",
    "print(\"Index: \", old_index)"
   ]
  },
  {
   "cell_type": "code",
   "execution_count": 19,
   "id": "337bd54d-c359-435b-ad48-e45341ae00b3",
   "metadata": {},
   "outputs": [
    {
     "name": "stdout",
     "output_type": "stream",
     "text": [
      "[{'title': 'Facebook', 'username': 'kaveh', 'password': '12345', 'url': 'https://fb.com', 'tags': ['social media', 'friends'], 'note': ''}, {'title': 'Personal Gmail', 'username': 'kavehb', 'password': 'abcdefg', 'url': 'https://www.gmail.com', 'tags': [None], 'note': ''}]\n"
     ]
    }
   ],
   "source": [
    "new_entry = Entry(\"Personal Gmail\", \"kavehb\", \"abcdefg\", \"https://www.gmail.com\")\n",
    "pm3.update(new_entry, old_index)\n",
    "print(pm3.show_all())"
   ]
  },
  {
   "cell_type": "code",
   "execution_count": null,
   "id": "c94e3062-a5ba-487b-976f-f7fc9ff63b6e",
   "metadata": {},
   "outputs": [],
   "source": []
  }
 ],
 "metadata": {
  "kernelspec": {
   "display_name": "Python 3 (ipykernel)",
   "language": "python",
   "name": "python3"
  },
  "language_info": {
   "codemirror_mode": {
    "name": "ipython",
    "version": 3
   },
   "file_extension": ".py",
   "mimetype": "text/x-python",
   "name": "python",
   "nbconvert_exporter": "python",
   "pygments_lexer": "ipython3",
   "version": "3.8.13"
  }
 },
 "nbformat": 4,
 "nbformat_minor": 5
}
