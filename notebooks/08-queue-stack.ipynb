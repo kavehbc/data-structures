{
 "cells": [
  {
   "cell_type": "markdown",
   "id": "a01b546b-80ff-4c1b-ae00-f139ad3b1e6a",
   "metadata": {},
   "source": [
    "# Queue"
   ]
  },
  {
   "cell_type": "markdown",
   "id": "c4491875-ddfe-4e98-afd2-00b4c15bec00",
   "metadata": {},
   "source": [
    "## FIFO - First In - First Out"
   ]
  },
  {
   "cell_type": "code",
   "execution_count": 3,
   "id": "c33d654c-e7af-4b30-8d75-6be1bdea5d06",
   "metadata": {},
   "outputs": [
    {
     "data": {
      "text/plain": [
       "[]"
      ]
     },
     "execution_count": 3,
     "metadata": {},
     "output_type": "execute_result"
    }
   ],
   "source": [
    "queue = []\n",
    "queue"
   ]
  },
  {
   "cell_type": "code",
   "execution_count": 4,
   "id": "807e380a-8674-423a-9b84-7354812f2a5c",
   "metadata": {},
   "outputs": [
    {
     "data": {
      "text/plain": [
       "['a', 'b', 'c', 'd']"
      ]
     },
     "execution_count": 4,
     "metadata": {},
     "output_type": "execute_result"
    }
   ],
   "source": [
    "queue.append('a')\n",
    "queue.append('b')\n",
    "queue.append('c')\n",
    "queue.append('d')\n",
    "queue"
   ]
  },
  {
   "cell_type": "code",
   "execution_count": 5,
   "id": "63eaa32d-42a4-407a-990e-20ed049ba0ea",
   "metadata": {},
   "outputs": [
    {
     "data": {
      "text/plain": [
       "['a', 'b', 'c', 'd', 'e']"
      ]
     },
     "execution_count": 5,
     "metadata": {},
     "output_type": "execute_result"
    }
   ],
   "source": [
    "queue.append('e')\n",
    "queue"
   ]
  },
  {
   "cell_type": "code",
   "execution_count": 6,
   "id": "49bb1528-f000-4bc3-a002-74b0226caed0",
   "metadata": {},
   "outputs": [
    {
     "data": {
      "text/plain": [
       "'a'"
      ]
     },
     "execution_count": 6,
     "metadata": {},
     "output_type": "execute_result"
    }
   ],
   "source": [
    "queue.pop(0)"
   ]
  },
  {
   "cell_type": "code",
   "execution_count": 7,
   "id": "9e1be44e-040b-426b-b156-7994fab9745d",
   "metadata": {},
   "outputs": [
    {
     "data": {
      "text/plain": [
       "['b', 'c', 'd', 'e']"
      ]
     },
     "execution_count": 7,
     "metadata": {},
     "output_type": "execute_result"
    }
   ],
   "source": [
    "queue"
   ]
  },
  {
   "cell_type": "code",
   "execution_count": 8,
   "id": "8fe8b0fa-bc9c-4ece-a9de-f558551edd46",
   "metadata": {},
   "outputs": [
    {
     "data": {
      "text/plain": [
       "(['c', 'd', 'e'], 'b')"
      ]
     },
     "execution_count": 8,
     "metadata": {},
     "output_type": "execute_result"
    }
   ],
   "source": [
    "# pop(0) is similar to:\n",
    "\n",
    "value = queue[0]\n",
    "del queue[0]\n",
    "queue, value"
   ]
  },
  {
   "cell_type": "markdown",
   "id": "1aa26a6d-680c-44c3-b766-6e0ba6bc6071",
   "metadata": {},
   "source": [
    "# Stack"
   ]
  },
  {
   "cell_type": "markdown",
   "id": "2a7c8379-8ae6-48c2-808f-a932017e5c0e",
   "metadata": {},
   "source": [
    "## LIFO - Last-In-First-Out"
   ]
  },
  {
   "cell_type": "code",
   "execution_count": 6,
   "id": "29543dfe-2957-4b8b-b341-d2297854500a",
   "metadata": {},
   "outputs": [],
   "source": [
    "stack = []"
   ]
  },
  {
   "cell_type": "code",
   "execution_count": 7,
   "id": "9c0e0182-bd3b-4efc-8c74-54a8d303a901",
   "metadata": {},
   "outputs": [
    {
     "data": {
      "text/plain": [
       "['a', 'b', 'c', 'd']"
      ]
     },
     "execution_count": 7,
     "metadata": {},
     "output_type": "execute_result"
    }
   ],
   "source": [
    "stack.append('a')\n",
    "stack.append('b')\n",
    "stack.append('c')\n",
    "stack.append('d')\n",
    "stack"
   ]
  },
  {
   "cell_type": "code",
   "execution_count": 9,
   "id": "776e179f-ac3b-4783-ac80-60e7bba9ea5b",
   "metadata": {},
   "outputs": [
    {
     "data": {
      "text/plain": [
       "'d'"
      ]
     },
     "execution_count": 9,
     "metadata": {},
     "output_type": "execute_result"
    }
   ],
   "source": [
    "stack.pop()"
   ]
  },
  {
   "cell_type": "code",
   "execution_count": 10,
   "id": "69048837-955c-4344-b4d1-60b8fc5387de",
   "metadata": {},
   "outputs": [
    {
     "data": {
      "text/plain": [
       "['a', 'b', 'c']"
      ]
     },
     "execution_count": 10,
     "metadata": {},
     "output_type": "execute_result"
    }
   ],
   "source": [
    "stack"
   ]
  },
  {
   "cell_type": "markdown",
   "id": "3971bdb9-01d1-45ce-a9e8-bf8efca6594b",
   "metadata": {},
   "source": [
    "# Deck of Cards"
   ]
  },
  {
   "cell_type": "markdown",
   "id": "a43fc1e8-125c-4b02-b74e-51b32cab40b4",
   "metadata": {},
   "source": [
    "We have a full deck of 52 cards of clubs, spades, heart and diamond.\n",
    "We would like to shuffle the cards and distribute them among 4 players."
   ]
  },
  {
   "cell_type": "code",
   "execution_count": 1,
   "id": "c964a440-3847-4f58-9e66-c0fcf58d5859",
   "metadata": {
    "tags": []
   },
   "outputs": [
    {
     "name": "stdout",
     "output_type": "stream",
     "text": [
      "['♣ 2', '♣ 3', '♣ 4', '♣ 5', '♣ 6', '♣ 7', '♣ 8', '♣ 9', '♣ 10', '♣ A', '♣ J', '♣ Q', '♣ K', '♦ 2', '♦ 3', '♦ 4', '♦ 5', '♦ 6', '♦ 7', '♦ 8', '♦ 9', '♦ 10', '♦ A', '♦ J', '♦ Q', '♦ K', '♥ 2', '♥ 3', '♥ 4', '♥ 5', '♥ 6', '♥ 7', '♥ 8', '♥ 9', '♥ 10', '♥ A', '♥ J', '♥ Q', '♥ K', '♠ 2', '♠ 3', '♠ 4', '♠ 5', '♠ 6', '♠ 7', '♠ 8', '♠ 9', '♠ 10', '♠ A', '♠ J', '♠ Q', '♠ K']\n"
     ]
    }
   ],
   "source": [
    "# initialize my full deck of cards\n",
    "\n",
    "full_deck = []\n",
    "card_names = [\"♣\", \"♦\", \"♥\", \"♠\"]\n",
    "for symbol in card_names:\n",
    "    for card_number in range(2, 11):\n",
    "        full_deck.append(f\"{symbol} {card_number}\")\n",
    "        \n",
    "    full_deck.append(f\"{symbol} A\")\n",
    "    full_deck.append(f\"{symbol} J\")\n",
    "    full_deck.append(f\"{symbol} Q\")\n",
    "    full_deck.append(f\"{symbol} K\")\n",
    "    \n",
    "print(full_deck)"
   ]
  },
  {
   "cell_type": "code",
   "execution_count": 2,
   "id": "ba20a9fb-56d4-4bf2-ac37-49ae35b53465",
   "metadata": {},
   "outputs": [
    {
     "name": "stdout",
     "output_type": "stream",
     "text": [
      "['♠ Q', '♠ J', '♥ 8', '♥ K', '♠ 4', '♠ 9', '♥ 2', '♠ 8', '♥ Q', '♦ 8', '♥ 7', '♣ Q', '♥ 3', '♣ 10', '♥ A', '♥ 5', '♣ 6', '♠ 5', '♦ 5', '♠ K', '♦ 9', '♠ 2', '♦ 4', '♣ A', '♠ 3', '♦ 2', '♦ 6', '♥ 6', '♣ 8', '♠ 10', '♥ 4', '♣ 2', '♦ 7', '♥ J', '♠ 7', '♠ A', '♣ 7', '♥ 9', '♣ 5', '♣ 9', '♦ 10', '♥ 10', '♦ 3', '♣ J', '♣ K', '♣ 4', '♦ Q', '♠ 6', '♦ J', '♦ A', '♣ 3', '♦ K']\n"
     ]
    }
   ],
   "source": [
    "# shuffle my full deck\n",
    "import random\n",
    "\n",
    "random.shuffle(full_deck)\n",
    "print(full_deck)"
   ]
  },
  {
   "cell_type": "code",
   "execution_count": 3,
   "id": "44d8ac51-a6a7-47f4-a6c4-ad3888fca806",
   "metadata": {},
   "outputs": [
    {
     "name": "stdout",
     "output_type": "stream",
     "text": [
      "{'1': ['♦ K', '♠ 6', '♣ J', '♣ 9', '♠ A', '♣ 2', '♥ 6', '♣ A', '♠ K', '♥ 5', '♣ Q', '♠ 8', '♥ K'], '2': ['♣ 3', '♦ Q', '♦ 3', '♣ 5', '♠ 7', '♥ 4', '♦ 6', '♦ 4', '♦ 5', '♥ A', '♥ 7', '♥ 2', '♥ 8'], '3': ['♦ A', '♣ 4', '♥ 10', '♥ 9', '♥ J', '♠ 10', '♦ 2', '♠ 2', '♠ 5', '♣ 10', '♦ 8', '♠ 9', '♠ J'], '4': ['♦ J', '♣ K', '♦ 10', '♣ 7', '♦ 7', '♣ 8', '♠ 3', '♦ 9', '♣ 6', '♥ 3', '♥ Q', '♠ 4', '♠ Q']}\n"
     ]
    }
   ],
   "source": [
    "# distributing the cards among players\n",
    "\n",
    "players = {'1': [],\n",
    "           '2': [],\n",
    "           '3': [],\n",
    "           '4': []}\n",
    "\n",
    "while len(full_deck) > 0:\n",
    "    for player in players:\n",
    "        players[player].append(full_deck.pop())\n",
    "\n",
    "print(players)"
   ]
  },
  {
   "cell_type": "code",
   "execution_count": 4,
   "id": "98c9faa4-bd87-498e-ae74-cabde9a118c0",
   "metadata": {},
   "outputs": [],
   "source": [
    "# sorting each player's hand\n",
    "\n",
    "for player in players:\n",
    "    players[player].sort()"
   ]
  },
  {
   "cell_type": "code",
   "execution_count": 5,
   "id": "e675e12c-a095-4fb0-b55b-7c61acd22342",
   "metadata": {},
   "outputs": [
    {
     "name": "stdout",
     "output_type": "stream",
     "text": [
      "['♠ 6', '♠ 8', '♠ A', '♠ K', '♣ 2', '♣ 9', '♣ A', '♣ J', '♣ Q', '♥ 5', '♥ 6', '♥ K', '♦ K']\n"
     ]
    }
   ],
   "source": [
    "# printing player 1 cards\n",
    "\n",
    "print(players['1'])"
   ]
  },
  {
   "cell_type": "markdown",
   "id": "d7fad677-0542-4576-aaea-cfbe7f3d981e",
   "metadata": {},
   "source": [
    "## Sorting the cards in hand"
   ]
  },
  {
   "cell_type": "code",
   "execution_count": 6,
   "id": "ed58cea6-24f0-4bbe-ad08-0689edfd9b5c",
   "metadata": {},
   "outputs": [
    {
     "name": "stdout",
     "output_type": "stream",
     "text": [
      "{'1': ['♠ 6', '♠ 8', '♠ A', '♠ K', '♣ 2', '♣ 9', '♣ A', '♣ J', '♣ Q', '♥ 5', '♥ 6', '♥ K', '♦ K'], '2': ['♠ 7', '♣ 3', '♣ 5', '♥ 2', '♥ 4', '♥ 7', '♥ 8', '♥ A', '♦ 3', '♦ 4', '♦ 5', '♦ 6', '♦ Q'], '3': ['♠ 10', '♠ 2', '♠ 5', '♠ 9', '♠ J', '♣ 10', '♣ 4', '♥ 10', '♥ 9', '♥ J', '♦ 2', '♦ 8', '♦ A'], '4': ['♠ 3', '♠ 4', '♠ Q', '♣ 6', '♣ 7', '♣ 8', '♣ K', '♥ 3', '♥ Q', '♦ 10', '♦ 7', '♦ 9', '♦ J']}\n"
     ]
    }
   ],
   "source": [
    "for player in players.keys():\n",
    "    players[player].sort()\n",
    "\n",
    "print(players)"
   ]
  }
 ],
 "metadata": {
  "kernelspec": {
   "display_name": "Python 3 (ipykernel)",
   "language": "python",
   "name": "python3"
  },
  "language_info": {
   "codemirror_mode": {
    "name": "ipython",
    "version": 3
   },
   "file_extension": ".py",
   "mimetype": "text/x-python",
   "name": "python",
   "nbconvert_exporter": "python",
   "pygments_lexer": "ipython3",
   "version": "3.10.13"
  }
 },
 "nbformat": 4,
 "nbformat_minor": 5
}
